{
 "cells": [
  {
   "cell_type": "code",
   "execution_count": 13,
   "metadata": {},
   "outputs": [],
   "source": [
    "from time import time\n",
    "import tensorflow as tf\n",
    "from keras.models import Sequential\n",
    "from keras.layers import Input, Dropout, Dense, Conv2D, MaxPooling2D, Flatten\n",
    "from keras.callbacks import TensorBoard, ModelCheckpoint, EarlyStopping\n",
    "from keras import regularizers\n",
    "\n",
    "def cnn(X_train, y_train, X_test, y_test):\n",
    "    time_at_start = int(time())\n",
    "    conv_layers = [4, 5]\n",
    "    conv_layer_sizes = [2, 4]\n",
    "    dense_layers = [4, 5]\n",
    "    dense_layer_sizes = [2, 4]\n",
    "\n",
    "    EPOCHS = 50\n",
    "    BATCH_SIZE = 64\n",
    "\n",
    "    for dense_layer in dense_layers:\n",
    "        for dense_layer_size in dense_layer_sizes:\n",
    "                    for conv_layer in conv_layers:\n",
    "                        for conv_layer_size in conv_layer_sizes:\n",
    "                            name = f\"{conv_layer}C{conv_layer_size}-{dense_layer}D{dense_layer_size}-{int(time())}\"\n",
    "\n",
    "                            model = Sequential()\n",
    "                            model.add(Input(shape=(X_train.shape[1:])))\n",
    "\n",
    "                            for layer in range(conv_layer - 1):\n",
    "                                model.add(Conv2D(conv_layer_size, kernel_size=3, padding='valid', activation='relu'))\n",
    "                                model.add(MaxPooling2D(1))\n",
    "                    \n",
    "                            model.add(Conv2D(conv_layer_size, kernel_size=3, padding='valid', activation='relu'))\n",
    "                            model.add(MaxPooling2D(1))\n",
    "\n",
    "                            model.add(Flatten())\n",
    "\n",
    "                            for layer in range(dense_layer - 1):\n",
    "                                model.add(Dense(dense_layer_size, activation='relu', kernel_regularizer=regularizers.l2(0.01)))\n",
    "                                model.add(Dropout(0.3))\n",
    "\n",
    "                            model.add(Dense(5, activation='softmax'))\n",
    "\n",
    "                            opt = tf.keras.optimizers.RMSprop(learning_rate=0.0001)\n",
    "\n",
    "                            model.compile(loss='sparse_categorical_crossentropy',\n",
    "                                            optimizer=opt,\n",
    "                                            metrics=['accuracy'])\n",
    "\n",
    "                            tensorboard = TensorBoard(log_dir=f'cnniteration2logs-{time_at_start}/{name}')\n",
    "\n",
    "                            checkpoint_filepath = f\"cnniteration2models-{time_at_start}/\" + name + \"-{epoch:02d}-{val_accuracy:.3f}.hd5\"\n",
    "                            checkpoint = ModelCheckpoint(filepath=checkpoint_filepath, monitor='val_accuracy', verbose=1, save_best_only=True, mode='max')\n",
    "\n",
    "                            early_stopping = EarlyStopping(monitor='val_accuracy', baseline=0.5, patience=12)\n",
    "\n",
    "                            history = model.fit(\n",
    "                                X_train, y_train,\n",
    "                                batch_size=BATCH_SIZE,\n",
    "                                epochs=EPOCHS,\n",
    "                                validation_data=(X_test, y_test),\n",
    "                                callbacks=[tensorboard, checkpoint, early_stopping]\n",
    "                            )"
   ]
  },
  {
   "cell_type": "code",
   "execution_count": 14,
   "metadata": {},
   "outputs": [],
   "source": [
    "import glob\n",
    "\n",
    "jab_depth_files = [file for file in glob.glob('./numpy_data_arrays/jab/*depth.npz')]\n",
    "cross_depth_files = [file for file in glob.glob('./numpy_data_arrays/cross/*depth.npz')]\n",
    "left_hook_depth_files = [file for file in glob.glob('./numpy_data_arrays/left_hook/*depth.npz')]\n",
    "right_hook_depth_files = [file for file in glob.glob('./numpy_data_arrays/right_hook/*depth.npz')]\n",
    "random_depth_files = [file for file in glob.glob('./numpy_data_arrays/random/*depth.npz')]"
   ]
  },
  {
   "cell_type": "code",
   "execution_count": 15,
   "metadata": {},
   "outputs": [],
   "source": [
    "import numpy as np\n",
    "import cv2\n",
    "\n",
    "THRESHOLD_VALUE = 5\n",
    "MHI_DURATION = 2\n",
    "\n",
    "def generate_mhi(frames):\n",
    "    number_of_frames = frames.shape[0]\n",
    "    height = frames.shape[1]\n",
    "    width = frames.shape[2]\n",
    "    SAMHI_10 = np.zeros((height, width), dtype=np.float32)\n",
    "\n",
    "    for i in range(1, number_of_frames):\n",
    "        frame = frames[i]\n",
    "        frame[frame > 2200] = 0\n",
    "\n",
    "        image_binary = frame.astype(np.uint8)\n",
    "\n",
    "        num = 2\n",
    "        image_binary_prev = np.zeros((height, width), dtype=np.uint8)\n",
    "        difference = np.zeros((height, width), dtype=np.uint8)\n",
    "\n",
    "        if i == 1:\n",
    "            image_binary_prev = image_binary\n",
    "        elif (i % num) == 0:\n",
    "            difference = cv2.absdiff(image_binary_prev, image_binary)\n",
    "            image_binary_prev = image_binary\n",
    "\n",
    "        if i == num + 1:\n",
    "            _, image_binary_diff_5 = cv2.threshold(difference, THRESHOLD_VALUE, 255, cv2.THRESH_BINARY)\n",
    "            SAMHI_10 = cv2.motempl.updateMotionHistory(image_binary_diff_5, SAMHI_10, i / number_of_frames, MHI_DURATION)\n",
    "\n",
    "        if (i > num + 1 and i % num == 0):\n",
    "            _, image_binary_diff_5 = cv2.threshold(difference, THRESHOLD_VALUE, 255, cv2.THRESH_BINARY)\n",
    "            SAMHI_10 = cv2.motempl.updateMotionHistory(image_binary_diff_5, SAMHI_10, i / number_of_frames, MHI_DURATION)\n",
    "\n",
    "\n",
    "    SAMHI_10 = cv2.convertScaleAbs(SAMHI_10, alpha=255, beta=0)\n",
    "    return SAMHI_10"
   ]
  },
  {
   "cell_type": "code",
   "execution_count": 16,
   "metadata": {},
   "outputs": [],
   "source": [
    "import cv2\n",
    "import numpy as np\n",
    "\n",
    "X = []\n",
    "y = []\n",
    "\n",
    "\n",
    "for file in jab_depth_files:\n",
    "    file_name = file.split(\"\\\\\")[-1].split('.')[0]\n",
    "    depth_data = np.load(file)\n",
    "    depth_frames = depth_data['arr_0']\n",
    "    samhi = generate_mhi(depth_frames)\n",
    "    mhi_data = np.expand_dims(samhi, axis=-1)\n",
    "    X.append(mhi_data)\n",
    "    y.append(\"jab\")\n",
    "\n",
    "for file in cross_depth_files:\n",
    "    file_name = file.split(\"\\\\\")[-1].split('.')[0]\n",
    "    depth_data = np.load(file)\n",
    "    depth_frames = depth_data['arr_0']\n",
    "    samhi = generate_mhi(depth_frames)\n",
    "    mhi_data = np.expand_dims(samhi, axis=-1)\n",
    "    X.append(mhi_data)\n",
    "    y.append(\"cross\")\n",
    "\n",
    "for file in left_hook_depth_files:\n",
    "    file_name = file.split(\"\\\\\")[-1].split('.')[0]\n",
    "    depth_data = np.load(file)\n",
    "    depth_frames = depth_data['arr_0']\n",
    "    samhi = generate_mhi(depth_frames)\n",
    "    mhi_data = np.expand_dims(samhi, axis=-1)\n",
    "    X.append(mhi_data)\n",
    "    y.append(\"left_hook\")\n",
    "\n",
    "for file in right_hook_depth_files:\n",
    "    file_name = file.split(\"\\\\\")[-1].split('.')[0]\n",
    "    depth_data = np.load(file)\n",
    "    depth_frames = depth_data['arr_0']\n",
    "    samhi = generate_mhi(depth_frames)\n",
    "    mhi_data = np.expand_dims(samhi, axis=-1)\n",
    "    X.append(mhi_data)\n",
    "    y.append(\"right_hook\")\n",
    "\n",
    "for file in random_depth_files:\n",
    "    file_name = file.split(\"\\\\\")[-1].split('.')[0]\n",
    "    depth_data = np.load(file)\n",
    "    depth_frames = depth_data['arr_0']\n",
    "    samhi = generate_mhi(depth_frames)\n",
    "    mhi_data = np.expand_dims(samhi, axis=-1)\n",
    "    X.append(mhi_data)\n",
    "    y.append(\"random\")\n",
    "\n",
    "    # cv2.imshow(\"MHI\", samhi)\n",
    "    # cv2.imshow(\"Keypoint\", keyP1)\n",
    "    # if descriptors is not None and descriptors.shape[0] > 0:\n",
    "    #     cv2.imshow(\"Features\", descriptors)\n",
    "\n",
    "    # bow_descriptor = bow_descriptor_extractor.compute(samhi, keypoint)\n",
    "\n",
    "    # dataset_descriptors.append(bow_descriptor)\n",
    "    # dataset_labels.append(1)\n",
    "\n",
    "    # cv2.waitKey(0)\n",
    "    # cv2.destroyAllWindows()"
   ]
  },
  {
   "cell_type": "code",
   "execution_count": 17,
   "metadata": {},
   "outputs": [],
   "source": [
    "\n",
    "from sklearn.model_selection import train_test_split\n",
    "from sklearn.preprocessing import LabelEncoder\n",
    "from sklearn.utils import shuffle\n",
    "\n",
    "X = np.array(X)\n",
    "y = np.array(y)\n",
    "\n",
    "\n",
    "label_encoder = LabelEncoder()\n",
    "y = label_encoder.fit_transform(y)\n",
    "class_labels = label_encoder.classes_\n",
    "\n",
    "X, y = shuffle(X, y, random_state=0)\n",
    "\n",
    "X_train, X_test, y_train, y_test = train_test_split(X, y, test_size=0.7)"
   ]
  },
  {
   "cell_type": "code",
   "execution_count": 18,
   "metadata": {},
   "outputs": [
    {
     "name": "stdout",
     "output_type": "stream",
     "text": [
      "Epoch 1/50\n",
      "1/1 [==============================] - ETA: 0s - loss: 1.6786 - accuracy: 0.1892\n",
      "Epoch 1: val_accuracy improved from -inf to 0.15909, saving model to cnniteration2models-1686529304\\4C2-4D2-1686529304-01-0.159.hd5\n"
     ]
    },
    {
     "name": "stderr",
     "output_type": "stream",
     "text": [
      "WARNING:absl:Found untraced functions such as _jit_compiled_convolution_op, _jit_compiled_convolution_op, _jit_compiled_convolution_op, _jit_compiled_convolution_op, _update_step_xla while saving (showing 5 of 5). These functions will not be directly callable after loading.\n"
     ]
    },
    {
     "name": "stdout",
     "output_type": "stream",
     "text": [
      "INFO:tensorflow:Assets written to: cnniteration2models-1686529304\\4C2-4D2-1686529304-01-0.159.hd5\\assets\n"
     ]
    },
    {
     "name": "stderr",
     "output_type": "stream",
     "text": [
      "INFO:tensorflow:Assets written to: cnniteration2models-1686529304\\4C2-4D2-1686529304-01-0.159.hd5\\assets\n"
     ]
    },
    {
     "name": "stdout",
     "output_type": "stream",
     "text": [
      "1/1 [==============================] - 6s 6s/step - loss: 1.6786 - accuracy: 0.1892 - val_loss: 1.6864 - val_accuracy: 0.1591\n",
      "Epoch 2/50\n",
      "1/1 [==============================] - ETA: 0s - loss: 1.6697 - accuracy: 0.2973\n",
      "Epoch 2: val_accuracy did not improve from 0.15909\n",
      "1/1 [==============================] - 2s 2s/step - loss: 1.6697 - accuracy: 0.2973 - val_loss: 1.6876 - val_accuracy: 0.1591\n",
      "Epoch 3/50\n",
      "1/1 [==============================] - ETA: 0s - loss: 1.6465 - accuracy: 0.2973\n",
      "Epoch 3: val_accuracy did not improve from 0.15909\n",
      "1/1 [==============================] - 2s 2s/step - loss: 1.6465 - accuracy: 0.2973 - val_loss: 1.6891 - val_accuracy: 0.1591\n",
      "Epoch 4/50\n",
      "1/1 [==============================] - ETA: 0s - loss: 1.6659 - accuracy: 0.2973\n",
      "Epoch 4: val_accuracy did not improve from 0.15909\n",
      "1/1 [==============================] - 2s 2s/step - loss: 1.6659 - accuracy: 0.2973 - val_loss: 1.6848 - val_accuracy: 0.1591\n",
      "Epoch 5/50\n",
      "1/1 [==============================] - ETA: 0s - loss: 1.6137 - accuracy: 0.2973\n",
      "Epoch 5: val_accuracy did not improve from 0.15909\n",
      "1/1 [==============================] - 2s 2s/step - loss: 1.6137 - accuracy: 0.2973 - val_loss: 1.6859 - val_accuracy: 0.1591\n",
      "Epoch 6/50\n",
      "1/1 [==============================] - ETA: 0s - loss: 1.6537 - accuracy: 0.2973\n",
      "Epoch 6: val_accuracy did not improve from 0.15909\n",
      "1/1 [==============================] - 2s 2s/step - loss: 1.6537 - accuracy: 0.2973 - val_loss: 1.6819 - val_accuracy: 0.1591\n",
      "Epoch 7/50\n",
      "1/1 [==============================] - ETA: 0s - loss: 1.6078 - accuracy: 0.2703\n",
      "Epoch 7: val_accuracy did not improve from 0.15909\n",
      "1/1 [==============================] - 2s 2s/step - loss: 1.6078 - accuracy: 0.2703 - val_loss: 1.6820 - val_accuracy: 0.1591\n",
      "Epoch 8/50\n",
      "1/1 [==============================] - ETA: 0s - loss: 1.5787 - accuracy: 0.2703\n",
      "Epoch 8: val_accuracy did not improve from 0.15909\n",
      "1/1 [==============================] - 2s 2s/step - loss: 1.5787 - accuracy: 0.2703 - val_loss: 1.6797 - val_accuracy: 0.1591\n",
      "Epoch 9/50\n",
      "1/1 [==============================] - ETA: 0s - loss: 1.6084 - accuracy: 0.2973\n",
      "Epoch 9: val_accuracy did not improve from 0.15909\n",
      "1/1 [==============================] - 2s 2s/step - loss: 1.6084 - accuracy: 0.2973 - val_loss: 1.6805 - val_accuracy: 0.1591\n",
      "Epoch 10/50\n",
      "1/1 [==============================] - ETA: 0s - loss: 1.6076 - accuracy: 0.2703\n",
      "Epoch 10: val_accuracy did not improve from 0.15909\n",
      "1/1 [==============================] - 2s 2s/step - loss: 1.6076 - accuracy: 0.2703 - val_loss: 1.6786 - val_accuracy: 0.1591\n",
      "Epoch 11/50\n",
      "1/1 [==============================] - ETA: 0s - loss: 1.5805 - accuracy: 0.3243\n",
      "Epoch 11: val_accuracy did not improve from 0.15909\n",
      "1/1 [==============================] - 2s 2s/step - loss: 1.5805 - accuracy: 0.3243 - val_loss: 1.6804 - val_accuracy: 0.1591\n",
      "Epoch 12/50\n",
      "1/1 [==============================] - ETA: 0s - loss: 1.5920 - accuracy: 0.2432\n",
      "Epoch 12: val_accuracy did not improve from 0.15909\n",
      "1/1 [==============================] - 2s 2s/step - loss: 1.5920 - accuracy: 0.2432 - val_loss: 1.6798 - val_accuracy: 0.1591\n",
      "Epoch 1/50\n",
      "1/1 [==============================] - ETA: 0s - loss: 2.3676 - accuracy: 0.2432\n",
      "Epoch 1: val_accuracy improved from -inf to 0.21591, saving model to cnniteration2models-1686529304\\4C4-4D2-1686529331-01-0.216.hd5\n"
     ]
    },
    {
     "name": "stderr",
     "output_type": "stream",
     "text": [
      "WARNING:absl:Found untraced functions such as _jit_compiled_convolution_op, _jit_compiled_convolution_op, _jit_compiled_convolution_op, _jit_compiled_convolution_op, _update_step_xla while saving (showing 5 of 5). These functions will not be directly callable after loading.\n"
     ]
    },
    {
     "name": "stdout",
     "output_type": "stream",
     "text": [
      "INFO:tensorflow:Assets written to: cnniteration2models-1686529304\\4C4-4D2-1686529331-01-0.216.hd5\\assets\n"
     ]
    },
    {
     "name": "stderr",
     "output_type": "stream",
     "text": [
      "INFO:tensorflow:Assets written to: cnniteration2models-1686529304\\4C4-4D2-1686529331-01-0.216.hd5\\assets\n"
     ]
    },
    {
     "name": "stdout",
     "output_type": "stream",
     "text": [
      "1/1 [==============================] - 6s 6s/step - loss: 2.3676 - accuracy: 0.2432 - val_loss: 1.6879 - val_accuracy: 0.2159\n",
      "Epoch 2/50\n",
      "1/1 [==============================] - ETA: 0s - loss: 1.6879 - accuracy: 0.1892\n",
      "Epoch 2: val_accuracy did not improve from 0.21591\n",
      "1/1 [==============================] - 2s 2s/step - loss: 1.6879 - accuracy: 0.1892 - val_loss: 1.6875 - val_accuracy: 0.1591\n",
      "Epoch 3/50\n",
      "1/1 [==============================] - ETA: 0s - loss: 1.6874 - accuracy: 0.2973\n",
      "Epoch 3: val_accuracy did not improve from 0.21591\n",
      "1/1 [==============================] - 2s 2s/step - loss: 1.6874 - accuracy: 0.2973 - val_loss: 1.6871 - val_accuracy: 0.1591\n",
      "Epoch 4/50\n",
      "1/1 [==============================] - ETA: 0s - loss: 1.6870 - accuracy: 0.2973\n",
      "Epoch 4: val_accuracy did not improve from 0.21591\n",
      "1/1 [==============================] - 2s 2s/step - loss: 1.6870 - accuracy: 0.2973 - val_loss: 1.6867 - val_accuracy: 0.1591\n",
      "Epoch 5/50\n",
      "1/1 [==============================] - ETA: 0s - loss: 1.6865 - accuracy: 0.2973\n",
      "Epoch 5: val_accuracy did not improve from 0.21591\n",
      "1/1 [==============================] - 2s 2s/step - loss: 1.6865 - accuracy: 0.2973 - val_loss: 1.6864 - val_accuracy: 0.1591\n",
      "Epoch 6/50\n",
      "1/1 [==============================] - ETA: 0s - loss: 1.6861 - accuracy: 0.2973\n",
      "Epoch 6: val_accuracy did not improve from 0.21591\n",
      "1/1 [==============================] - 2s 2s/step - loss: 1.6861 - accuracy: 0.2973 - val_loss: 1.6860 - val_accuracy: 0.1591\n",
      "Epoch 7/50\n",
      "1/1 [==============================] - ETA: 0s - loss: 1.6857 - accuracy: 0.2973\n",
      "Epoch 7: val_accuracy did not improve from 0.21591\n",
      "1/1 [==============================] - 2s 2s/step - loss: 1.6857 - accuracy: 0.2973 - val_loss: 1.6856 - val_accuracy: 0.1591\n",
      "Epoch 8/50\n",
      "1/1 [==============================] - ETA: 0s - loss: 1.6852 - accuracy: 0.2973\n",
      "Epoch 8: val_accuracy did not improve from 0.21591\n",
      "1/1 [==============================] - 2s 2s/step - loss: 1.6852 - accuracy: 0.2973 - val_loss: 1.6852 - val_accuracy: 0.1591\n",
      "Epoch 9/50\n",
      "1/1 [==============================] - ETA: 0s - loss: 1.6848 - accuracy: 0.2973\n",
      "Epoch 9: val_accuracy did not improve from 0.21591\n",
      "1/1 [==============================] - 2s 2s/step - loss: 1.6848 - accuracy: 0.2973 - val_loss: 1.6848 - val_accuracy: 0.1591\n",
      "Epoch 10/50\n",
      "1/1 [==============================] - ETA: 0s - loss: 1.6844 - accuracy: 0.2973\n",
      "Epoch 10: val_accuracy did not improve from 0.21591\n",
      "1/1 [==============================] - 2s 2s/step - loss: 1.6844 - accuracy: 0.2973 - val_loss: 1.6845 - val_accuracy: 0.1591\n",
      "Epoch 11/50\n",
      "1/1 [==============================] - ETA: 0s - loss: 1.6840 - accuracy: 0.2973\n",
      "Epoch 11: val_accuracy did not improve from 0.21591\n",
      "1/1 [==============================] - 2s 2s/step - loss: 1.6840 - accuracy: 0.2973 - val_loss: 1.6841 - val_accuracy: 0.1591\n",
      "Epoch 12/50\n",
      "1/1 [==============================] - ETA: 0s - loss: 1.6836 - accuracy: 0.2973\n",
      "Epoch 12: val_accuracy did not improve from 0.21591\n",
      "1/1 [==============================] - 2s 2s/step - loss: 1.6836 - accuracy: 0.2973 - val_loss: 1.6838 - val_accuracy: 0.1591\n",
      "Epoch 1/50\n",
      "1/1 [==============================] - ETA: 0s - loss: 1.6833 - accuracy: 0.1622\n",
      "Epoch 1: val_accuracy improved from -inf to 0.14773, saving model to cnniteration2models-1686529304\\5C2-4D2-1686529363-01-0.148.hd5\n"
     ]
    },
    {
     "name": "stderr",
     "output_type": "stream",
     "text": [
      "WARNING:absl:Found untraced functions such as _jit_compiled_convolution_op, _jit_compiled_convolution_op, _jit_compiled_convolution_op, _jit_compiled_convolution_op, _jit_compiled_convolution_op while saving (showing 5 of 6). These functions will not be directly callable after loading.\n"
     ]
    },
    {
     "name": "stdout",
     "output_type": "stream",
     "text": [
      "INFO:tensorflow:Assets written to: cnniteration2models-1686529304\\5C2-4D2-1686529363-01-0.148.hd5\\assets\n"
     ]
    },
    {
     "name": "stderr",
     "output_type": "stream",
     "text": [
      "INFO:tensorflow:Assets written to: cnniteration2models-1686529304\\5C2-4D2-1686529363-01-0.148.hd5\\assets\n"
     ]
    },
    {
     "name": "stdout",
     "output_type": "stream",
     "text": [
      "1/1 [==============================] - 7s 7s/step - loss: 1.6833 - accuracy: 0.1622 - val_loss: 1.6832 - val_accuracy: 0.1477\n",
      "Epoch 2/50\n",
      "1/1 [==============================] - ETA: 0s - loss: 1.6812 - accuracy: 0.3243\n",
      "Epoch 2: val_accuracy improved from 0.14773 to 0.19318, saving model to cnniteration2models-1686529304\\5C2-4D2-1686529363-02-0.193.hd5\n"
     ]
    },
    {
     "name": "stderr",
     "output_type": "stream",
     "text": [
      "WARNING:absl:Found untraced functions such as _jit_compiled_convolution_op, _jit_compiled_convolution_op, _jit_compiled_convolution_op, _jit_compiled_convolution_op, _jit_compiled_convolution_op while saving (showing 5 of 6). These functions will not be directly callable after loading.\n"
     ]
    },
    {
     "name": "stdout",
     "output_type": "stream",
     "text": [
      "INFO:tensorflow:Assets written to: cnniteration2models-1686529304\\5C2-4D2-1686529363-02-0.193.hd5\\assets\n"
     ]
    },
    {
     "name": "stderr",
     "output_type": "stream",
     "text": [
      "INFO:tensorflow:Assets written to: cnniteration2models-1686529304\\5C2-4D2-1686529363-02-0.193.hd5\\assets\n"
     ]
    },
    {
     "name": "stdout",
     "output_type": "stream",
     "text": [
      "1/1 [==============================] - 6s 6s/step - loss: 1.6812 - accuracy: 0.3243 - val_loss: 1.6833 - val_accuracy: 0.1932\n",
      "Epoch 3/50\n",
      "1/1 [==============================] - ETA: 0s - loss: 1.6588 - accuracy: 0.2973\n",
      "Epoch 3: val_accuracy did not improve from 0.19318\n",
      "1/1 [==============================] - 2s 2s/step - loss: 1.6588 - accuracy: 0.2973 - val_loss: 1.6830 - val_accuracy: 0.1932\n",
      "Epoch 4/50\n",
      "1/1 [==============================] - ETA: 0s - loss: 1.6871 - accuracy: 0.1892\n",
      "Epoch 4: val_accuracy did not improve from 0.19318\n",
      "1/1 [==============================] - 2s 2s/step - loss: 1.6871 - accuracy: 0.1892 - val_loss: 1.6816 - val_accuracy: 0.1932\n",
      "Epoch 5/50\n",
      "1/1 [==============================] - ETA: 0s - loss: 1.6749 - accuracy: 0.2703\n",
      "Epoch 5: val_accuracy did not improve from 0.19318\n",
      "1/1 [==============================] - 2s 2s/step - loss: 1.6749 - accuracy: 0.2703 - val_loss: 1.6812 - val_accuracy: 0.1932\n",
      "Epoch 6/50\n",
      "1/1 [==============================] - ETA: 0s - loss: 1.6819 - accuracy: 0.2162\n",
      "Epoch 6: val_accuracy did not improve from 0.19318\n",
      "1/1 [==============================] - 2s 2s/step - loss: 1.6819 - accuracy: 0.2162 - val_loss: 1.6802 - val_accuracy: 0.1932\n",
      "Epoch 7/50\n",
      "1/1 [==============================] - ETA: 0s - loss: 1.6561 - accuracy: 0.2973\n",
      "Epoch 7: val_accuracy did not improve from 0.19318\n",
      "1/1 [==============================] - 2s 2s/step - loss: 1.6561 - accuracy: 0.2973 - val_loss: 1.6831 - val_accuracy: 0.1932\n",
      "Epoch 8/50\n",
      "1/1 [==============================] - ETA: 0s - loss: 1.6252 - accuracy: 0.2432\n",
      "Epoch 8: val_accuracy improved from 0.19318 to 0.20455, saving model to cnniteration2models-1686529304\\5C2-4D2-1686529363-08-0.205.hd5\n"
     ]
    },
    {
     "name": "stderr",
     "output_type": "stream",
     "text": [
      "WARNING:absl:Found untraced functions such as _jit_compiled_convolution_op, _jit_compiled_convolution_op, _jit_compiled_convolution_op, _jit_compiled_convolution_op, _jit_compiled_convolution_op while saving (showing 5 of 6). These functions will not be directly callable after loading.\n"
     ]
    },
    {
     "name": "stdout",
     "output_type": "stream",
     "text": [
      "INFO:tensorflow:Assets written to: cnniteration2models-1686529304\\5C2-4D2-1686529363-08-0.205.hd5\\assets\n"
     ]
    },
    {
     "name": "stderr",
     "output_type": "stream",
     "text": [
      "INFO:tensorflow:Assets written to: cnniteration2models-1686529304\\5C2-4D2-1686529363-08-0.205.hd5\\assets\n"
     ]
    },
    {
     "name": "stdout",
     "output_type": "stream",
     "text": [
      "1/1 [==============================] - 5s 5s/step - loss: 1.6252 - accuracy: 0.2432 - val_loss: 1.6781 - val_accuracy: 0.2045\n",
      "Epoch 9/50\n",
      "1/1 [==============================] - ETA: 0s - loss: 1.6200 - accuracy: 0.3514\n",
      "Epoch 9: val_accuracy improved from 0.20455 to 0.23864, saving model to cnniteration2models-1686529304\\5C2-4D2-1686529363-09-0.239.hd5\n"
     ]
    },
    {
     "name": "stderr",
     "output_type": "stream",
     "text": [
      "WARNING:absl:Found untraced functions such as _jit_compiled_convolution_op, _jit_compiled_convolution_op, _jit_compiled_convolution_op, _jit_compiled_convolution_op, _jit_compiled_convolution_op while saving (showing 5 of 6). These functions will not be directly callable after loading.\n"
     ]
    },
    {
     "name": "stdout",
     "output_type": "stream",
     "text": [
      "INFO:tensorflow:Assets written to: cnniteration2models-1686529304\\5C2-4D2-1686529363-09-0.239.hd5\\assets\n"
     ]
    },
    {
     "name": "stderr",
     "output_type": "stream",
     "text": [
      "INFO:tensorflow:Assets written to: cnniteration2models-1686529304\\5C2-4D2-1686529363-09-0.239.hd5\\assets\n"
     ]
    },
    {
     "name": "stdout",
     "output_type": "stream",
     "text": [
      "1/1 [==============================] - 5s 5s/step - loss: 1.6200 - accuracy: 0.3514 - val_loss: 1.6773 - val_accuracy: 0.2386\n",
      "Epoch 10/50\n",
      "1/1 [==============================] - ETA: 0s - loss: 1.6274 - accuracy: 0.2973\n",
      "Epoch 10: val_accuracy did not improve from 0.23864\n",
      "1/1 [==============================] - 2s 2s/step - loss: 1.6274 - accuracy: 0.2973 - val_loss: 1.6770 - val_accuracy: 0.2159\n",
      "Epoch 11/50\n",
      "1/1 [==============================] - ETA: 0s - loss: 1.6467 - accuracy: 0.2703\n",
      "Epoch 11: val_accuracy did not improve from 0.23864\n",
      "1/1 [==============================] - 2s 2s/step - loss: 1.6467 - accuracy: 0.2703 - val_loss: 1.6759 - val_accuracy: 0.2159\n",
      "Epoch 12/50\n",
      "1/1 [==============================] - ETA: 0s - loss: 1.5652 - accuracy: 0.3784\n",
      "Epoch 12: val_accuracy did not improve from 0.23864\n",
      "1/1 [==============================] - 2s 2s/step - loss: 1.5652 - accuracy: 0.3784 - val_loss: 1.6764 - val_accuracy: 0.1932\n",
      "Epoch 1/50\n",
      "1/1 [==============================] - ETA: 0s - loss: 1.6922 - accuracy: 0.2432\n",
      "Epoch 1: val_accuracy improved from -inf to 0.15909, saving model to cnniteration2models-1686529304\\5C4-4D2-1686529405-01-0.159.hd5\n"
     ]
    },
    {
     "name": "stderr",
     "output_type": "stream",
     "text": [
      "WARNING:absl:Found untraced functions such as _jit_compiled_convolution_op, _jit_compiled_convolution_op, _jit_compiled_convolution_op, _jit_compiled_convolution_op, _jit_compiled_convolution_op while saving (showing 5 of 6). These functions will not be directly callable after loading.\n"
     ]
    },
    {
     "name": "stdout",
     "output_type": "stream",
     "text": [
      "INFO:tensorflow:Assets written to: cnniteration2models-1686529304\\5C4-4D2-1686529405-01-0.159.hd5\\assets\n"
     ]
    },
    {
     "name": "stderr",
     "output_type": "stream",
     "text": [
      "INFO:tensorflow:Assets written to: cnniteration2models-1686529304\\5C4-4D2-1686529405-01-0.159.hd5\\assets\n"
     ]
    },
    {
     "name": "stdout",
     "output_type": "stream",
     "text": [
      "1/1 [==============================] - 7s 7s/step - loss: 1.6922 - accuracy: 0.2432 - val_loss: 1.6711 - val_accuracy: 0.1591\n",
      "Epoch 2/50\n",
      "1/1 [==============================] - ETA: 0s - loss: 1.6706 - accuracy: 0.2973\n",
      "Epoch 2: val_accuracy did not improve from 0.15909\n",
      "1/1 [==============================] - 3s 3s/step - loss: 1.6706 - accuracy: 0.2973 - val_loss: 1.6707 - val_accuracy: 0.1591\n",
      "Epoch 3/50\n",
      "1/1 [==============================] - ETA: 0s - loss: 1.6701 - accuracy: 0.2973\n",
      "Epoch 3: val_accuracy did not improve from 0.15909\n",
      "1/1 [==============================] - 3s 3s/step - loss: 1.6701 - accuracy: 0.2973 - val_loss: 1.6702 - val_accuracy: 0.1591\n",
      "Epoch 4/50\n",
      "1/1 [==============================] - ETA: 0s - loss: 1.6696 - accuracy: 0.2973\n",
      "Epoch 4: val_accuracy did not improve from 0.15909\n",
      "1/1 [==============================] - 3s 3s/step - loss: 1.6696 - accuracy: 0.2973 - val_loss: 1.6698 - val_accuracy: 0.1591\n",
      "Epoch 5/50\n",
      "1/1 [==============================] - ETA: 0s - loss: 1.6691 - accuracy: 0.2973\n",
      "Epoch 5: val_accuracy did not improve from 0.15909\n",
      "1/1 [==============================] - 3s 3s/step - loss: 1.6691 - accuracy: 0.2973 - val_loss: 1.6694 - val_accuracy: 0.1591\n",
      "Epoch 6/50\n",
      "1/1 [==============================] - ETA: 0s - loss: 1.6687 - accuracy: 0.2973\n",
      "Epoch 6: val_accuracy did not improve from 0.15909\n",
      "1/1 [==============================] - 3s 3s/step - loss: 1.6687 - accuracy: 0.2973 - val_loss: 1.6690 - val_accuracy: 0.1591\n",
      "Epoch 7/50\n",
      "1/1 [==============================] - ETA: 0s - loss: 1.6682 - accuracy: 0.2973\n",
      "Epoch 7: val_accuracy did not improve from 0.15909\n",
      "1/1 [==============================] - 3s 3s/step - loss: 1.6682 - accuracy: 0.2973 - val_loss: 1.6685 - val_accuracy: 0.1591\n",
      "Epoch 8/50\n",
      "1/1 [==============================] - ETA: 0s - loss: 1.6677 - accuracy: 0.2973\n",
      "Epoch 8: val_accuracy did not improve from 0.15909\n",
      "1/1 [==============================] - 3s 3s/step - loss: 1.6677 - accuracy: 0.2973 - val_loss: 1.6681 - val_accuracy: 0.1591\n",
      "Epoch 9/50\n",
      "1/1 [==============================] - ETA: 0s - loss: 1.6673 - accuracy: 0.2973\n",
      "Epoch 9: val_accuracy did not improve from 0.15909\n",
      "1/1 [==============================] - 3s 3s/step - loss: 1.6673 - accuracy: 0.2973 - val_loss: 1.6677 - val_accuracy: 0.1591\n",
      "Epoch 10/50\n",
      "1/1 [==============================] - ETA: 0s - loss: 1.6668 - accuracy: 0.2973\n",
      "Epoch 10: val_accuracy did not improve from 0.15909\n",
      "1/1 [==============================] - 3s 3s/step - loss: 1.6668 - accuracy: 0.2973 - val_loss: 1.6673 - val_accuracy: 0.1591\n",
      "Epoch 11/50\n",
      "1/1 [==============================] - ETA: 0s - loss: 1.6664 - accuracy: 0.2973\n",
      "Epoch 11: val_accuracy did not improve from 0.15909\n",
      "1/1 [==============================] - 3s 3s/step - loss: 1.6664 - accuracy: 0.2973 - val_loss: 1.6669 - val_accuracy: 0.1591\n",
      "Epoch 12/50\n",
      "1/1 [==============================] - ETA: 0s - loss: 1.6660 - accuracy: 0.2973\n",
      "Epoch 12: val_accuracy did not improve from 0.15909\n",
      "1/1 [==============================] - 3s 3s/step - loss: 1.6660 - accuracy: 0.2973 - val_loss: 1.6665 - val_accuracy: 0.1591\n",
      "Epoch 1/50\n",
      "1/1 [==============================] - ETA: 0s - loss: 1.9787 - accuracy: 0.1622\n",
      "Epoch 1: val_accuracy improved from -inf to 0.20455, saving model to cnniteration2models-1686529304\\4C2-4D4-1686529445-01-0.205.hd5\n"
     ]
    },
    {
     "name": "stderr",
     "output_type": "stream",
     "text": [
      "WARNING:absl:Found untraced functions such as _jit_compiled_convolution_op, _jit_compiled_convolution_op, _jit_compiled_convolution_op, _jit_compiled_convolution_op, _update_step_xla while saving (showing 5 of 5). These functions will not be directly callable after loading.\n"
     ]
    },
    {
     "name": "stdout",
     "output_type": "stream",
     "text": [
      "INFO:tensorflow:Assets written to: cnniteration2models-1686529304\\4C2-4D4-1686529445-01-0.205.hd5\\assets\n"
     ]
    },
    {
     "name": "stderr",
     "output_type": "stream",
     "text": [
      "INFO:tensorflow:Assets written to: cnniteration2models-1686529304\\4C2-4D4-1686529445-01-0.205.hd5\\assets\n"
     ]
    },
    {
     "name": "stdout",
     "output_type": "stream",
     "text": [
      "1/1 [==============================] - 6s 6s/step - loss: 1.9787 - accuracy: 0.1622 - val_loss: 1.7587 - val_accuracy: 0.2045\n",
      "Epoch 2/50\n",
      "1/1 [==============================] - ETA: 0s - loss: 2.1374 - accuracy: 0.2432\n",
      "Epoch 2: val_accuracy did not improve from 0.20455\n",
      "1/1 [==============================] - 2s 2s/step - loss: 2.1374 - accuracy: 0.2432 - val_loss: 1.7723 - val_accuracy: 0.1591\n",
      "Epoch 3/50\n",
      "1/1 [==============================] - ETA: 0s - loss: 1.7491 - accuracy: 0.3243\n",
      "Epoch 3: val_accuracy did not improve from 0.20455\n",
      "1/1 [==============================] - 2s 2s/step - loss: 1.7491 - accuracy: 0.3243 - val_loss: 1.7714 - val_accuracy: 0.1591\n",
      "Epoch 4/50\n",
      "1/1 [==============================] - ETA: 0s - loss: 1.7596 - accuracy: 0.3243\n",
      "Epoch 4: val_accuracy did not improve from 0.20455\n",
      "1/1 [==============================] - 2s 2s/step - loss: 1.7596 - accuracy: 0.3243 - val_loss: 1.7707 - val_accuracy: 0.1591\n",
      "Epoch 5/50\n",
      "1/1 [==============================] - ETA: 0s - loss: 1.7704 - accuracy: 0.2973\n",
      "Epoch 5: val_accuracy did not improve from 0.20455\n",
      "1/1 [==============================] - 2s 2s/step - loss: 1.7704 - accuracy: 0.2973 - val_loss: 1.7699 - val_accuracy: 0.1591\n",
      "Epoch 6/50\n",
      "1/1 [==============================] - ETA: 0s - loss: 1.7696 - accuracy: 0.2973\n",
      "Epoch 6: val_accuracy did not improve from 0.20455\n",
      "1/1 [==============================] - 2s 2s/step - loss: 1.7696 - accuracy: 0.2973 - val_loss: 1.7691 - val_accuracy: 0.1591\n",
      "Epoch 7/50\n",
      "1/1 [==============================] - ETA: 0s - loss: 1.7688 - accuracy: 0.2973\n",
      "Epoch 7: val_accuracy did not improve from 0.20455\n",
      "1/1 [==============================] - 2s 2s/step - loss: 1.7688 - accuracy: 0.2973 - val_loss: 1.7683 - val_accuracy: 0.1591\n",
      "Epoch 8/50\n",
      "1/1 [==============================] - ETA: 0s - loss: 1.9743 - accuracy: 0.3243\n",
      "Epoch 8: val_accuracy did not improve from 0.20455\n",
      "1/1 [==============================] - 2s 2s/step - loss: 1.9743 - accuracy: 0.3243 - val_loss: 1.7676 - val_accuracy: 0.1591\n",
      "Epoch 9/50\n",
      "1/1 [==============================] - ETA: 0s - loss: 1.7322 - accuracy: 0.3243\n",
      "Epoch 9: val_accuracy did not improve from 0.20455\n",
      "1/1 [==============================] - 2s 2s/step - loss: 1.7322 - accuracy: 0.3243 - val_loss: 1.7668 - val_accuracy: 0.1591\n",
      "Epoch 10/50\n",
      "1/1 [==============================] - ETA: 0s - loss: 1.7295 - accuracy: 0.3243\n",
      "Epoch 10: val_accuracy did not improve from 0.20455\n",
      "1/1 [==============================] - 2s 2s/step - loss: 1.7295 - accuracy: 0.3243 - val_loss: 1.7661 - val_accuracy: 0.1591\n",
      "Epoch 11/50\n",
      "1/1 [==============================] - ETA: 0s - loss: 1.7656 - accuracy: 0.2973\n",
      "Epoch 11: val_accuracy did not improve from 0.20455\n",
      "1/1 [==============================] - 2s 2s/step - loss: 1.7656 - accuracy: 0.2973 - val_loss: 1.7653 - val_accuracy: 0.1591\n",
      "Epoch 12/50\n",
      "1/1 [==============================] - ETA: 0s - loss: 1.7676 - accuracy: 0.2973\n",
      "Epoch 12: val_accuracy did not improve from 0.20455\n",
      "1/1 [==============================] - 2s 2s/step - loss: 1.7676 - accuracy: 0.2973 - val_loss: 1.7646 - val_accuracy: 0.1591\n",
      "Epoch 1/50\n",
      "1/1 [==============================] - ETA: 0s - loss: 2.9967 - accuracy: 0.1892\n",
      "Epoch 1: val_accuracy improved from -inf to 0.19318, saving model to cnniteration2models-1686529304\\4C4-4D4-1686529471-01-0.193.hd5\n"
     ]
    },
    {
     "name": "stderr",
     "output_type": "stream",
     "text": [
      "WARNING:absl:Found untraced functions such as _jit_compiled_convolution_op, _jit_compiled_convolution_op, _jit_compiled_convolution_op, _jit_compiled_convolution_op, _update_step_xla while saving (showing 5 of 5). These functions will not be directly callable after loading.\n"
     ]
    },
    {
     "name": "stdout",
     "output_type": "stream",
     "text": [
      "INFO:tensorflow:Assets written to: cnniteration2models-1686529304\\4C4-4D4-1686529471-01-0.193.hd5\\assets\n"
     ]
    },
    {
     "name": "stderr",
     "output_type": "stream",
     "text": [
      "INFO:tensorflow:Assets written to: cnniteration2models-1686529304\\4C4-4D4-1686529471-01-0.193.hd5\\assets\n"
     ]
    },
    {
     "name": "stdout",
     "output_type": "stream",
     "text": [
      "1/1 [==============================] - 7s 7s/step - loss: 2.9967 - accuracy: 0.1892 - val_loss: 1.7593 - val_accuracy: 0.1932\n",
      "Epoch 2/50\n",
      "1/1 [==============================] - ETA: 0s - loss: 1.7580 - accuracy: 0.2162\n",
      "Epoch 2: val_accuracy did not improve from 0.19318\n",
      "1/1 [==============================] - 2s 2s/step - loss: 1.7580 - accuracy: 0.2162 - val_loss: 1.7587 - val_accuracy: 0.1591\n",
      "Epoch 3/50\n",
      "1/1 [==============================] - ETA: 0s - loss: 1.7462 - accuracy: 0.2703\n",
      "Epoch 3: val_accuracy did not improve from 0.19318\n",
      "1/1 [==============================] - 2s 2s/step - loss: 1.7462 - accuracy: 0.2703 - val_loss: 1.7581 - val_accuracy: 0.1591\n",
      "Epoch 4/50\n",
      "1/1 [==============================] - ETA: 0s - loss: 1.7554 - accuracy: 0.2973\n",
      "Epoch 4: val_accuracy did not improve from 0.19318\n",
      "1/1 [==============================] - 2s 2s/step - loss: 1.7554 - accuracy: 0.2973 - val_loss: 1.7575 - val_accuracy: 0.1591\n",
      "Epoch 5/50\n",
      "1/1 [==============================] - ETA: 0s - loss: 1.7536 - accuracy: 0.1892\n",
      "Epoch 5: val_accuracy did not improve from 0.19318\n",
      "1/1 [==============================] - 2s 2s/step - loss: 1.7536 - accuracy: 0.1892 - val_loss: 1.7569 - val_accuracy: 0.1591\n",
      "Epoch 6/50\n",
      "1/1 [==============================] - ETA: 0s - loss: 1.7607 - accuracy: 0.2973\n",
      "Epoch 6: val_accuracy did not improve from 0.19318\n",
      "1/1 [==============================] - 2s 2s/step - loss: 1.7607 - accuracy: 0.2973 - val_loss: 1.7563 - val_accuracy: 0.1591\n",
      "Epoch 7/50\n",
      "1/1 [==============================] - ETA: 0s - loss: 1.7694 - accuracy: 0.2703\n",
      "Epoch 7: val_accuracy did not improve from 0.19318\n",
      "1/1 [==============================] - 2s 2s/step - loss: 1.7694 - accuracy: 0.2703 - val_loss: 1.7557 - val_accuracy: 0.1591\n",
      "Epoch 8/50\n",
      "1/1 [==============================] - ETA: 0s - loss: 1.7536 - accuracy: 0.2973\n",
      "Epoch 8: val_accuracy did not improve from 0.19318\n",
      "1/1 [==============================] - 2s 2s/step - loss: 1.7536 - accuracy: 0.2973 - val_loss: 1.7552 - val_accuracy: 0.1591\n",
      "Epoch 9/50\n",
      "1/1 [==============================] - ETA: 0s - loss: 1.7517 - accuracy: 0.3243\n",
      "Epoch 9: val_accuracy did not improve from 0.19318\n",
      "1/1 [==============================] - 2s 2s/step - loss: 1.7517 - accuracy: 0.3243 - val_loss: 1.7546 - val_accuracy: 0.1591\n",
      "Epoch 10/50\n",
      "1/1 [==============================] - ETA: 0s - loss: 1.7518 - accuracy: 0.2703\n",
      "Epoch 10: val_accuracy did not improve from 0.19318\n",
      "1/1 [==============================] - 2s 2s/step - loss: 1.7518 - accuracy: 0.2703 - val_loss: 1.7541 - val_accuracy: 0.1591\n",
      "Epoch 11/50\n",
      "1/1 [==============================] - ETA: 0s - loss: 1.7678 - accuracy: 0.2973\n",
      "Epoch 11: val_accuracy did not improve from 0.19318\n",
      "1/1 [==============================] - 2s 2s/step - loss: 1.7678 - accuracy: 0.2973 - val_loss: 1.7535 - val_accuracy: 0.1591\n",
      "Epoch 12/50\n",
      "1/1 [==============================] - ETA: 0s - loss: 1.7611 - accuracy: 0.2973\n",
      "Epoch 12: val_accuracy did not improve from 0.19318\n",
      "1/1 [==============================] - 2s 2s/step - loss: 1.7611 - accuracy: 0.2973 - val_loss: 1.7530 - val_accuracy: 0.1591\n",
      "Epoch 1/50\n",
      "1/1 [==============================] - ETA: 0s - loss: 4.8194 - accuracy: 0.1622\n",
      "Epoch 1: val_accuracy improved from -inf to 0.19318, saving model to cnniteration2models-1686529304\\5C2-4D4-1686529504-01-0.193.hd5\n"
     ]
    },
    {
     "name": "stderr",
     "output_type": "stream",
     "text": [
      "WARNING:absl:Found untraced functions such as _jit_compiled_convolution_op, _jit_compiled_convolution_op, _jit_compiled_convolution_op, _jit_compiled_convolution_op, _jit_compiled_convolution_op while saving (showing 5 of 6). These functions will not be directly callable after loading.\n"
     ]
    },
    {
     "name": "stdout",
     "output_type": "stream",
     "text": [
      "INFO:tensorflow:Assets written to: cnniteration2models-1686529304\\5C2-4D4-1686529504-01-0.193.hd5\\assets\n"
     ]
    },
    {
     "name": "stderr",
     "output_type": "stream",
     "text": [
      "INFO:tensorflow:Assets written to: cnniteration2models-1686529304\\5C2-4D4-1686529504-01-0.193.hd5\\assets\n"
     ]
    },
    {
     "name": "stdout",
     "output_type": "stream",
     "text": [
      "1/1 [==============================] - 7s 7s/step - loss: 4.8194 - accuracy: 0.1622 - val_loss: 7.7099 - val_accuracy: 0.1932\n",
      "Epoch 2/50\n",
      "1/1 [==============================] - ETA: 0s - loss: 6.5102 - accuracy: 0.2432\n",
      "Epoch 2: val_accuracy did not improve from 0.19318\n",
      "1/1 [==============================] - 2s 2s/step - loss: 6.5102 - accuracy: 0.2432 - val_loss: 1.8435 - val_accuracy: 0.1477\n",
      "Epoch 3/50\n",
      "1/1 [==============================] - ETA: 0s - loss: 1.8573 - accuracy: 0.2432\n",
      "Epoch 3: val_accuracy did not improve from 0.19318\n",
      "1/1 [==============================] - 2s 2s/step - loss: 1.8573 - accuracy: 0.2432 - val_loss: 1.7845 - val_accuracy: 0.1591\n",
      "Epoch 4/50\n",
      "1/1 [==============================] - ETA: 0s - loss: 1.7844 - accuracy: 0.2973\n",
      "Epoch 4: val_accuracy did not improve from 0.19318\n",
      "1/1 [==============================] - 2s 2s/step - loss: 1.7844 - accuracy: 0.2973 - val_loss: 1.7839 - val_accuracy: 0.1591\n",
      "Epoch 5/50\n",
      "1/1 [==============================] - ETA: 0s - loss: 1.7837 - accuracy: 0.2973\n",
      "Epoch 5: val_accuracy did not improve from 0.19318\n",
      "1/1 [==============================] - 2s 2s/step - loss: 1.7837 - accuracy: 0.2973 - val_loss: 1.7833 - val_accuracy: 0.1591\n",
      "Epoch 6/50\n",
      "1/1 [==============================] - ETA: 0s - loss: 1.7831 - accuracy: 0.2973\n",
      "Epoch 6: val_accuracy did not improve from 0.19318\n",
      "1/1 [==============================] - 2s 2s/step - loss: 1.7831 - accuracy: 0.2973 - val_loss: 1.7827 - val_accuracy: 0.1591\n",
      "Epoch 7/50\n",
      "1/1 [==============================] - ETA: 0s - loss: 1.7825 - accuracy: 0.2973\n",
      "Epoch 7: val_accuracy did not improve from 0.19318\n",
      "1/1 [==============================] - 2s 2s/step - loss: 1.7825 - accuracy: 0.2973 - val_loss: 1.7821 - val_accuracy: 0.1591\n",
      "Epoch 8/50\n",
      "1/1 [==============================] - ETA: 0s - loss: 1.7819 - accuracy: 0.2973\n",
      "Epoch 8: val_accuracy did not improve from 0.19318\n",
      "1/1 [==============================] - 2s 2s/step - loss: 1.7819 - accuracy: 0.2973 - val_loss: 1.7816 - val_accuracy: 0.1591\n",
      "Epoch 9/50\n",
      "1/1 [==============================] - ETA: 0s - loss: 1.7813 - accuracy: 0.2973\n",
      "Epoch 9: val_accuracy did not improve from 0.19318\n",
      "1/1 [==============================] - 2s 2s/step - loss: 1.7813 - accuracy: 0.2973 - val_loss: 1.7810 - val_accuracy: 0.1591\n",
      "Epoch 10/50\n",
      "1/1 [==============================] - ETA: 0s - loss: 1.7807 - accuracy: 0.2973\n",
      "Epoch 10: val_accuracy did not improve from 0.19318\n",
      "1/1 [==============================] - 2s 2s/step - loss: 1.7807 - accuracy: 0.2973 - val_loss: 1.7805 - val_accuracy: 0.1591\n",
      "Epoch 11/50\n",
      "1/1 [==============================] - ETA: 0s - loss: 1.7801 - accuracy: 0.2973\n",
      "Epoch 11: val_accuracy did not improve from 0.19318\n",
      "1/1 [==============================] - 2s 2s/step - loss: 1.7801 - accuracy: 0.2973 - val_loss: 1.7799 - val_accuracy: 0.1591\n",
      "Epoch 12/50\n",
      "1/1 [==============================] - ETA: 0s - loss: 1.7795 - accuracy: 0.2973\n",
      "Epoch 12: val_accuracy did not improve from 0.19318\n",
      "1/1 [==============================] - 2s 2s/step - loss: 1.7795 - accuracy: 0.2973 - val_loss: 1.7794 - val_accuracy: 0.1591\n",
      "Epoch 1/50\n",
      "1/1 [==============================] - ETA: 0s - loss: 1.7873 - accuracy: 0.1622\n",
      "Epoch 1: val_accuracy improved from -inf to 0.15909, saving model to cnniteration2models-1686529304\\5C4-4D4-1686529535-01-0.159.hd5\n"
     ]
    },
    {
     "name": "stderr",
     "output_type": "stream",
     "text": [
      "WARNING:absl:Found untraced functions such as _jit_compiled_convolution_op, _jit_compiled_convolution_op, _jit_compiled_convolution_op, _jit_compiled_convolution_op, _jit_compiled_convolution_op while saving (showing 5 of 6). These functions will not be directly callable after loading.\n"
     ]
    },
    {
     "name": "stdout",
     "output_type": "stream",
     "text": [
      "INFO:tensorflow:Assets written to: cnniteration2models-1686529304\\5C4-4D4-1686529535-01-0.159.hd5\\assets\n"
     ]
    },
    {
     "name": "stderr",
     "output_type": "stream",
     "text": [
      "INFO:tensorflow:Assets written to: cnniteration2models-1686529304\\5C4-4D4-1686529535-01-0.159.hd5\\assets\n"
     ]
    },
    {
     "name": "stdout",
     "output_type": "stream",
     "text": [
      "1/1 [==============================] - 7s 7s/step - loss: 1.7873 - accuracy: 0.1622 - val_loss: 1.7533 - val_accuracy: 0.1591\n",
      "Epoch 2/50\n",
      "1/1 [==============================] - ETA: 0s - loss: 1.7474 - accuracy: 0.2703\n",
      "Epoch 2: val_accuracy improved from 0.15909 to 0.21591, saving model to cnniteration2models-1686529304\\5C4-4D4-1686529535-02-0.216.hd5\n"
     ]
    },
    {
     "name": "stderr",
     "output_type": "stream",
     "text": [
      "WARNING:absl:Found untraced functions such as _jit_compiled_convolution_op, _jit_compiled_convolution_op, _jit_compiled_convolution_op, _jit_compiled_convolution_op, _jit_compiled_convolution_op while saving (showing 5 of 6). These functions will not be directly callable after loading.\n"
     ]
    },
    {
     "name": "stdout",
     "output_type": "stream",
     "text": [
      "INFO:tensorflow:Assets written to: cnniteration2models-1686529304\\5C4-4D4-1686529535-02-0.216.hd5\\assets\n"
     ]
    },
    {
     "name": "stderr",
     "output_type": "stream",
     "text": [
      "INFO:tensorflow:Assets written to: cnniteration2models-1686529304\\5C4-4D4-1686529535-02-0.216.hd5\\assets\n"
     ]
    },
    {
     "name": "stdout",
     "output_type": "stream",
     "text": [
      "1/1 [==============================] - 6s 6s/step - loss: 1.7474 - accuracy: 0.2703 - val_loss: 2.3403 - val_accuracy: 0.2159\n",
      "Epoch 3/50\n",
      "1/1 [==============================] - ETA: 0s - loss: 3.6530 - accuracy: 0.2432\n",
      "Epoch 3: val_accuracy did not improve from 0.21591\n",
      "1/1 [==============================] - 3s 3s/step - loss: 3.6530 - accuracy: 0.2432 - val_loss: 1.7510 - val_accuracy: 0.1932\n",
      "Epoch 4/50\n",
      "1/1 [==============================] - ETA: 0s - loss: 1.7339 - accuracy: 0.2162\n",
      "Epoch 4: val_accuracy did not improve from 0.21591\n",
      "1/1 [==============================] - 3s 3s/step - loss: 1.7339 - accuracy: 0.2162 - val_loss: 1.7502 - val_accuracy: 0.1932\n",
      "Epoch 5/50\n",
      "1/1 [==============================] - ETA: 0s - loss: 1.7185 - accuracy: 0.2432\n",
      "Epoch 5: val_accuracy did not improve from 0.21591\n",
      "1/1 [==============================] - 3s 3s/step - loss: 1.7185 - accuracy: 0.2432 - val_loss: 1.7494 - val_accuracy: 0.1591\n",
      "Epoch 6/50\n",
      "1/1 [==============================] - ETA: 0s - loss: 1.7540 - accuracy: 0.2973\n",
      "Epoch 6: val_accuracy did not improve from 0.21591\n",
      "1/1 [==============================] - 3s 3s/step - loss: 1.7540 - accuracy: 0.2973 - val_loss: 1.7486 - val_accuracy: 0.1591\n",
      "Epoch 7/50\n",
      "1/1 [==============================] - ETA: 0s - loss: 1.8137 - accuracy: 0.2703\n",
      "Epoch 7: val_accuracy did not improve from 0.21591\n",
      "1/1 [==============================] - 3s 3s/step - loss: 1.8137 - accuracy: 0.2703 - val_loss: 1.7478 - val_accuracy: 0.1591\n",
      "Epoch 8/50\n",
      "1/1 [==============================] - ETA: 0s - loss: 1.7323 - accuracy: 0.2703\n",
      "Epoch 8: val_accuracy did not improve from 0.21591\n",
      "1/1 [==============================] - 3s 3s/step - loss: 1.7323 - accuracy: 0.2703 - val_loss: 1.7470 - val_accuracy: 0.1591\n",
      "Epoch 9/50\n",
      "1/1 [==============================] - ETA: 0s - loss: 1.7459 - accuracy: 0.2973\n",
      "Epoch 9: val_accuracy did not improve from 0.21591\n",
      "1/1 [==============================] - 3s 3s/step - loss: 1.7459 - accuracy: 0.2973 - val_loss: 1.7462 - val_accuracy: 0.1591\n",
      "Epoch 10/50\n",
      "1/1 [==============================] - ETA: 0s - loss: 1.7472 - accuracy: 0.2973\n",
      "Epoch 10: val_accuracy did not improve from 0.21591\n",
      "1/1 [==============================] - 3s 3s/step - loss: 1.7472 - accuracy: 0.2973 - val_loss: 1.7454 - val_accuracy: 0.1591\n",
      "Epoch 11/50\n",
      "1/1 [==============================] - ETA: 0s - loss: 1.7283 - accuracy: 0.2703\n",
      "Epoch 11: val_accuracy did not improve from 0.21591\n",
      "1/1 [==============================] - 3s 3s/step - loss: 1.7283 - accuracy: 0.2703 - val_loss: 1.7446 - val_accuracy: 0.1591\n",
      "Epoch 12/50\n",
      "1/1 [==============================] - ETA: 0s - loss: 1.7441 - accuracy: 0.2973\n",
      "Epoch 12: val_accuracy did not improve from 0.21591\n",
      "1/1 [==============================] - 3s 3s/step - loss: 1.7441 - accuracy: 0.2973 - val_loss: 1.7439 - val_accuracy: 0.1591\n",
      "Epoch 1/50\n",
      "1/1 [==============================] - ETA: 0s - loss: 4.2527 - accuracy: 0.0811\n",
      "Epoch 1: val_accuracy improved from -inf to 0.15909, saving model to cnniteration2models-1686529304\\4C2-5D2-1686529578-01-0.159.hd5\n"
     ]
    },
    {
     "name": "stderr",
     "output_type": "stream",
     "text": [
      "WARNING:absl:Found untraced functions such as _jit_compiled_convolution_op, _jit_compiled_convolution_op, _jit_compiled_convolution_op, _jit_compiled_convolution_op, _update_step_xla while saving (showing 5 of 5). These functions will not be directly callable after loading.\n"
     ]
    },
    {
     "name": "stdout",
     "output_type": "stream",
     "text": [
      "INFO:tensorflow:Assets written to: cnniteration2models-1686529304\\4C2-5D2-1686529578-01-0.159.hd5\\assets\n"
     ]
    },
    {
     "name": "stderr",
     "output_type": "stream",
     "text": [
      "INFO:tensorflow:Assets written to: cnniteration2models-1686529304\\4C2-5D2-1686529578-01-0.159.hd5\\assets\n"
     ]
    },
    {
     "name": "stdout",
     "output_type": "stream",
     "text": [
      "1/1 [==============================] - 6s 6s/step - loss: 4.2527 - accuracy: 0.0811 - val_loss: 1.7050 - val_accuracy: 0.1591\n",
      "Epoch 2/50\n",
      "1/1 [==============================] - ETA: 0s - loss: 1.7049 - accuracy: 0.2432\n",
      "Epoch 2: val_accuracy did not improve from 0.15909\n",
      "1/1 [==============================] - 2s 2s/step - loss: 1.7049 - accuracy: 0.2432 - val_loss: 1.7046 - val_accuracy: 0.1591\n",
      "Epoch 3/50\n",
      "1/1 [==============================] - ETA: 0s - loss: 1.7045 - accuracy: 0.2973\n",
      "Epoch 3: val_accuracy did not improve from 0.15909\n",
      "1/1 [==============================] - 2s 2s/step - loss: 1.7045 - accuracy: 0.2973 - val_loss: 1.7042 - val_accuracy: 0.1591\n",
      "Epoch 4/50\n",
      "1/1 [==============================] - ETA: 0s - loss: 1.7040 - accuracy: 0.2973\n",
      "Epoch 4: val_accuracy did not improve from 0.15909\n",
      "1/1 [==============================] - 2s 2s/step - loss: 1.7040 - accuracy: 0.2973 - val_loss: 1.7038 - val_accuracy: 0.1591\n",
      "Epoch 5/50\n",
      "1/1 [==============================] - ETA: 0s - loss: 1.7036 - accuracy: 0.2973\n",
      "Epoch 5: val_accuracy did not improve from 0.15909\n",
      "1/1 [==============================] - 2s 2s/step - loss: 1.7036 - accuracy: 0.2973 - val_loss: 1.7034 - val_accuracy: 0.1591\n",
      "Epoch 6/50\n",
      "1/1 [==============================] - ETA: 0s - loss: 1.7031 - accuracy: 0.2973\n",
      "Epoch 6: val_accuracy did not improve from 0.15909\n",
      "1/1 [==============================] - 2s 2s/step - loss: 1.7031 - accuracy: 0.2973 - val_loss: 1.7030 - val_accuracy: 0.1591\n",
      "Epoch 7/50\n",
      "1/1 [==============================] - ETA: 0s - loss: 1.7027 - accuracy: 0.2973\n",
      "Epoch 7: val_accuracy did not improve from 0.15909\n",
      "1/1 [==============================] - 2s 2s/step - loss: 1.7027 - accuracy: 0.2973 - val_loss: 1.7026 - val_accuracy: 0.1591\n",
      "Epoch 8/50\n",
      "1/1 [==============================] - ETA: 0s - loss: 1.7023 - accuracy: 0.2973\n",
      "Epoch 8: val_accuracy did not improve from 0.15909\n",
      "1/1 [==============================] - 2s 2s/step - loss: 1.7023 - accuracy: 0.2973 - val_loss: 1.7022 - val_accuracy: 0.1591\n",
      "Epoch 9/50\n",
      "1/1 [==============================] - ETA: 0s - loss: 1.7019 - accuracy: 0.2973\n",
      "Epoch 9: val_accuracy did not improve from 0.15909\n",
      "1/1 [==============================] - 2s 2s/step - loss: 1.7019 - accuracy: 0.2973 - val_loss: 1.7018 - val_accuracy: 0.1591\n",
      "Epoch 10/50\n",
      "1/1 [==============================] - ETA: 0s - loss: 1.7015 - accuracy: 0.2973\n",
      "Epoch 10: val_accuracy did not improve from 0.15909\n",
      "1/1 [==============================] - 2s 2s/step - loss: 1.7015 - accuracy: 0.2973 - val_loss: 1.7015 - val_accuracy: 0.1591\n",
      "Epoch 11/50\n",
      "1/1 [==============================] - ETA: 0s - loss: 1.7011 - accuracy: 0.2973\n",
      "Epoch 11: val_accuracy did not improve from 0.15909\n",
      "1/1 [==============================] - 2s 2s/step - loss: 1.7011 - accuracy: 0.2973 - val_loss: 1.7011 - val_accuracy: 0.1591\n",
      "Epoch 12/50\n",
      "1/1 [==============================] - ETA: 0s - loss: 1.7007 - accuracy: 0.2973\n",
      "Epoch 12: val_accuracy did not improve from 0.15909\n",
      "1/1 [==============================] - 2s 2s/step - loss: 1.7007 - accuracy: 0.2973 - val_loss: 1.7007 - val_accuracy: 0.1591\n",
      "Epoch 1/50\n",
      "1/1 [==============================] - ETA: 0s - loss: 1.7003 - accuracy: 0.1622\n",
      "Epoch 1: val_accuracy improved from -inf to 0.15909, saving model to cnniteration2models-1686529304\\4C4-5D2-1686529605-01-0.159.hd5\n"
     ]
    },
    {
     "name": "stderr",
     "output_type": "stream",
     "text": [
      "WARNING:absl:Found untraced functions such as _jit_compiled_convolution_op, _jit_compiled_convolution_op, _jit_compiled_convolution_op, _jit_compiled_convolution_op, _update_step_xla while saving (showing 5 of 5). These functions will not be directly callable after loading.\n"
     ]
    },
    {
     "name": "stdout",
     "output_type": "stream",
     "text": [
      "INFO:tensorflow:Assets written to: cnniteration2models-1686529304\\4C4-5D2-1686529605-01-0.159.hd5\\assets\n"
     ]
    },
    {
     "name": "stderr",
     "output_type": "stream",
     "text": [
      "INFO:tensorflow:Assets written to: cnniteration2models-1686529304\\4C4-5D2-1686529605-01-0.159.hd5\\assets\n"
     ]
    },
    {
     "name": "stdout",
     "output_type": "stream",
     "text": [
      "1/1 [==============================] - 7s 7s/step - loss: 1.7003 - accuracy: 0.1622 - val_loss: 1.6998 - val_accuracy: 0.1591\n",
      "Epoch 2/50\n",
      "1/1 [==============================] - ETA: 0s - loss: 1.6997 - accuracy: 0.2973\n",
      "Epoch 2: val_accuracy did not improve from 0.15909\n",
      "1/1 [==============================] - 2s 2s/step - loss: 1.6997 - accuracy: 0.2973 - val_loss: 1.6993 - val_accuracy: 0.1591\n",
      "Epoch 3/50\n",
      "1/1 [==============================] - ETA: 0s - loss: 1.6991 - accuracy: 0.2973\n",
      "Epoch 3: val_accuracy did not improve from 0.15909\n",
      "1/1 [==============================] - 2s 2s/step - loss: 1.6991 - accuracy: 0.2973 - val_loss: 1.6988 - val_accuracy: 0.1591\n",
      "Epoch 4/50\n",
      "1/1 [==============================] - ETA: 0s - loss: 1.6985 - accuracy: 0.2973\n",
      "Epoch 4: val_accuracy did not improve from 0.15909\n",
      "1/1 [==============================] - 2s 2s/step - loss: 1.6985 - accuracy: 0.2973 - val_loss: 1.6983 - val_accuracy: 0.1591\n",
      "Epoch 5/50\n",
      "1/1 [==============================] - ETA: 0s - loss: 1.6980 - accuracy: 0.2973\n",
      "Epoch 5: val_accuracy did not improve from 0.15909\n",
      "1/1 [==============================] - 2s 2s/step - loss: 1.6980 - accuracy: 0.2973 - val_loss: 1.6978 - val_accuracy: 0.1591\n",
      "Epoch 6/50\n",
      "1/1 [==============================] - ETA: 0s - loss: 1.6974 - accuracy: 0.2973\n",
      "Epoch 6: val_accuracy did not improve from 0.15909\n",
      "1/1 [==============================] - 2s 2s/step - loss: 1.6974 - accuracy: 0.2973 - val_loss: 1.6973 - val_accuracy: 0.1591\n",
      "Epoch 7/50\n",
      "1/1 [==============================] - ETA: 0s - loss: 1.6969 - accuracy: 0.2973\n",
      "Epoch 7: val_accuracy did not improve from 0.15909\n",
      "1/1 [==============================] - 2s 2s/step - loss: 1.6969 - accuracy: 0.2973 - val_loss: 1.6968 - val_accuracy: 0.1591\n",
      "Epoch 8/50\n",
      "1/1 [==============================] - ETA: 0s - loss: 1.6964 - accuracy: 0.2973\n",
      "Epoch 8: val_accuracy did not improve from 0.15909\n",
      "1/1 [==============================] - 2s 2s/step - loss: 1.6964 - accuracy: 0.2973 - val_loss: 1.6964 - val_accuracy: 0.1591\n",
      "Epoch 9/50\n",
      "1/1 [==============================] - ETA: 0s - loss: 1.6959 - accuracy: 0.2973\n",
      "Epoch 9: val_accuracy did not improve from 0.15909\n",
      "1/1 [==============================] - 2s 2s/step - loss: 1.6959 - accuracy: 0.2973 - val_loss: 1.6959 - val_accuracy: 0.1591\n",
      "Epoch 10/50\n",
      "1/1 [==============================] - ETA: 0s - loss: 1.6954 - accuracy: 0.2973\n",
      "Epoch 10: val_accuracy did not improve from 0.15909\n",
      "1/1 [==============================] - 2s 2s/step - loss: 1.6954 - accuracy: 0.2973 - val_loss: 1.6955 - val_accuracy: 0.1591\n",
      "Epoch 11/50\n",
      "1/1 [==============================] - ETA: 0s - loss: 1.6949 - accuracy: 0.2973\n",
      "Epoch 11: val_accuracy did not improve from 0.15909\n",
      "1/1 [==============================] - 2s 2s/step - loss: 1.6949 - accuracy: 0.2973 - val_loss: 1.6950 - val_accuracy: 0.1591\n",
      "Epoch 12/50\n",
      "1/1 [==============================] - ETA: 0s - loss: 1.6944 - accuracy: 0.2973\n",
      "Epoch 12: val_accuracy did not improve from 0.15909\n",
      "1/1 [==============================] - 2s 2s/step - loss: 1.6944 - accuracy: 0.2973 - val_loss: 1.6946 - val_accuracy: 0.1591\n",
      "Epoch 1/50\n",
      "1/1 [==============================] - ETA: 0s - loss: 1.7107 - accuracy: 0.1622\n",
      "Epoch 1: val_accuracy improved from -inf to 0.15909, saving model to cnniteration2models-1686529304\\5C2-5D2-1686529636-01-0.159.hd5\n"
     ]
    },
    {
     "name": "stderr",
     "output_type": "stream",
     "text": [
      "WARNING:absl:Found untraced functions such as _jit_compiled_convolution_op, _jit_compiled_convolution_op, _jit_compiled_convolution_op, _jit_compiled_convolution_op, _jit_compiled_convolution_op while saving (showing 5 of 6). These functions will not be directly callable after loading.\n"
     ]
    },
    {
     "name": "stdout",
     "output_type": "stream",
     "text": [
      "INFO:tensorflow:Assets written to: cnniteration2models-1686529304\\5C2-5D2-1686529636-01-0.159.hd5\\assets\n"
     ]
    },
    {
     "name": "stderr",
     "output_type": "stream",
     "text": [
      "INFO:tensorflow:Assets written to: cnniteration2models-1686529304\\5C2-5D2-1686529636-01-0.159.hd5\\assets\n"
     ]
    },
    {
     "name": "stdout",
     "output_type": "stream",
     "text": [
      "1/1 [==============================] - 7s 7s/step - loss: 1.7107 - accuracy: 0.1622 - val_loss: 1.7101 - val_accuracy: 0.1591\n",
      "Epoch 2/50\n",
      "1/1 [==============================] - ETA: 0s - loss: 1.7100 - accuracy: 0.2973\n",
      "Epoch 2: val_accuracy did not improve from 0.15909\n",
      "1/1 [==============================] - 2s 2s/step - loss: 1.7100 - accuracy: 0.2973 - val_loss: 1.7096 - val_accuracy: 0.1591\n",
      "Epoch 3/50\n",
      "1/1 [==============================] - ETA: 0s - loss: 1.7095 - accuracy: 0.2973\n",
      "Epoch 3: val_accuracy did not improve from 0.15909\n",
      "1/1 [==============================] - 2s 2s/step - loss: 1.7095 - accuracy: 0.2973 - val_loss: 1.7091 - val_accuracy: 0.1591\n",
      "Epoch 4/50\n",
      "1/1 [==============================] - ETA: 0s - loss: 1.7089 - accuracy: 0.2973\n",
      "Epoch 4: val_accuracy did not improve from 0.15909\n",
      "1/1 [==============================] - 2s 2s/step - loss: 1.7089 - accuracy: 0.2973 - val_loss: 1.7086 - val_accuracy: 0.1591\n",
      "Epoch 5/50\n",
      "1/1 [==============================] - ETA: 0s - loss: 1.7083 - accuracy: 0.2973\n",
      "Epoch 5: val_accuracy did not improve from 0.15909\n",
      "1/1 [==============================] - 2s 2s/step - loss: 1.7083 - accuracy: 0.2973 - val_loss: 1.7082 - val_accuracy: 0.1591\n",
      "Epoch 6/50\n",
      "1/1 [==============================] - ETA: 0s - loss: 1.7078 - accuracy: 0.2973\n",
      "Epoch 6: val_accuracy did not improve from 0.15909\n",
      "1/1 [==============================] - 2s 2s/step - loss: 1.7078 - accuracy: 0.2973 - val_loss: 1.7077 - val_accuracy: 0.1591\n",
      "Epoch 7/50\n",
      "1/1 [==============================] - ETA: 0s - loss: 1.7073 - accuracy: 0.2973\n",
      "Epoch 7: val_accuracy did not improve from 0.15909\n",
      "1/1 [==============================] - 2s 2s/step - loss: 1.7073 - accuracy: 0.2973 - val_loss: 1.7072 - val_accuracy: 0.1591\n",
      "Epoch 8/50\n",
      "1/1 [==============================] - ETA: 0s - loss: 1.7068 - accuracy: 0.2973\n",
      "Epoch 8: val_accuracy did not improve from 0.15909\n",
      "1/1 [==============================] - 2s 2s/step - loss: 1.7068 - accuracy: 0.2973 - val_loss: 1.7068 - val_accuracy: 0.1591\n",
      "Epoch 9/50\n",
      "1/1 [==============================] - ETA: 0s - loss: 1.7063 - accuracy: 0.2973\n",
      "Epoch 9: val_accuracy did not improve from 0.15909\n",
      "1/1 [==============================] - 2s 2s/step - loss: 1.7063 - accuracy: 0.2973 - val_loss: 1.7063 - val_accuracy: 0.1591\n",
      "Epoch 10/50\n",
      "1/1 [==============================] - ETA: 0s - loss: 1.7058 - accuracy: 0.2973\n",
      "Epoch 10: val_accuracy did not improve from 0.15909\n",
      "1/1 [==============================] - 2s 2s/step - loss: 1.7058 - accuracy: 0.2973 - val_loss: 1.7058 - val_accuracy: 0.1591\n",
      "Epoch 11/50\n",
      "1/1 [==============================] - ETA: 0s - loss: 1.7053 - accuracy: 0.2973\n",
      "Epoch 11: val_accuracy did not improve from 0.15909\n",
      "1/1 [==============================] - 2s 2s/step - loss: 1.7053 - accuracy: 0.2973 - val_loss: 1.7054 - val_accuracy: 0.1591\n",
      "Epoch 12/50\n",
      "1/1 [==============================] - ETA: 0s - loss: 1.7048 - accuracy: 0.2973\n",
      "Epoch 12: val_accuracy did not improve from 0.15909\n",
      "1/1 [==============================] - 2s 2s/step - loss: 1.7048 - accuracy: 0.2973 - val_loss: 1.7050 - val_accuracy: 0.1591\n",
      "Epoch 1/50\n",
      "1/1 [==============================] - ETA: 0s - loss: 1.7161 - accuracy: 0.1622\n",
      "Epoch 1: val_accuracy improved from -inf to 0.15909, saving model to cnniteration2models-1686529304\\5C4-5D2-1686529669-01-0.159.hd5\n"
     ]
    },
    {
     "name": "stderr",
     "output_type": "stream",
     "text": [
      "WARNING:absl:Found untraced functions such as _jit_compiled_convolution_op, _jit_compiled_convolution_op, _jit_compiled_convolution_op, _jit_compiled_convolution_op, _jit_compiled_convolution_op while saving (showing 5 of 6). These functions will not be directly callable after loading.\n"
     ]
    },
    {
     "name": "stdout",
     "output_type": "stream",
     "text": [
      "INFO:tensorflow:Assets written to: cnniteration2models-1686529304\\5C4-5D2-1686529669-01-0.159.hd5\\assets\n"
     ]
    },
    {
     "name": "stderr",
     "output_type": "stream",
     "text": [
      "INFO:tensorflow:Assets written to: cnniteration2models-1686529304\\5C4-5D2-1686529669-01-0.159.hd5\\assets\n"
     ]
    },
    {
     "name": "stdout",
     "output_type": "stream",
     "text": [
      "1/1 [==============================] - 8s 8s/step - loss: 1.7161 - accuracy: 0.1622 - val_loss: 1.7156 - val_accuracy: 0.1591\n",
      "Epoch 2/50\n",
      "1/1 [==============================] - ETA: 0s - loss: 1.7155 - accuracy: 0.2973\n",
      "Epoch 2: val_accuracy did not improve from 0.15909\n",
      "1/1 [==============================] - 3s 3s/step - loss: 1.7155 - accuracy: 0.2973 - val_loss: 1.7151 - val_accuracy: 0.1591\n",
      "Epoch 3/50\n",
      "1/1 [==============================] - ETA: 0s - loss: 1.7149 - accuracy: 0.2973\n",
      "Epoch 3: val_accuracy did not improve from 0.15909\n",
      "1/1 [==============================] - 3s 3s/step - loss: 1.7149 - accuracy: 0.2973 - val_loss: 1.7146 - val_accuracy: 0.1591\n",
      "Epoch 4/50\n",
      "1/1 [==============================] - ETA: 0s - loss: 1.7144 - accuracy: 0.2973\n",
      "Epoch 4: val_accuracy did not improve from 0.15909\n",
      "1/1 [==============================] - 3s 3s/step - loss: 1.7144 - accuracy: 0.2973 - val_loss: 1.7141 - val_accuracy: 0.1591\n",
      "Epoch 5/50\n",
      "1/1 [==============================] - ETA: 0s - loss: 1.7138 - accuracy: 0.2973\n",
      "Epoch 5: val_accuracy did not improve from 0.15909\n",
      "1/1 [==============================] - 3s 3s/step - loss: 1.7138 - accuracy: 0.2973 - val_loss: 1.7136 - val_accuracy: 0.1591\n",
      "Epoch 6/50\n",
      "1/1 [==============================] - ETA: 0s - loss: 1.7133 - accuracy: 0.2973\n",
      "Epoch 6: val_accuracy did not improve from 0.15909\n",
      "1/1 [==============================] - 3s 3s/step - loss: 1.7133 - accuracy: 0.2973 - val_loss: 1.7131 - val_accuracy: 0.1591\n",
      "Epoch 7/50\n",
      "1/1 [==============================] - ETA: 0s - loss: 1.7127 - accuracy: 0.2973\n",
      "Epoch 7: val_accuracy did not improve from 0.15909\n",
      "1/1 [==============================] - 3s 3s/step - loss: 1.7127 - accuracy: 0.2973 - val_loss: 1.7127 - val_accuracy: 0.1591\n",
      "Epoch 8/50\n",
      "1/1 [==============================] - ETA: 0s - loss: 1.7122 - accuracy: 0.2973\n",
      "Epoch 8: val_accuracy did not improve from 0.15909\n",
      "1/1 [==============================] - 3s 3s/step - loss: 1.7122 - accuracy: 0.2973 - val_loss: 1.7122 - val_accuracy: 0.1591\n",
      "Epoch 9/50\n",
      "1/1 [==============================] - ETA: 0s - loss: 1.7117 - accuracy: 0.2973\n",
      "Epoch 9: val_accuracy did not improve from 0.15909\n",
      "1/1 [==============================] - 3s 3s/step - loss: 1.7117 - accuracy: 0.2973 - val_loss: 1.7117 - val_accuracy: 0.1591\n",
      "Epoch 10/50\n",
      "1/1 [==============================] - ETA: 0s - loss: 1.7112 - accuracy: 0.2973\n",
      "Epoch 10: val_accuracy did not improve from 0.15909\n",
      "1/1 [==============================] - 3s 3s/step - loss: 1.7112 - accuracy: 0.2973 - val_loss: 1.7113 - val_accuracy: 0.1591\n",
      "Epoch 11/50\n",
      "1/1 [==============================] - ETA: 0s - loss: 1.7107 - accuracy: 0.2973\n",
      "Epoch 11: val_accuracy did not improve from 0.15909\n",
      "1/1 [==============================] - 3s 3s/step - loss: 1.7107 - accuracy: 0.2973 - val_loss: 1.7108 - val_accuracy: 0.1591\n",
      "Epoch 12/50\n",
      "1/1 [==============================] - ETA: 0s - loss: 1.7102 - accuracy: 0.2973\n",
      "Epoch 12: val_accuracy did not improve from 0.15909\n",
      "1/1 [==============================] - 3s 3s/step - loss: 1.7102 - accuracy: 0.2973 - val_loss: 1.7104 - val_accuracy: 0.1591\n",
      "Epoch 1/50\n",
      "1/1 [==============================] - ETA: 0s - loss: 1.9775 - accuracy: 0.1622\n",
      "Epoch 1: val_accuracy improved from -inf to 0.15909, saving model to cnniteration2models-1686529304\\4C2-5D4-1686529710-01-0.159.hd5\n"
     ]
    },
    {
     "name": "stderr",
     "output_type": "stream",
     "text": [
      "WARNING:absl:Found untraced functions such as _jit_compiled_convolution_op, _jit_compiled_convolution_op, _jit_compiled_convolution_op, _jit_compiled_convolution_op, _update_step_xla while saving (showing 5 of 5). These functions will not be directly callable after loading.\n"
     ]
    },
    {
     "name": "stdout",
     "output_type": "stream",
     "text": [
      "INFO:tensorflow:Assets written to: cnniteration2models-1686529304\\4C2-5D4-1686529710-01-0.159.hd5\\assets\n"
     ]
    },
    {
     "name": "stderr",
     "output_type": "stream",
     "text": [
      "INFO:tensorflow:Assets written to: cnniteration2models-1686529304\\4C2-5D4-1686529710-01-0.159.hd5\\assets\n"
     ]
    },
    {
     "name": "stdout",
     "output_type": "stream",
     "text": [
      "1/1 [==============================] - 6s 6s/step - loss: 1.9775 - accuracy: 0.1622 - val_loss: 1.7970 - val_accuracy: 0.1591\n",
      "Epoch 2/50\n",
      "1/1 [==============================] - ETA: 0s - loss: 1.7969 - accuracy: 0.2973\n",
      "Epoch 2: val_accuracy did not improve from 0.15909\n",
      "1/1 [==============================] - 2s 2s/step - loss: 1.7969 - accuracy: 0.2973 - val_loss: 1.7962 - val_accuracy: 0.1591\n",
      "Epoch 3/50\n",
      "1/1 [==============================] - ETA: 0s - loss: 1.7961 - accuracy: 0.2973\n",
      "Epoch 3: val_accuracy did not improve from 0.15909\n",
      "1/1 [==============================] - 2s 2s/step - loss: 1.7961 - accuracy: 0.2973 - val_loss: 1.7955 - val_accuracy: 0.1591\n",
      "Epoch 4/50\n",
      "1/1 [==============================] - ETA: 0s - loss: 1.7952 - accuracy: 0.2973\n",
      "Epoch 4: val_accuracy did not improve from 0.15909\n",
      "1/1 [==============================] - 2s 2s/step - loss: 1.7952 - accuracy: 0.2973 - val_loss: 1.7947 - val_accuracy: 0.1591\n",
      "Epoch 5/50\n",
      "1/1 [==============================] - ETA: 0s - loss: 1.7944 - accuracy: 0.2973\n",
      "Epoch 5: val_accuracy did not improve from 0.15909\n",
      "1/1 [==============================] - 2s 2s/step - loss: 1.7944 - accuracy: 0.2973 - val_loss: 1.7939 - val_accuracy: 0.1591\n",
      "Epoch 6/50\n",
      "1/1 [==============================] - ETA: 0s - loss: 1.7936 - accuracy: 0.2973\n",
      "Epoch 6: val_accuracy did not improve from 0.15909\n",
      "1/1 [==============================] - 2s 2s/step - loss: 1.7936 - accuracy: 0.2973 - val_loss: 1.7932 - val_accuracy: 0.1591\n",
      "Epoch 7/50\n",
      "1/1 [==============================] - ETA: 0s - loss: 1.7928 - accuracy: 0.2973\n",
      "Epoch 7: val_accuracy did not improve from 0.15909\n",
      "1/1 [==============================] - 2s 2s/step - loss: 1.7928 - accuracy: 0.2973 - val_loss: 1.7925 - val_accuracy: 0.1591\n",
      "Epoch 8/50\n",
      "1/1 [==============================] - ETA: 0s - loss: 1.7921 - accuracy: 0.2973\n",
      "Epoch 8: val_accuracy did not improve from 0.15909\n",
      "1/1 [==============================] - 2s 2s/step - loss: 1.7921 - accuracy: 0.2973 - val_loss: 1.7917 - val_accuracy: 0.1591\n",
      "Epoch 9/50\n",
      "1/1 [==============================] - ETA: 0s - loss: 1.7913 - accuracy: 0.2973\n",
      "Epoch 9: val_accuracy did not improve from 0.15909\n",
      "1/1 [==============================] - 2s 2s/step - loss: 1.7913 - accuracy: 0.2973 - val_loss: 1.7910 - val_accuracy: 0.1591\n",
      "Epoch 10/50\n",
      "1/1 [==============================] - ETA: 0s - loss: 1.7905 - accuracy: 0.2973\n",
      "Epoch 10: val_accuracy did not improve from 0.15909\n",
      "1/1 [==============================] - 2s 2s/step - loss: 1.7905 - accuracy: 0.2973 - val_loss: 1.7903 - val_accuracy: 0.1591\n",
      "Epoch 11/50\n",
      "1/1 [==============================] - ETA: 0s - loss: 1.7898 - accuracy: 0.2973\n",
      "Epoch 11: val_accuracy did not improve from 0.15909\n",
      "1/1 [==============================] - 2s 2s/step - loss: 1.7898 - accuracy: 0.2973 - val_loss: 1.7896 - val_accuracy: 0.1591\n",
      "Epoch 12/50\n",
      "1/1 [==============================] - ETA: 0s - loss: 1.7890 - accuracy: 0.2973\n",
      "Epoch 12: val_accuracy did not improve from 0.15909\n",
      "1/1 [==============================] - 2s 2s/step - loss: 1.7890 - accuracy: 0.2973 - val_loss: 1.7889 - val_accuracy: 0.1591\n",
      "Epoch 1/50\n",
      "1/1 [==============================] - ETA: 0s - loss: 2.3435 - accuracy: 0.2162\n",
      "Epoch 1: val_accuracy improved from -inf to 0.19318, saving model to cnniteration2models-1686529304\\4C4-5D4-1686529736-01-0.193.hd5\n"
     ]
    },
    {
     "name": "stderr",
     "output_type": "stream",
     "text": [
      "WARNING:absl:Found untraced functions such as _jit_compiled_convolution_op, _jit_compiled_convolution_op, _jit_compiled_convolution_op, _jit_compiled_convolution_op, _update_step_xla while saving (showing 5 of 5). These functions will not be directly callable after loading.\n"
     ]
    },
    {
     "name": "stdout",
     "output_type": "stream",
     "text": [
      "INFO:tensorflow:Assets written to: cnniteration2models-1686529304\\4C4-5D4-1686529736-01-0.193.hd5\\assets\n"
     ]
    },
    {
     "name": "stderr",
     "output_type": "stream",
     "text": [
      "INFO:tensorflow:Assets written to: cnniteration2models-1686529304\\4C4-5D4-1686529736-01-0.193.hd5\\assets\n"
     ]
    },
    {
     "name": "stdout",
     "output_type": "stream",
     "text": [
      "1/1 [==============================] - 7s 7s/step - loss: 2.3435 - accuracy: 0.2162 - val_loss: 3.5016 - val_accuracy: 0.1932\n",
      "Epoch 2/50\n",
      "1/1 [==============================] - ETA: 0s - loss: 20.7659 - accuracy: 0.2432\n",
      "Epoch 2: val_accuracy did not improve from 0.19318\n",
      "1/1 [==============================] - 2s 2s/step - loss: 20.7659 - accuracy: 0.2432 - val_loss: 6.3080 - val_accuracy: 0.1932\n",
      "Epoch 3/50\n",
      "1/1 [==============================] - ETA: 0s - loss: 11.0774 - accuracy: 0.2162\n",
      "Epoch 3: val_accuracy did not improve from 0.19318\n",
      "1/1 [==============================] - 2s 2s/step - loss: 11.0774 - accuracy: 0.2162 - val_loss: 4.8192 - val_accuracy: 0.1932\n",
      "Epoch 4/50\n",
      "1/1 [==============================] - ETA: 0s - loss: 12.1635 - accuracy: 0.1892\n",
      "Epoch 4: val_accuracy did not improve from 0.19318\n",
      "1/1 [==============================] - 2s 2s/step - loss: 12.1635 - accuracy: 0.1892 - val_loss: 2.2496 - val_accuracy: 0.1932\n",
      "Epoch 5/50\n",
      "1/1 [==============================] - ETA: 0s - loss: 6.3253 - accuracy: 0.2703\n",
      "Epoch 5: val_accuracy did not improve from 0.19318\n",
      "1/1 [==============================] - 2s 2s/step - loss: 6.3253 - accuracy: 0.2703 - val_loss: 3.4571 - val_accuracy: 0.1932\n",
      "Epoch 6/50\n",
      "1/1 [==============================] - ETA: 0s - loss: 6.0645 - accuracy: 0.2973\n",
      "Epoch 6: val_accuracy did not improve from 0.19318\n",
      "1/1 [==============================] - 2s 2s/step - loss: 6.0645 - accuracy: 0.2973 - val_loss: 2.4783 - val_accuracy: 0.1932\n",
      "Epoch 7/50\n",
      "1/1 [==============================] - ETA: 0s - loss: 3.7771 - accuracy: 0.2703\n",
      "Epoch 7: val_accuracy did not improve from 0.19318\n",
      "1/1 [==============================] - 2s 2s/step - loss: 3.7771 - accuracy: 0.2703 - val_loss: 1.8182 - val_accuracy: 0.1364\n",
      "Epoch 8/50\n",
      "1/1 [==============================] - ETA: 0s - loss: 1.8019 - accuracy: 0.3514\n",
      "Epoch 8: val_accuracy did not improve from 0.19318\n",
      "1/1 [==============================] - 2s 2s/step - loss: 1.8019 - accuracy: 0.3514 - val_loss: 2.0828 - val_accuracy: 0.1591\n",
      "Epoch 9/50\n",
      "1/1 [==============================] - ETA: 0s - loss: 2.6699 - accuracy: 0.2162\n",
      "Epoch 9: val_accuracy did not improve from 0.19318\n",
      "1/1 [==============================] - 2s 2s/step - loss: 2.6699 - accuracy: 0.2162 - val_loss: 1.7954 - val_accuracy: 0.1705\n",
      "Epoch 10/50\n",
      "1/1 [==============================] - ETA: 0s - loss: 1.8028 - accuracy: 0.2973\n",
      "Epoch 10: val_accuracy did not improve from 0.19318\n",
      "1/1 [==============================] - 2s 2s/step - loss: 1.8028 - accuracy: 0.2973 - val_loss: 1.7948 - val_accuracy: 0.1705\n",
      "Epoch 11/50\n",
      "1/1 [==============================] - ETA: 0s - loss: 1.8021 - accuracy: 0.2973\n",
      "Epoch 11: val_accuracy did not improve from 0.19318\n",
      "1/1 [==============================] - 2s 2s/step - loss: 1.8021 - accuracy: 0.2973 - val_loss: 1.7941 - val_accuracy: 0.1705\n",
      "Epoch 12/50\n",
      "1/1 [==============================] - ETA: 0s - loss: 1.8031 - accuracy: 0.2703\n",
      "Epoch 12: val_accuracy did not improve from 0.19318\n",
      "1/1 [==============================] - 2s 2s/step - loss: 1.8031 - accuracy: 0.2703 - val_loss: 1.7934 - val_accuracy: 0.1705\n",
      "Epoch 1/50\n",
      "1/1 [==============================] - ETA: 0s - loss: 1.8492 - accuracy: 0.2162\n",
      "Epoch 1: val_accuracy improved from -inf to 0.21591, saving model to cnniteration2models-1686529304\\5C2-5D4-1686529768-01-0.216.hd5\n"
     ]
    },
    {
     "name": "stderr",
     "output_type": "stream",
     "text": [
      "WARNING:absl:Found untraced functions such as _jit_compiled_convolution_op, _jit_compiled_convolution_op, _jit_compiled_convolution_op, _jit_compiled_convolution_op, _jit_compiled_convolution_op while saving (showing 5 of 6). These functions will not be directly callable after loading.\n"
     ]
    },
    {
     "name": "stdout",
     "output_type": "stream",
     "text": [
      "INFO:tensorflow:Assets written to: cnniteration2models-1686529304\\5C2-5D4-1686529768-01-0.216.hd5\\assets\n"
     ]
    },
    {
     "name": "stderr",
     "output_type": "stream",
     "text": [
      "INFO:tensorflow:Assets written to: cnniteration2models-1686529304\\5C2-5D4-1686529768-01-0.216.hd5\\assets\n"
     ]
    },
    {
     "name": "stdout",
     "output_type": "stream",
     "text": [
      "1/1 [==============================] - 7s 7s/step - loss: 1.8492 - accuracy: 0.2162 - val_loss: 1.8114 - val_accuracy: 0.2159\n",
      "Epoch 2/50\n",
      "1/1 [==============================] - ETA: 0s - loss: 1.8340 - accuracy: 0.2973\n",
      "Epoch 2: val_accuracy did not improve from 0.21591\n",
      "1/1 [==============================] - 2s 2s/step - loss: 1.8340 - accuracy: 0.2973 - val_loss: 1.8068 - val_accuracy: 0.2159\n",
      "Epoch 3/50\n",
      "1/1 [==============================] - ETA: 0s - loss: 1.8421 - accuracy: 0.1351\n",
      "Epoch 3: val_accuracy improved from 0.21591 to 0.23864, saving model to cnniteration2models-1686529304\\5C2-5D4-1686529768-03-0.239.hd5\n"
     ]
    },
    {
     "name": "stderr",
     "output_type": "stream",
     "text": [
      "WARNING:absl:Found untraced functions such as _jit_compiled_convolution_op, _jit_compiled_convolution_op, _jit_compiled_convolution_op, _jit_compiled_convolution_op, _jit_compiled_convolution_op while saving (showing 5 of 6). These functions will not be directly callable after loading.\n"
     ]
    },
    {
     "name": "stdout",
     "output_type": "stream",
     "text": [
      "INFO:tensorflow:Assets written to: cnniteration2models-1686529304\\5C2-5D4-1686529768-03-0.239.hd5\\assets\n"
     ]
    },
    {
     "name": "stderr",
     "output_type": "stream",
     "text": [
      "INFO:tensorflow:Assets written to: cnniteration2models-1686529304\\5C2-5D4-1686529768-03-0.239.hd5\\assets\n"
     ]
    },
    {
     "name": "stdout",
     "output_type": "stream",
     "text": [
      "1/1 [==============================] - 5s 5s/step - loss: 1.8421 - accuracy: 0.1351 - val_loss: 1.8101 - val_accuracy: 0.2386\n",
      "Epoch 4/50\n",
      "1/1 [==============================] - ETA: 0s - loss: 1.7598 - accuracy: 0.2973\n",
      "Epoch 4: val_accuracy improved from 0.23864 to 0.28409, saving model to cnniteration2models-1686529304\\5C2-5D4-1686529768-04-0.284.hd5\n"
     ]
    },
    {
     "name": "stderr",
     "output_type": "stream",
     "text": [
      "WARNING:absl:Found untraced functions such as _jit_compiled_convolution_op, _jit_compiled_convolution_op, _jit_compiled_convolution_op, _jit_compiled_convolution_op, _jit_compiled_convolution_op while saving (showing 5 of 6). These functions will not be directly callable after loading.\n"
     ]
    },
    {
     "name": "stdout",
     "output_type": "stream",
     "text": [
      "INFO:tensorflow:Assets written to: cnniteration2models-1686529304\\5C2-5D4-1686529768-04-0.284.hd5\\assets\n"
     ]
    },
    {
     "name": "stderr",
     "output_type": "stream",
     "text": [
      "INFO:tensorflow:Assets written to: cnniteration2models-1686529304\\5C2-5D4-1686529768-04-0.284.hd5\\assets\n"
     ]
    },
    {
     "name": "stdout",
     "output_type": "stream",
     "text": [
      "1/1 [==============================] - 5s 5s/step - loss: 1.7598 - accuracy: 0.2973 - val_loss: 1.8075 - val_accuracy: 0.2841\n",
      "Epoch 5/50\n",
      "1/1 [==============================] - ETA: 0s - loss: 1.8274 - accuracy: 0.2703\n",
      "Epoch 5: val_accuracy did not improve from 0.28409\n",
      "1/1 [==============================] - 2s 2s/step - loss: 1.8274 - accuracy: 0.2703 - val_loss: 1.8055 - val_accuracy: 0.2727\n",
      "Epoch 6/50\n",
      "1/1 [==============================] - ETA: 0s - loss: 1.7327 - accuracy: 0.4324\n",
      "Epoch 6: val_accuracy improved from 0.28409 to 0.29545, saving model to cnniteration2models-1686529304\\5C2-5D4-1686529768-06-0.295.hd5\n"
     ]
    },
    {
     "name": "stderr",
     "output_type": "stream",
     "text": [
      "WARNING:absl:Found untraced functions such as _jit_compiled_convolution_op, _jit_compiled_convolution_op, _jit_compiled_convolution_op, _jit_compiled_convolution_op, _jit_compiled_convolution_op while saving (showing 5 of 6). These functions will not be directly callable after loading.\n"
     ]
    },
    {
     "name": "stdout",
     "output_type": "stream",
     "text": [
      "INFO:tensorflow:Assets written to: cnniteration2models-1686529304\\5C2-5D4-1686529768-06-0.295.hd5\\assets\n"
     ]
    },
    {
     "name": "stderr",
     "output_type": "stream",
     "text": [
      "INFO:tensorflow:Assets written to: cnniteration2models-1686529304\\5C2-5D4-1686529768-06-0.295.hd5\\assets\n"
     ]
    },
    {
     "name": "stdout",
     "output_type": "stream",
     "text": [
      "1/1 [==============================] - 5s 5s/step - loss: 1.7327 - accuracy: 0.4324 - val_loss: 1.8012 - val_accuracy: 0.2955\n",
      "Epoch 7/50\n",
      "1/1 [==============================] - ETA: 0s - loss: 1.6948 - accuracy: 0.4054\n",
      "Epoch 7: val_accuracy did not improve from 0.29545\n",
      "1/1 [==============================] - 2s 2s/step - loss: 1.6948 - accuracy: 0.4054 - val_loss: 1.7945 - val_accuracy: 0.2841\n",
      "Epoch 8/50\n",
      "1/1 [==============================] - ETA: 0s - loss: 1.7422 - accuracy: 0.3784\n",
      "Epoch 8: val_accuracy did not improve from 0.29545\n",
      "1/1 [==============================] - 2s 2s/step - loss: 1.7422 - accuracy: 0.3784 - val_loss: 1.7955 - val_accuracy: 0.2386\n",
      "Epoch 9/50\n",
      "1/1 [==============================] - ETA: 0s - loss: 1.6396 - accuracy: 0.3243\n",
      "Epoch 9: val_accuracy did not improve from 0.29545\n",
      "1/1 [==============================] - 2s 2s/step - loss: 1.6396 - accuracy: 0.3243 - val_loss: 1.7932 - val_accuracy: 0.2386\n",
      "Epoch 10/50\n",
      "1/1 [==============================] - ETA: 0s - loss: 1.6377 - accuracy: 0.3243\n",
      "Epoch 10: val_accuracy did not improve from 0.29545\n",
      "1/1 [==============================] - 2s 2s/step - loss: 1.6377 - accuracy: 0.3243 - val_loss: 1.7885 - val_accuracy: 0.2386\n",
      "Epoch 11/50\n",
      "1/1 [==============================] - ETA: 0s - loss: 1.7486 - accuracy: 0.4595\n",
      "Epoch 11: val_accuracy did not improve from 0.29545\n",
      "1/1 [==============================] - 2s 2s/step - loss: 1.7486 - accuracy: 0.4595 - val_loss: 1.7888 - val_accuracy: 0.2159\n",
      "Epoch 12/50\n",
      "1/1 [==============================] - ETA: 0s - loss: 1.6032 - accuracy: 0.4324\n",
      "Epoch 12: val_accuracy did not improve from 0.29545\n",
      "1/1 [==============================] - 2s 2s/step - loss: 1.6032 - accuracy: 0.4324 - val_loss: 1.7885 - val_accuracy: 0.2500\n",
      "Epoch 1/50\n",
      "1/1 [==============================] - ETA: 0s - loss: 1.8208 - accuracy: 0.1622\n",
      "Epoch 1: val_accuracy improved from -inf to 0.15909, saving model to cnniteration2models-1686529304\\5C4-5D4-1686529810-01-0.159.hd5\n"
     ]
    },
    {
     "name": "stderr",
     "output_type": "stream",
     "text": [
      "WARNING:absl:Found untraced functions such as _jit_compiled_convolution_op, _jit_compiled_convolution_op, _jit_compiled_convolution_op, _jit_compiled_convolution_op, _jit_compiled_convolution_op while saving (showing 5 of 6). These functions will not be directly callable after loading.\n"
     ]
    },
    {
     "name": "stdout",
     "output_type": "stream",
     "text": [
      "INFO:tensorflow:Assets written to: cnniteration2models-1686529304\\5C4-5D4-1686529810-01-0.159.hd5\\assets\n"
     ]
    },
    {
     "name": "stderr",
     "output_type": "stream",
     "text": [
      "INFO:tensorflow:Assets written to: cnniteration2models-1686529304\\5C4-5D4-1686529810-01-0.159.hd5\\assets\n"
     ]
    },
    {
     "name": "stdout",
     "output_type": "stream",
     "text": [
      "1/1 [==============================] - 8s 8s/step - loss: 1.8208 - accuracy: 0.1622 - val_loss: 1.7795 - val_accuracy: 0.1591\n",
      "Epoch 2/50\n",
      "1/1 [==============================] - ETA: 0s - loss: 1.7794 - accuracy: 0.2973\n",
      "Epoch 2: val_accuracy improved from 0.15909 to 0.19318, saving model to cnniteration2models-1686529304\\5C4-5D4-1686529810-02-0.193.hd5\n"
     ]
    },
    {
     "name": "stderr",
     "output_type": "stream",
     "text": [
      "WARNING:absl:Found untraced functions such as _jit_compiled_convolution_op, _jit_compiled_convolution_op, _jit_compiled_convolution_op, _jit_compiled_convolution_op, _jit_compiled_convolution_op while saving (showing 5 of 6). These functions will not be directly callable after loading.\n"
     ]
    },
    {
     "name": "stdout",
     "output_type": "stream",
     "text": [
      "INFO:tensorflow:Assets written to: cnniteration2models-1686529304\\5C4-5D4-1686529810-02-0.193.hd5\\assets\n"
     ]
    },
    {
     "name": "stderr",
     "output_type": "stream",
     "text": [
      "INFO:tensorflow:Assets written to: cnniteration2models-1686529304\\5C4-5D4-1686529810-02-0.193.hd5\\assets\n"
     ]
    },
    {
     "name": "stdout",
     "output_type": "stream",
     "text": [
      "1/1 [==============================] - 6s 6s/step - loss: 1.7794 - accuracy: 0.2973 - val_loss: 1.7787 - val_accuracy: 0.1932\n",
      "Epoch 3/50\n",
      "1/1 [==============================] - ETA: 0s - loss: 1.7786 - accuracy: 0.2162\n",
      "Epoch 3: val_accuracy did not improve from 0.19318\n",
      "1/1 [==============================] - 3s 3s/step - loss: 1.7786 - accuracy: 0.2162 - val_loss: 1.7779 - val_accuracy: 0.1932\n",
      "Epoch 4/50\n",
      "1/1 [==============================] - ETA: 0s - loss: 1.7777 - accuracy: 0.2162\n",
      "Epoch 4: val_accuracy did not improve from 0.19318\n",
      "1/1 [==============================] - 3s 3s/step - loss: 1.7777 - accuracy: 0.2162 - val_loss: 1.7771 - val_accuracy: 0.1932\n",
      "Epoch 5/50\n",
      "1/1 [==============================] - ETA: 0s - loss: 1.7769 - accuracy: 0.2162\n",
      "Epoch 5: val_accuracy did not improve from 0.19318\n",
      "1/1 [==============================] - 3s 3s/step - loss: 1.7769 - accuracy: 0.2162 - val_loss: 1.7764 - val_accuracy: 0.1932\n",
      "Epoch 6/50\n",
      "1/1 [==============================] - ETA: 0s - loss: 1.7760 - accuracy: 0.2162\n",
      "Epoch 6: val_accuracy did not improve from 0.19318\n",
      "1/1 [==============================] - 3s 3s/step - loss: 1.7760 - accuracy: 0.2162 - val_loss: 1.7756 - val_accuracy: 0.1932\n",
      "Epoch 7/50\n",
      "1/1 [==============================] - ETA: 0s - loss: 1.7752 - accuracy: 0.2162\n",
      "Epoch 7: val_accuracy did not improve from 0.19318\n",
      "1/1 [==============================] - 3s 3s/step - loss: 1.7752 - accuracy: 0.2162 - val_loss: 1.7748 - val_accuracy: 0.1932\n",
      "Epoch 8/50\n",
      "1/1 [==============================] - ETA: 0s - loss: 1.7744 - accuracy: 0.2162\n",
      "Epoch 8: val_accuracy did not improve from 0.19318\n",
      "1/1 [==============================] - 3s 3s/step - loss: 1.7744 - accuracy: 0.2162 - val_loss: 1.7741 - val_accuracy: 0.1932\n",
      "Epoch 9/50\n",
      "1/1 [==============================] - ETA: 0s - loss: 1.7736 - accuracy: 0.2162\n",
      "Epoch 9: val_accuracy did not improve from 0.19318\n",
      "1/1 [==============================] - 3s 3s/step - loss: 1.7736 - accuracy: 0.2162 - val_loss: 1.7733 - val_accuracy: 0.1932\n",
      "Epoch 10/50\n",
      "1/1 [==============================] - ETA: 0s - loss: 1.7728 - accuracy: 0.2162\n",
      "Epoch 10: val_accuracy did not improve from 0.19318\n",
      "1/1 [==============================] - 3s 3s/step - loss: 1.7728 - accuracy: 0.2162 - val_loss: 1.7726 - val_accuracy: 0.1932\n",
      "Epoch 11/50\n",
      "1/1 [==============================] - ETA: 0s - loss: 1.7720 - accuracy: 0.2162\n",
      "Epoch 11: val_accuracy did not improve from 0.19318\n",
      "1/1 [==============================] - 3s 3s/step - loss: 1.7720 - accuracy: 0.2162 - val_loss: 1.7718 - val_accuracy: 0.1932\n",
      "Epoch 12/50\n",
      "1/1 [==============================] - ETA: 0s - loss: 1.7712 - accuracy: 0.2162\n",
      "Epoch 12: val_accuracy did not improve from 0.19318\n",
      "1/1 [==============================] - 3s 3s/step - loss: 1.7712 - accuracy: 0.2162 - val_loss: 1.7711 - val_accuracy: 0.1932\n"
     ]
    }
   ],
   "source": [
    "cnn(X_train, y_train, X_test, y_test)"
   ]
  }
 ],
 "metadata": {
  "kernelspec": {
   "display_name": "Python 3",
   "language": "python",
   "name": "python3"
  },
  "language_info": {
   "codemirror_mode": {
    "name": "ipython",
    "version": 3
   },
   "file_extension": ".py",
   "mimetype": "text/x-python",
   "name": "python",
   "nbconvert_exporter": "python",
   "pygments_lexer": "ipython3",
   "version": "3.11.0"
  },
  "orig_nbformat": 4
 },
 "nbformat": 4,
 "nbformat_minor": 2
}
