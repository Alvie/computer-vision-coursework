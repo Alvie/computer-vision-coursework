{
 "cells": [
  {
   "cell_type": "code",
   "execution_count": 64,
   "metadata": {},
   "outputs": [],
   "source": [
    "from time import time\n",
    "import tensorflow as tf\n",
    "from keras.models import Sequential\n",
    "from keras.layers import Input, Dropout, Dense, Conv2D, MaxPooling2D, Flatten\n",
    "from keras.callbacks import TensorBoard, ModelCheckpoint, EarlyStopping\n",
    "from keras import regularizers\n",
    "\n",
    "def cnn(X_train, y_train, X_test, y_test):\n",
    "    time_at_start = int(time())\n",
    "    conv_layers = [1, 2]\n",
    "    conv_layer_sizes = [2, 4]\n",
    "    dense_layers = [1, 2]\n",
    "    dense_layer_sizes = [2, 4]\n",
    "\n",
    "    EPOCHS = 50\n",
    "    BATCH_SIZE = 32\n",
    "\n",
    "    for dense_layer in dense_layers:\n",
    "        for dense_layer_size in dense_layer_sizes:\n",
    "                    for conv_layer in conv_layers:\n",
    "                        for conv_layer_size in conv_layer_sizes:\n",
    "                            name = f\"{conv_layer}C{conv_layer_size}-{dense_layer}D{dense_layer_size}-{int(time())}\"\n",
    "\n",
    "                            model = Sequential()\n",
    "                            model.add(Input(shape=(X_train.shape[1:])))\n",
    "\n",
    "                            for layer in range(conv_layer - 1):\n",
    "                                model.add(Conv2D(conv_layer_size, kernel_size=3, padding='valid', activation='relu'))\n",
    "                                model.add(MaxPooling2D(1))\n",
    "                                model.add(Dropout(0.6))\n",
    "                    \n",
    "                            model.add(Conv2D(conv_layer_size, kernel_size=3, padding='valid', activation='relu'))\n",
    "                            model.add(MaxPooling2D(1))\n",
    "                            model.add(Dropout(0.6)) \n",
    "\n",
    "                            model.add(Flatten())\n",
    "\n",
    "                            for layer in range(dense_layer - 1):\n",
    "                                model.add(Dense(dense_layer_size, activation='relu', kernel_regularizer=regularizers.l2(0.01)))\n",
    "                                model.add(Dropout(0.6))\n",
    "\n",
    "                            model.add(Dense(5, activation='softmax'))\n",
    "\n",
    "                            opt = tf.keras.optimizers.RMSprop(learning_rate=0.0001)\n",
    "\n",
    "                            model.compile(loss='sparse_categorical_crossentropy',\n",
    "                                            optimizer=opt,\n",
    "                                            metrics=['accuracy'])\n",
    "\n",
    "                            tensorboard = TensorBoard(log_dir=f'cnniteration2logs-{time_at_start}/{name}')\n",
    "\n",
    "                            checkpoint_filepath = f\"cnniteration2models-{time_at_start}/\" + name + \"-{epoch:02d}-{val_accuracy:.3f}.hd5\"\n",
    "                            checkpoint = ModelCheckpoint(filepath=checkpoint_filepath, monitor='val_accuracy', verbose=1, save_best_only=True, mode='max')\n",
    "\n",
    "                            early_stopping = EarlyStopping(monitor='val_accuracy', baseline=0.5, patience=12)\n",
    "\n",
    "                            history = model.fit(\n",
    "                                X_train, y_train,\n",
    "                                batch_size=BATCH_SIZE,\n",
    "                                epochs=EPOCHS,\n",
    "                                validation_data=(X_test, y_test),\n",
    "                                callbacks=[tensorboard, checkpoint, early_stopping]\n",
    "                            )"
   ]
  },
  {
   "cell_type": "code",
   "execution_count": 65,
   "metadata": {},
   "outputs": [],
   "source": [
    "import glob\n",
    "\n",
    "jab_depth_files = [file for file in glob.glob('./numpy_data_arrays/jab/*depth.npz')]\n",
    "cross_depth_files = [file for file in glob.glob('./numpy_data_arrays/cross/*depth.npz')]\n",
    "left_hook_depth_files = [file for file in glob.glob('./numpy_data_arrays/left_hook/*depth.npz')]\n",
    "right_hook_depth_files = [file for file in glob.glob('./numpy_data_arrays/right_hook/*depth.npz')]\n",
    "random_depth_files = [file for file in glob.glob('./numpy_data_arrays/random/*depth.npz')]"
   ]
  },
  {
   "cell_type": "code",
   "execution_count": 66,
   "metadata": {},
   "outputs": [],
   "source": [
    "import numpy as np\n",
    "import cv2\n",
    "\n",
    "THRESHOLD_VALUE = 5\n",
    "MHI_DURATION = 2\n",
    "\n",
    "def generate_mhi(frames):\n",
    "    number_of_frames = frames.shape[0]\n",
    "    height = frames.shape[1]\n",
    "    width = frames.shape[2]\n",
    "    SAMHI_10 = np.zeros((height, width), dtype=np.float32)\n",
    "\n",
    "    for i in range(1, number_of_frames):\n",
    "        frame = frames[i]\n",
    "        frame[frame > 2200] = 0\n",
    "\n",
    "        image_binary = frame.astype(np.uint8)\n",
    "\n",
    "        num = 2\n",
    "        image_binary_prev = np.zeros((height, width), dtype=np.uint8)\n",
    "        difference = np.zeros((height, width), dtype=np.uint8)\n",
    "\n",
    "        if i == 1:\n",
    "            image_binary_prev = image_binary\n",
    "        elif (i % num) == 0:\n",
    "            difference = cv2.absdiff(image_binary_prev, image_binary)\n",
    "            image_binary_prev = image_binary\n",
    "\n",
    "        if i == num + 1:\n",
    "            _, image_binary_diff_5 = cv2.threshold(difference, THRESHOLD_VALUE, 255, cv2.THRESH_BINARY)\n",
    "            SAMHI_10 = cv2.motempl.updateMotionHistory(image_binary_diff_5, SAMHI_10, i / number_of_frames, MHI_DURATION)\n",
    "\n",
    "        if (i > num + 1 and i % num == 0):\n",
    "            _, image_binary_diff_5 = cv2.threshold(difference, THRESHOLD_VALUE, 255, cv2.THRESH_BINARY)\n",
    "            SAMHI_10 = cv2.motempl.updateMotionHistory(image_binary_diff_5, SAMHI_10, i / number_of_frames, MHI_DURATION)\n",
    "\n",
    "\n",
    "    SAMHI_10 = cv2.convertScaleAbs(SAMHI_10, alpha=255, beta=0)\n",
    "    return SAMHI_10"
   ]
  },
  {
   "cell_type": "code",
   "execution_count": 67,
   "metadata": {},
   "outputs": [],
   "source": [
    "import cv2\n",
    "import numpy as np\n",
    "\n",
    "X = []\n",
    "y = []\n",
    "\n",
    "\n",
    "for file in jab_depth_files:\n",
    "    file_name = file.split(\"\\\\\")[-1].split('.')[0]\n",
    "    depth_data = np.load(file)\n",
    "    depth_frames = depth_data['arr_0']\n",
    "    samhi = generate_mhi(depth_frames)\n",
    "    mhi_data = np.expand_dims(samhi, axis=-1)\n",
    "    X.append(mhi_data)\n",
    "    y.append(\"jab\")\n",
    "\n",
    "for file in cross_depth_files:\n",
    "    file_name = file.split(\"\\\\\")[-1].split('.')[0]\n",
    "    depth_data = np.load(file)\n",
    "    depth_frames = depth_data['arr_0']\n",
    "    samhi = generate_mhi(depth_frames)\n",
    "    mhi_data = np.expand_dims(samhi, axis=-1)\n",
    "    X.append(mhi_data)\n",
    "    y.append(\"cross\")\n",
    "\n",
    "for file in left_hook_depth_files:\n",
    "    file_name = file.split(\"\\\\\")[-1].split('.')[0]\n",
    "    depth_data = np.load(file)\n",
    "    depth_frames = depth_data['arr_0']\n",
    "    samhi = generate_mhi(depth_frames)\n",
    "    mhi_data = np.expand_dims(samhi, axis=-1)\n",
    "    X.append(mhi_data)\n",
    "    y.append(\"left_hook\")\n",
    "\n",
    "for file in right_hook_depth_files:\n",
    "    file_name = file.split(\"\\\\\")[-1].split('.')[0]\n",
    "    depth_data = np.load(file)\n",
    "    depth_frames = depth_data['arr_0']\n",
    "    samhi = generate_mhi(depth_frames)\n",
    "    mhi_data = np.expand_dims(samhi, axis=-1)\n",
    "    X.append(mhi_data)\n",
    "    y.append(\"right_hook\")\n",
    "\n",
    "for file in random_depth_files:\n",
    "    file_name = file.split(\"\\\\\")[-1].split('.')[0]\n",
    "    depth_data = np.load(file)\n",
    "    depth_frames = depth_data['arr_0']\n",
    "    samhi = generate_mhi(depth_frames)\n",
    "    mhi_data = np.expand_dims(samhi, axis=-1)\n",
    "    X.append(mhi_data)\n",
    "    y.append(\"random\")\n",
    "\n",
    "    # cv2.imshow(\"MHI\", samhi)\n",
    "    # cv2.imshow(\"Keypoint\", keyP1)\n",
    "    # if descriptors is not None and descriptors.shape[0] > 0:\n",
    "    #     cv2.imshow(\"Features\", descriptors)\n",
    "\n",
    "    # bow_descriptor = bow_descriptor_extractor.compute(samhi, keypoint)\n",
    "\n",
    "    # dataset_descriptors.append(bow_descriptor)\n",
    "    # dataset_labels.append(1)\n",
    "\n",
    "    # cv2.waitKey(0)\n",
    "    # cv2.destroyAllWindows()"
   ]
  },
  {
   "cell_type": "code",
   "execution_count": 68,
   "metadata": {},
   "outputs": [],
   "source": [
    "\n",
    "from sklearn.model_selection import train_test_split\n",
    "from sklearn.preprocessing import LabelEncoder\n",
    "from sklearn.utils import shuffle\n",
    "\n",
    "X = np.array(X)\n",
    "y = np.array(y)\n",
    "\n",
    "\n",
    "label_encoder = LabelEncoder()\n",
    "y = label_encoder.fit_transform(y)\n",
    "class_labels = label_encoder.classes_\n",
    "\n",
    "X, y = shuffle(X, y, random_state=0)\n",
    "\n",
    "X_train, X_test, y_train, y_test = train_test_split(X, y, test_size=0.7)"
   ]
  },
  {
   "cell_type": "code",
   "execution_count": 69,
   "metadata": {},
   "outputs": [
    {
     "name": "stdout",
     "output_type": "stream",
     "text": [
      "Epoch 1/50\n",
      "2/2 [==============================] - ETA: 0s - loss: 187.5693 - accuracy: 0.1622\n",
      "Epoch 1: val_accuracy improved from -inf to 0.21591, saving model to cnniteration2models-1686526734\\1C8-1D8-1686526734-01-0.216.hd5\n"
     ]
    },
    {
     "name": "stderr",
     "output_type": "stream",
     "text": [
      "WARNING:absl:Found untraced functions such as _jit_compiled_convolution_op, _update_step_xla while saving (showing 2 of 2). These functions will not be directly callable after loading.\n"
     ]
    },
    {
     "name": "stdout",
     "output_type": "stream",
     "text": [
      "INFO:tensorflow:Assets written to: cnniteration2models-1686526734\\1C8-1D8-1686526734-01-0.216.hd5\\assets\n"
     ]
    },
    {
     "name": "stderr",
     "output_type": "stream",
     "text": [
      "INFO:tensorflow:Assets written to: cnniteration2models-1686526734\\1C8-1D8-1686526734-01-0.216.hd5\\assets\n"
     ]
    },
    {
     "name": "stdout",
     "output_type": "stream",
     "text": [
      "2/2 [==============================] - 3s 2s/step - loss: 187.5693 - accuracy: 0.1622 - val_loss: 2020.2988 - val_accuracy: 0.2159\n",
      "Epoch 2/50\n",
      "2/2 [==============================] - ETA: 0s - loss: 1223.8127 - accuracy: 0.3784\n",
      "Epoch 2: val_accuracy improved from 0.21591 to 0.28409, saving model to cnniteration2models-1686526734\\1C8-1D8-1686526734-02-0.284.hd5\n"
     ]
    },
    {
     "name": "stderr",
     "output_type": "stream",
     "text": [
      "WARNING:absl:Found untraced functions such as _jit_compiled_convolution_op, _update_step_xla while saving (showing 2 of 2). These functions will not be directly callable after loading.\n"
     ]
    },
    {
     "name": "stdout",
     "output_type": "stream",
     "text": [
      "INFO:tensorflow:Assets written to: cnniteration2models-1686526734\\1C8-1D8-1686526734-02-0.284.hd5\\assets\n"
     ]
    },
    {
     "name": "stderr",
     "output_type": "stream",
     "text": [
      "INFO:tensorflow:Assets written to: cnniteration2models-1686526734\\1C8-1D8-1686526734-02-0.284.hd5\\assets\n"
     ]
    },
    {
     "name": "stdout",
     "output_type": "stream",
     "text": [
      "2/2 [==============================] - 2s 2s/step - loss: 1223.8127 - accuracy: 0.3784 - val_loss: 1354.9840 - val_accuracy: 0.2841\n",
      "Epoch 3/50\n",
      "2/2 [==============================] - ETA: 0s - loss: 812.7740 - accuracy: 0.4865\n",
      "Epoch 3: val_accuracy did not improve from 0.28409\n",
      "2/2 [==============================] - 1s 439ms/step - loss: 812.7740 - accuracy: 0.4865 - val_loss: 578.3664 - val_accuracy: 0.2159\n",
      "Epoch 4/50\n",
      "2/2 [==============================] - ETA: 0s - loss: 237.7323 - accuracy: 0.4324\n",
      "Epoch 4: val_accuracy improved from 0.28409 to 0.36364, saving model to cnniteration2models-1686526734\\1C8-1D8-1686526734-04-0.364.hd5\n"
     ]
    },
    {
     "name": "stderr",
     "output_type": "stream",
     "text": [
      "WARNING:absl:Found untraced functions such as _jit_compiled_convolution_op, _update_step_xla while saving (showing 2 of 2). These functions will not be directly callable after loading.\n"
     ]
    },
    {
     "name": "stdout",
     "output_type": "stream",
     "text": [
      "INFO:tensorflow:Assets written to: cnniteration2models-1686526734\\1C8-1D8-1686526734-04-0.364.hd5\\assets\n"
     ]
    },
    {
     "name": "stderr",
     "output_type": "stream",
     "text": [
      "INFO:tensorflow:Assets written to: cnniteration2models-1686526734\\1C8-1D8-1686526734-04-0.364.hd5\\assets\n"
     ]
    },
    {
     "name": "stdout",
     "output_type": "stream",
     "text": [
      "2/2 [==============================] - 2s 2s/step - loss: 237.7323 - accuracy: 0.4324 - val_loss: 242.5545 - val_accuracy: 0.3636\n",
      "Epoch 5/50\n",
      "2/2 [==============================] - ETA: 0s - loss: 181.2380 - accuracy: 0.4595\n",
      "Epoch 5: val_accuracy did not improve from 0.36364\n",
      "2/2 [==============================] - 1s 431ms/step - loss: 181.2380 - accuracy: 0.4595 - val_loss: 384.8113 - val_accuracy: 0.3636\n",
      "Epoch 6/50\n",
      "2/2 [==============================] - ETA: 0s - loss: 234.3678 - accuracy: 0.5135\n",
      "Epoch 6: val_accuracy did not improve from 0.36364\n",
      "2/2 [==============================] - 1s 442ms/step - loss: 234.3678 - accuracy: 0.5135 - val_loss: 368.3458 - val_accuracy: 0.3409\n",
      "Epoch 7/50\n",
      "2/2 [==============================] - ETA: 0s - loss: 126.8962 - accuracy: 0.6486\n",
      "Epoch 7: val_accuracy did not improve from 0.36364\n",
      "2/2 [==============================] - 1s 451ms/step - loss: 126.8962 - accuracy: 0.6486 - val_loss: 382.8925 - val_accuracy: 0.3295\n",
      "Epoch 8/50\n",
      "2/2 [==============================] - ETA: 0s - loss: 124.9579 - accuracy: 0.5405\n",
      "Epoch 8: val_accuracy did not improve from 0.36364\n",
      "2/2 [==============================] - 1s 453ms/step - loss: 124.9579 - accuracy: 0.5405 - val_loss: 309.9070 - val_accuracy: 0.3182\n",
      "Epoch 9/50\n",
      "2/2 [==============================] - ETA: 0s - loss: 162.6152 - accuracy: 0.4595\n",
      "Epoch 9: val_accuracy improved from 0.36364 to 0.52273, saving model to cnniteration2models-1686526734\\1C8-1D8-1686526734-09-0.523.hd5\n"
     ]
    },
    {
     "name": "stderr",
     "output_type": "stream",
     "text": [
      "WARNING:absl:Found untraced functions such as _jit_compiled_convolution_op, _update_step_xla while saving (showing 2 of 2). These functions will not be directly callable after loading.\n"
     ]
    },
    {
     "name": "stdout",
     "output_type": "stream",
     "text": [
      "INFO:tensorflow:Assets written to: cnniteration2models-1686526734\\1C8-1D8-1686526734-09-0.523.hd5\\assets\n"
     ]
    },
    {
     "name": "stderr",
     "output_type": "stream",
     "text": [
      "INFO:tensorflow:Assets written to: cnniteration2models-1686526734\\1C8-1D8-1686526734-09-0.523.hd5\\assets\n"
     ]
    },
    {
     "name": "stdout",
     "output_type": "stream",
     "text": [
      "2/2 [==============================] - 2s 2s/step - loss: 162.6152 - accuracy: 0.4595 - val_loss: 134.7623 - val_accuracy: 0.5227\n",
      "Epoch 10/50\n",
      "2/2 [==============================] - ETA: 0s - loss: 34.1526 - accuracy: 0.8649\n",
      "Epoch 10: val_accuracy improved from 0.52273 to 0.67045, saving model to cnniteration2models-1686526734\\1C8-1D8-1686526734-10-0.670.hd5\n"
     ]
    },
    {
     "name": "stderr",
     "output_type": "stream",
     "text": [
      "WARNING:absl:Found untraced functions such as _jit_compiled_convolution_op, _update_step_xla while saving (showing 2 of 2). These functions will not be directly callable after loading.\n"
     ]
    },
    {
     "name": "stdout",
     "output_type": "stream",
     "text": [
      "INFO:tensorflow:Assets written to: cnniteration2models-1686526734\\1C8-1D8-1686526734-10-0.670.hd5\\assets\n"
     ]
    },
    {
     "name": "stderr",
     "output_type": "stream",
     "text": [
      "INFO:tensorflow:Assets written to: cnniteration2models-1686526734\\1C8-1D8-1686526734-10-0.670.hd5\\assets\n"
     ]
    },
    {
     "name": "stdout",
     "output_type": "stream",
     "text": [
      "2/2 [==============================] - 2s 2s/step - loss: 34.1526 - accuracy: 0.8649 - val_loss: 83.0245 - val_accuracy: 0.6705\n",
      "Epoch 11/50\n",
      "2/2 [==============================] - ETA: 0s - loss: 0.4428 - accuracy: 0.9730\n",
      "Epoch 11: val_accuracy did not improve from 0.67045\n",
      "2/2 [==============================] - 1s 424ms/step - loss: 0.4428 - accuracy: 0.9730 - val_loss: 80.1004 - val_accuracy: 0.6136\n",
      "Epoch 12/50\n",
      "2/2 [==============================] - ETA: 0s - loss: 0.0000e+00 - accuracy: 1.0000\n",
      "Epoch 12: val_accuracy did not improve from 0.67045\n",
      "2/2 [==============================] - 1s 420ms/step - loss: 0.0000e+00 - accuracy: 1.0000 - val_loss: 80.1004 - val_accuracy: 0.6136\n",
      "Epoch 13/50\n",
      "2/2 [==============================] - ETA: 0s - loss: 1.1808 - accuracy: 0.9730    \n",
      "Epoch 13: val_accuracy did not improve from 0.67045\n",
      "2/2 [==============================] - 1s 429ms/step - loss: 1.1808 - accuracy: 0.9730 - val_loss: 174.7869 - val_accuracy: 0.4091\n",
      "Epoch 14/50\n",
      "2/2 [==============================] - ETA: 0s - loss: 45.4945 - accuracy: 0.7297\n",
      "Epoch 14: val_accuracy did not improve from 0.67045\n",
      "2/2 [==============================] - 1s 413ms/step - loss: 45.4945 - accuracy: 0.7297 - val_loss: 179.7169 - val_accuracy: 0.4091\n",
      "Epoch 15/50\n",
      "2/2 [==============================] - ETA: 0s - loss: 15.4367 - accuracy: 0.8378\n",
      "Epoch 15: val_accuracy did not improve from 0.67045\n",
      "2/2 [==============================] - 1s 438ms/step - loss: 15.4367 - accuracy: 0.8378 - val_loss: 150.9484 - val_accuracy: 0.4886\n",
      "Epoch 16/50\n",
      "2/2 [==============================] - ETA: 0s - loss: 49.1363 - accuracy: 0.7027\n",
      "Epoch 16: val_accuracy did not improve from 0.67045\n",
      "2/2 [==============================] - 1s 415ms/step - loss: 49.1363 - accuracy: 0.7027 - val_loss: 685.0167 - val_accuracy: 0.3182\n",
      "Epoch 17/50\n",
      "2/2 [==============================] - ETA: 0s - loss: 384.9646 - accuracy: 0.4865\n",
      "Epoch 17: val_accuracy did not improve from 0.67045\n",
      "2/2 [==============================] - 1s 408ms/step - loss: 384.9646 - accuracy: 0.4865 - val_loss: 137.8347 - val_accuracy: 0.5000\n",
      "Epoch 18/50\n",
      "2/2 [==============================] - ETA: 0s - loss: 13.7509 - accuracy: 0.9189\n",
      "Epoch 18: val_accuracy did not improve from 0.67045\n",
      "2/2 [==============================] - 1s 411ms/step - loss: 13.7509 - accuracy: 0.9189 - val_loss: 85.2734 - val_accuracy: 0.6705\n",
      "Epoch 19/50\n",
      "2/2 [==============================] - ETA: 0s - loss: 0.0000e+00 - accuracy: 1.0000\n",
      "Epoch 19: val_accuracy did not improve from 0.67045\n",
      "2/2 [==============================] - 1s 416ms/step - loss: 0.0000e+00 - accuracy: 1.0000 - val_loss: 85.2734 - val_accuracy: 0.6705\n",
      "Epoch 20/50\n",
      "2/2 [==============================] - ETA: 0s - loss: 0.0000e+00 - accuracy: 1.0000\n",
      "Epoch 20: val_accuracy did not improve from 0.67045\n",
      "2/2 [==============================] - 1s 409ms/step - loss: 0.0000e+00 - accuracy: 1.0000 - val_loss: 85.2734 - val_accuracy: 0.6705\n",
      "Epoch 21/50\n",
      "2/2 [==============================] - ETA: 0s - loss: 1.3345e-05 - accuracy: 1.0000\n",
      "Epoch 21: val_accuracy did not improve from 0.67045\n",
      "2/2 [==============================] - 1s 408ms/step - loss: 1.3345e-05 - accuracy: 1.0000 - val_loss: 85.2762 - val_accuracy: 0.6705\n",
      "Epoch 22/50\n",
      "2/2 [==============================] - ETA: 0s - loss: 0.0000e+00 - accuracy: 1.0000\n",
      "Epoch 22: val_accuracy did not improve from 0.67045\n",
      "2/2 [==============================] - 1s 407ms/step - loss: 0.0000e+00 - accuracy: 1.0000 - val_loss: 85.2762 - val_accuracy: 0.6705\n",
      "Epoch 1/50\n",
      "2/2 [==============================] - ETA: 0s - loss: 1709.2059 - accuracy: 0.1351\n",
      "Epoch 1: val_accuracy improved from -inf to 0.23864, saving model to cnniteration2models-1686526734\\1C16-1D8-1686526762-01-0.239.hd5\n"
     ]
    },
    {
     "name": "stderr",
     "output_type": "stream",
     "text": [
      "WARNING:absl:Found untraced functions such as _jit_compiled_convolution_op, _update_step_xla while saving (showing 2 of 2). These functions will not be directly callable after loading.\n"
     ]
    },
    {
     "name": "stdout",
     "output_type": "stream",
     "text": [
      "INFO:tensorflow:Assets written to: cnniteration2models-1686526734\\1C16-1D8-1686526762-01-0.239.hd5\\assets\n"
     ]
    },
    {
     "name": "stderr",
     "output_type": "stream",
     "text": [
      "INFO:tensorflow:Assets written to: cnniteration2models-1686526734\\1C16-1D8-1686526762-01-0.239.hd5\\assets\n"
     ]
    },
    {
     "name": "stdout",
     "output_type": "stream",
     "text": [
      "2/2 [==============================] - 3s 2s/step - loss: 1709.2059 - accuracy: 0.1351 - val_loss: 3483.1289 - val_accuracy: 0.2386\n",
      "Epoch 2/50\n",
      "2/2 [==============================] - ETA: 0s - loss: 3044.6763 - accuracy: 0.1351\n",
      "Epoch 2: val_accuracy did not improve from 0.23864\n",
      "2/2 [==============================] - 2s 668ms/step - loss: 3044.6763 - accuracy: 0.1351 - val_loss: 5974.1738 - val_accuracy: 0.1932\n",
      "Epoch 3/50\n",
      "2/2 [==============================] - ETA: 0s - loss: 4108.3008 - accuracy: 0.2432\n",
      "Epoch 3: val_accuracy did not improve from 0.23864\n",
      "2/2 [==============================] - 2s 683ms/step - loss: 4108.3008 - accuracy: 0.2432 - val_loss: 2634.1904 - val_accuracy: 0.1818\n",
      "Epoch 4/50\n",
      "2/2 [==============================] - ETA: 0s - loss: 1321.2396 - accuracy: 0.3243\n",
      "Epoch 4: val_accuracy did not improve from 0.23864\n",
      "2/2 [==============================] - 2s 695ms/step - loss: 1321.2396 - accuracy: 0.3243 - val_loss: 3644.5688 - val_accuracy: 0.2273\n",
      "Epoch 5/50\n",
      "2/2 [==============================] - ETA: 0s - loss: 2874.8989 - accuracy: 0.1622\n",
      "Epoch 5: val_accuracy improved from 0.23864 to 0.25000, saving model to cnniteration2models-1686526734\\1C16-1D8-1686526762-05-0.250.hd5\n"
     ]
    },
    {
     "name": "stderr",
     "output_type": "stream",
     "text": [
      "WARNING:absl:Found untraced functions such as _jit_compiled_convolution_op, _update_step_xla while saving (showing 2 of 2). These functions will not be directly callable after loading.\n"
     ]
    },
    {
     "name": "stdout",
     "output_type": "stream",
     "text": [
      "INFO:tensorflow:Assets written to: cnniteration2models-1686526734\\1C16-1D8-1686526762-05-0.250.hd5\\assets\n"
     ]
    },
    {
     "name": "stderr",
     "output_type": "stream",
     "text": [
      "INFO:tensorflow:Assets written to: cnniteration2models-1686526734\\1C16-1D8-1686526762-05-0.250.hd5\\assets\n"
     ]
    },
    {
     "name": "stdout",
     "output_type": "stream",
     "text": [
      "2/2 [==============================] - 3s 2s/step - loss: 2874.8989 - accuracy: 0.1622 - val_loss: 3171.0427 - val_accuracy: 0.2500\n",
      "Epoch 6/50\n",
      "2/2 [==============================] - ETA: 0s - loss: 2184.4712 - accuracy: 0.3784\n",
      "Epoch 6: val_accuracy improved from 0.25000 to 0.56818, saving model to cnniteration2models-1686526734\\1C16-1D8-1686526762-06-0.568.hd5\n"
     ]
    },
    {
     "name": "stderr",
     "output_type": "stream",
     "text": [
      "WARNING:absl:Found untraced functions such as _jit_compiled_convolution_op, _update_step_xla while saving (showing 2 of 2). These functions will not be directly callable after loading.\n"
     ]
    },
    {
     "name": "stdout",
     "output_type": "stream",
     "text": [
      "INFO:tensorflow:Assets written to: cnniteration2models-1686526734\\1C16-1D8-1686526762-06-0.568.hd5\\assets\n"
     ]
    },
    {
     "name": "stderr",
     "output_type": "stream",
     "text": [
      "INFO:tensorflow:Assets written to: cnniteration2models-1686526734\\1C16-1D8-1686526762-06-0.568.hd5\\assets\n"
     ]
    },
    {
     "name": "stdout",
     "output_type": "stream",
     "text": [
      "2/2 [==============================] - 3s 2s/step - loss: 2184.4712 - accuracy: 0.3784 - val_loss: 674.1713 - val_accuracy: 0.5682\n",
      "Epoch 7/50\n",
      "2/2 [==============================] - ETA: 0s - loss: 244.4298 - accuracy: 0.7297\n",
      "Epoch 7: val_accuracy did not improve from 0.56818\n",
      "2/2 [==============================] - 2s 694ms/step - loss: 244.4298 - accuracy: 0.7297 - val_loss: 1286.8979 - val_accuracy: 0.4773\n",
      "Epoch 8/50\n",
      "2/2 [==============================] - ETA: 0s - loss: 871.2008 - accuracy: 0.5946\n",
      "Epoch 8: val_accuracy did not improve from 0.56818\n",
      "2/2 [==============================] - 2s 701ms/step - loss: 871.2008 - accuracy: 0.5946 - val_loss: 822.6625 - val_accuracy: 0.5227\n",
      "Epoch 9/50\n",
      "2/2 [==============================] - ETA: 0s - loss: 194.6775 - accuracy: 0.7838\n",
      "Epoch 9: val_accuracy did not improve from 0.56818\n",
      "2/2 [==============================] - 2s 692ms/step - loss: 194.6775 - accuracy: 0.7838 - val_loss: 584.8324 - val_accuracy: 0.5000\n",
      "Epoch 10/50\n",
      "2/2 [==============================] - ETA: 0s - loss: 92.2051 - accuracy: 0.8649 \n",
      "Epoch 10: val_accuracy improved from 0.56818 to 0.59091, saving model to cnniteration2models-1686526734\\1C16-1D8-1686526762-10-0.591.hd5\n"
     ]
    },
    {
     "name": "stderr",
     "output_type": "stream",
     "text": [
      "WARNING:absl:Found untraced functions such as _jit_compiled_convolution_op, _update_step_xla while saving (showing 2 of 2). These functions will not be directly callable after loading.\n"
     ]
    },
    {
     "name": "stdout",
     "output_type": "stream",
     "text": [
      "INFO:tensorflow:Assets written to: cnniteration2models-1686526734\\1C16-1D8-1686526762-10-0.591.hd5\\assets\n"
     ]
    },
    {
     "name": "stderr",
     "output_type": "stream",
     "text": [
      "INFO:tensorflow:Assets written to: cnniteration2models-1686526734\\1C16-1D8-1686526762-10-0.591.hd5\\assets\n"
     ]
    },
    {
     "name": "stdout",
     "output_type": "stream",
     "text": [
      "2/2 [==============================] - 3s 2s/step - loss: 92.2051 - accuracy: 0.8649 - val_loss: 374.1041 - val_accuracy: 0.5909\n",
      "Epoch 11/50\n",
      "2/2 [==============================] - ETA: 0s - loss: 2.1955 - accuracy: 0.9730\n",
      "Epoch 11: val_accuracy improved from 0.59091 to 0.61364, saving model to cnniteration2models-1686526734\\1C16-1D8-1686526762-11-0.614.hd5\n"
     ]
    },
    {
     "name": "stderr",
     "output_type": "stream",
     "text": [
      "WARNING:absl:Found untraced functions such as _jit_compiled_convolution_op, _update_step_xla while saving (showing 2 of 2). These functions will not be directly callable after loading.\n"
     ]
    },
    {
     "name": "stdout",
     "output_type": "stream",
     "text": [
      "INFO:tensorflow:Assets written to: cnniteration2models-1686526734\\1C16-1D8-1686526762-11-0.614.hd5\\assets\n"
     ]
    },
    {
     "name": "stderr",
     "output_type": "stream",
     "text": [
      "INFO:tensorflow:Assets written to: cnniteration2models-1686526734\\1C16-1D8-1686526762-11-0.614.hd5\\assets\n"
     ]
    },
    {
     "name": "stdout",
     "output_type": "stream",
     "text": [
      "2/2 [==============================] - 3s 2s/step - loss: 2.1955 - accuracy: 0.9730 - val_loss: 359.8286 - val_accuracy: 0.6136\n",
      "Epoch 12/50\n",
      "2/2 [==============================] - ETA: 0s - loss: 0.0000e+00 - accuracy: 1.0000\n",
      "Epoch 12: val_accuracy did not improve from 0.61364\n",
      "2/2 [==============================] - 2s 714ms/step - loss: 0.0000e+00 - accuracy: 1.0000 - val_loss: 359.8286 - val_accuracy: 0.6136\n",
      "Epoch 13/50\n",
      "2/2 [==============================] - ETA: 0s - loss: 0.0000e+00 - accuracy: 1.0000\n",
      "Epoch 13: val_accuracy did not improve from 0.61364\n",
      "2/2 [==============================] - 2s 692ms/step - loss: 0.0000e+00 - accuracy: 1.0000 - val_loss: 359.8286 - val_accuracy: 0.6136\n",
      "Epoch 14/50\n",
      "2/2 [==============================] - ETA: 0s - loss: 0.0000e+00 - accuracy: 1.0000\n",
      "Epoch 14: val_accuracy did not improve from 0.61364\n",
      "2/2 [==============================] - 2s 695ms/step - loss: 0.0000e+00 - accuracy: 1.0000 - val_loss: 359.8286 - val_accuracy: 0.6136\n",
      "Epoch 15/50\n",
      "2/2 [==============================] - ETA: 0s - loss: 0.0000e+00 - accuracy: 1.0000\n",
      "Epoch 15: val_accuracy did not improve from 0.61364\n",
      "2/2 [==============================] - 2s 692ms/step - loss: 0.0000e+00 - accuracy: 1.0000 - val_loss: 359.8286 - val_accuracy: 0.6136\n",
      "Epoch 16/50\n",
      "2/2 [==============================] - ETA: 0s - loss: 0.0000e+00 - accuracy: 1.0000\n",
      "Epoch 16: val_accuracy did not improve from 0.61364\n",
      "2/2 [==============================] - 2s 693ms/step - loss: 0.0000e+00 - accuracy: 1.0000 - val_loss: 359.8286 - val_accuracy: 0.6136\n",
      "Epoch 17/50\n",
      "2/2 [==============================] - ETA: 0s - loss: 0.0000e+00 - accuracy: 1.0000\n",
      "Epoch 17: val_accuracy did not improve from 0.61364\n",
      "2/2 [==============================] - 2s 702ms/step - loss: 0.0000e+00 - accuracy: 1.0000 - val_loss: 359.8286 - val_accuracy: 0.6136\n",
      "Epoch 18/50\n",
      "2/2 [==============================] - ETA: 0s - loss: 0.0000e+00 - accuracy: 1.0000\n",
      "Epoch 18: val_accuracy did not improve from 0.61364\n",
      "2/2 [==============================] - 2s 692ms/step - loss: 0.0000e+00 - accuracy: 1.0000 - val_loss: 359.8286 - val_accuracy: 0.6136\n",
      "Epoch 19/50\n",
      "2/2 [==============================] - ETA: 0s - loss: 0.0000e+00 - accuracy: 1.0000\n",
      "Epoch 19: val_accuracy did not improve from 0.61364\n",
      "2/2 [==============================] - 2s 697ms/step - loss: 0.0000e+00 - accuracy: 1.0000 - val_loss: 359.8286 - val_accuracy: 0.6136\n",
      "Epoch 20/50\n",
      "2/2 [==============================] - ETA: 0s - loss: 0.0000e+00 - accuracy: 1.0000\n",
      "Epoch 20: val_accuracy did not improve from 0.61364\n",
      "2/2 [==============================] - 2s 692ms/step - loss: 0.0000e+00 - accuracy: 1.0000 - val_loss: 359.8286 - val_accuracy: 0.6136\n",
      "Epoch 21/50\n",
      "2/2 [==============================] - ETA: 0s - loss: 0.0000e+00 - accuracy: 1.0000\n",
      "Epoch 21: val_accuracy did not improve from 0.61364\n",
      "2/2 [==============================] - 2s 693ms/step - loss: 0.0000e+00 - accuracy: 1.0000 - val_loss: 359.8286 - val_accuracy: 0.6136\n",
      "Epoch 22/50\n",
      "2/2 [==============================] - ETA: 0s - loss: 0.0000e+00 - accuracy: 1.0000\n",
      "Epoch 22: val_accuracy did not improve from 0.61364\n",
      "2/2 [==============================] - 2s 696ms/step - loss: 0.0000e+00 - accuracy: 1.0000 - val_loss: 359.8286 - val_accuracy: 0.6136\n",
      "Epoch 23/50\n",
      "2/2 [==============================] - ETA: 0s - loss: 0.0000e+00 - accuracy: 1.0000\n",
      "Epoch 23: val_accuracy did not improve from 0.61364\n",
      "2/2 [==============================] - 2s 707ms/step - loss: 0.0000e+00 - accuracy: 1.0000 - val_loss: 359.8286 - val_accuracy: 0.6136\n",
      "Epoch 1/50\n",
      "2/2 [==============================] - ETA: 0s - loss: 103.4815 - accuracy: 0.2162\n",
      "Epoch 1: val_accuracy improved from -inf to 0.35227, saving model to cnniteration2models-1686526734\\2C8-1D8-1686526807-01-0.352.hd5\n"
     ]
    },
    {
     "name": "stderr",
     "output_type": "stream",
     "text": [
      "WARNING:absl:Found untraced functions such as _jit_compiled_convolution_op, _jit_compiled_convolution_op, _update_step_xla while saving (showing 3 of 3). These functions will not be directly callable after loading.\n"
     ]
    },
    {
     "name": "stdout",
     "output_type": "stream",
     "text": [
      "INFO:tensorflow:Assets written to: cnniteration2models-1686526734\\2C8-1D8-1686526807-01-0.352.hd5\\assets\n"
     ]
    },
    {
     "name": "stderr",
     "output_type": "stream",
     "text": [
      "INFO:tensorflow:Assets written to: cnniteration2models-1686526734\\2C8-1D8-1686526807-01-0.352.hd5\\assets\n"
     ]
    },
    {
     "name": "stdout",
     "output_type": "stream",
     "text": [
      "2/2 [==============================] - 4s 3s/step - loss: 103.4815 - accuracy: 0.2162 - val_loss: 169.4890 - val_accuracy: 0.3523\n",
      "Epoch 2/50\n",
      "2/2 [==============================] - ETA: 0s - loss: 223.8296 - accuracy: 0.3784\n",
      "Epoch 2: val_accuracy did not improve from 0.35227\n",
      "2/2 [==============================] - 2s 767ms/step - loss: 223.8296 - accuracy: 0.3784 - val_loss: 496.5020 - val_accuracy: 0.1591\n",
      "Epoch 3/50\n",
      "2/2 [==============================] - ETA: 0s - loss: 675.2365 - accuracy: 0.2703\n",
      "Epoch 3: val_accuracy did not improve from 0.35227\n",
      "2/2 [==============================] - 2s 765ms/step - loss: 675.2365 - accuracy: 0.2703 - val_loss: 236.1734 - val_accuracy: 0.2955\n",
      "Epoch 4/50\n",
      "2/2 [==============================] - ETA: 0s - loss: 221.3643 - accuracy: 0.3784\n",
      "Epoch 4: val_accuracy did not improve from 0.35227\n",
      "2/2 [==============================] - 2s 780ms/step - loss: 221.3643 - accuracy: 0.3784 - val_loss: 136.7466 - val_accuracy: 0.3409\n",
      "Epoch 5/50\n",
      "2/2 [==============================] - ETA: 0s - loss: 192.8764 - accuracy: 0.3243\n",
      "Epoch 5: val_accuracy improved from 0.35227 to 0.48864, saving model to cnniteration2models-1686526734\\2C8-1D8-1686526807-05-0.489.hd5\n"
     ]
    },
    {
     "name": "stderr",
     "output_type": "stream",
     "text": [
      "WARNING:absl:Found untraced functions such as _jit_compiled_convolution_op, _jit_compiled_convolution_op, _update_step_xla while saving (showing 3 of 3). These functions will not be directly callable after loading.\n"
     ]
    },
    {
     "name": "stdout",
     "output_type": "stream",
     "text": [
      "INFO:tensorflow:Assets written to: cnniteration2models-1686526734\\2C8-1D8-1686526807-05-0.489.hd5\\assets\n"
     ]
    },
    {
     "name": "stderr",
     "output_type": "stream",
     "text": [
      "INFO:tensorflow:Assets written to: cnniteration2models-1686526734\\2C8-1D8-1686526807-05-0.489.hd5\\assets\n"
     ]
    },
    {
     "name": "stdout",
     "output_type": "stream",
     "text": [
      "2/2 [==============================] - 4s 2s/step - loss: 192.8764 - accuracy: 0.3243 - val_loss: 93.5235 - val_accuracy: 0.4886\n",
      "Epoch 6/50\n",
      "2/2 [==============================] - ETA: 0s - loss: 49.5413 - accuracy: 0.7838\n",
      "Epoch 6: val_accuracy did not improve from 0.48864\n",
      "2/2 [==============================] - 2s 770ms/step - loss: 49.5413 - accuracy: 0.7838 - val_loss: 71.0264 - val_accuracy: 0.4773\n",
      "Epoch 7/50\n",
      "2/2 [==============================] - ETA: 0s - loss: 20.5534 - accuracy: 0.6486\n",
      "Epoch 7: val_accuracy did not improve from 0.48864\n",
      "2/2 [==============================] - 2s 765ms/step - loss: 20.5534 - accuracy: 0.6486 - val_loss: 123.9459 - val_accuracy: 0.2500\n",
      "Epoch 8/50\n",
      "2/2 [==============================] - ETA: 0s - loss: 111.3071 - accuracy: 0.3784\n",
      "Epoch 8: val_accuracy did not improve from 0.48864\n",
      "2/2 [==============================] - 2s 764ms/step - loss: 111.3071 - accuracy: 0.3784 - val_loss: 111.1064 - val_accuracy: 0.3977\n",
      "Epoch 9/50\n",
      "2/2 [==============================] - ETA: 0s - loss: 80.7786 - accuracy: 0.5135\n",
      "Epoch 9: val_accuracy improved from 0.48864 to 0.50000, saving model to cnniteration2models-1686526734\\2C8-1D8-1686526807-09-0.500.hd5\n"
     ]
    },
    {
     "name": "stderr",
     "output_type": "stream",
     "text": [
      "WARNING:absl:Found untraced functions such as _jit_compiled_convolution_op, _jit_compiled_convolution_op, _update_step_xla while saving (showing 3 of 3). These functions will not be directly callable after loading.\n"
     ]
    },
    {
     "name": "stdout",
     "output_type": "stream",
     "text": [
      "INFO:tensorflow:Assets written to: cnniteration2models-1686526734\\2C8-1D8-1686526807-09-0.500.hd5\\assets\n"
     ]
    },
    {
     "name": "stderr",
     "output_type": "stream",
     "text": [
      "INFO:tensorflow:Assets written to: cnniteration2models-1686526734\\2C8-1D8-1686526807-09-0.500.hd5\\assets\n"
     ]
    },
    {
     "name": "stdout",
     "output_type": "stream",
     "text": [
      "2/2 [==============================] - 3s 2s/step - loss: 80.7786 - accuracy: 0.5135 - val_loss: 115.1669 - val_accuracy: 0.5000\n",
      "Epoch 10/50\n",
      "2/2 [==============================] - ETA: 0s - loss: 71.3034 - accuracy: 0.7568\n",
      "Epoch 10: val_accuracy did not improve from 0.50000\n",
      "2/2 [==============================] - 2s 765ms/step - loss: 71.3034 - accuracy: 0.7568 - val_loss: 46.8609 - val_accuracy: 0.5000\n",
      "Epoch 11/50\n",
      "2/2 [==============================] - ETA: 0s - loss: 4.7144 - accuracy: 0.9459\n",
      "Epoch 11: val_accuracy did not improve from 0.50000\n",
      "2/2 [==============================] - 2s 769ms/step - loss: 4.7144 - accuracy: 0.9459 - val_loss: 88.4339 - val_accuracy: 0.3295\n",
      "Epoch 12/50\n",
      "2/2 [==============================] - ETA: 0s - loss: 53.5484 - accuracy: 0.5676\n",
      "Epoch 12: val_accuracy did not improve from 0.50000\n",
      "2/2 [==============================] - 2s 829ms/step - loss: 53.5484 - accuracy: 0.5676 - val_loss: 74.4700 - val_accuracy: 0.4886\n",
      "Epoch 1/50\n",
      "2/2 [==============================] - ETA: 0s - loss: 641.1925 - accuracy: 0.2973\n",
      "Epoch 1: val_accuracy improved from -inf to 0.19318, saving model to cnniteration2models-1686526734\\2C16-1D8-1686526837-01-0.193.hd5\n"
     ]
    },
    {
     "name": "stderr",
     "output_type": "stream",
     "text": [
      "WARNING:absl:Found untraced functions such as _jit_compiled_convolution_op, _jit_compiled_convolution_op, _update_step_xla while saving (showing 3 of 3). These functions will not be directly callable after loading.\n"
     ]
    },
    {
     "name": "stdout",
     "output_type": "stream",
     "text": [
      "INFO:tensorflow:Assets written to: cnniteration2models-1686526734\\2C16-1D8-1686526837-01-0.193.hd5\\assets\n"
     ]
    },
    {
     "name": "stderr",
     "output_type": "stream",
     "text": [
      "INFO:tensorflow:Assets written to: cnniteration2models-1686526734\\2C16-1D8-1686526837-01-0.193.hd5\\assets\n"
     ]
    },
    {
     "name": "stdout",
     "output_type": "stream",
     "text": [
      "2/2 [==============================] - 7s 3s/step - loss: 641.1925 - accuracy: 0.2973 - val_loss: 2739.5613 - val_accuracy: 0.1932\n",
      "Epoch 2/50\n",
      "2/2 [==============================] - ETA: 0s - loss: 2986.8953 - accuracy: 0.3243\n",
      "Epoch 2: val_accuracy did not improve from 0.19318\n",
      "2/2 [==============================] - 4s 1s/step - loss: 2986.8953 - accuracy: 0.3243 - val_loss: 4339.9814 - val_accuracy: 0.1818\n",
      "Epoch 3/50\n",
      "2/2 [==============================] - ETA: 0s - loss: 5458.4292 - accuracy: 0.2432\n",
      "Epoch 3: val_accuracy improved from 0.19318 to 0.27273, saving model to cnniteration2models-1686526734\\2C16-1D8-1686526837-03-0.273.hd5\n"
     ]
    },
    {
     "name": "stderr",
     "output_type": "stream",
     "text": [
      "WARNING:absl:Found untraced functions such as _jit_compiled_convolution_op, _jit_compiled_convolution_op, _update_step_xla while saving (showing 3 of 3). These functions will not be directly callable after loading.\n"
     ]
    },
    {
     "name": "stdout",
     "output_type": "stream",
     "text": [
      "INFO:tensorflow:Assets written to: cnniteration2models-1686526734\\2C16-1D8-1686526837-03-0.273.hd5\\assets\n"
     ]
    },
    {
     "name": "stderr",
     "output_type": "stream",
     "text": [
      "INFO:tensorflow:Assets written to: cnniteration2models-1686526734\\2C16-1D8-1686526837-03-0.273.hd5\\assets\n"
     ]
    },
    {
     "name": "stdout",
     "output_type": "stream",
     "text": [
      "2/2 [==============================] - 5s 3s/step - loss: 5458.4292 - accuracy: 0.2432 - val_loss: 2064.6289 - val_accuracy: 0.2727\n",
      "Epoch 4/50\n",
      "2/2 [==============================] - ETA: 0s - loss: 2902.6809 - accuracy: 0.1622\n",
      "Epoch 4: val_accuracy improved from 0.27273 to 0.30682, saving model to cnniteration2models-1686526734\\2C16-1D8-1686526837-04-0.307.hd5\n"
     ]
    },
    {
     "name": "stderr",
     "output_type": "stream",
     "text": [
      "WARNING:absl:Found untraced functions such as _jit_compiled_convolution_op, _jit_compiled_convolution_op, _update_step_xla while saving (showing 3 of 3). These functions will not be directly callable after loading.\n"
     ]
    },
    {
     "name": "stdout",
     "output_type": "stream",
     "text": [
      "INFO:tensorflow:Assets written to: cnniteration2models-1686526734\\2C16-1D8-1686526837-04-0.307.hd5\\assets\n"
     ]
    },
    {
     "name": "stderr",
     "output_type": "stream",
     "text": [
      "INFO:tensorflow:Assets written to: cnniteration2models-1686526734\\2C16-1D8-1686526837-04-0.307.hd5\\assets\n"
     ]
    },
    {
     "name": "stdout",
     "output_type": "stream",
     "text": [
      "2/2 [==============================] - 5s 3s/step - loss: 2902.6809 - accuracy: 0.1622 - val_loss: 2370.6584 - val_accuracy: 0.3068\n",
      "Epoch 5/50\n",
      "2/2 [==============================] - ETA: 0s - loss: 1628.0726 - accuracy: 0.4595\n",
      "Epoch 5: val_accuracy improved from 0.30682 to 0.35227, saving model to cnniteration2models-1686526734\\2C16-1D8-1686526837-05-0.352.hd5\n"
     ]
    },
    {
     "name": "stderr",
     "output_type": "stream",
     "text": [
      "WARNING:absl:Found untraced functions such as _jit_compiled_convolution_op, _jit_compiled_convolution_op, _update_step_xla while saving (showing 3 of 3). These functions will not be directly callable after loading.\n"
     ]
    },
    {
     "name": "stdout",
     "output_type": "stream",
     "text": [
      "INFO:tensorflow:Assets written to: cnniteration2models-1686526734\\2C16-1D8-1686526837-05-0.352.hd5\\assets\n"
     ]
    },
    {
     "name": "stderr",
     "output_type": "stream",
     "text": [
      "INFO:tensorflow:Assets written to: cnniteration2models-1686526734\\2C16-1D8-1686526837-05-0.352.hd5\\assets\n"
     ]
    },
    {
     "name": "stdout",
     "output_type": "stream",
     "text": [
      "2/2 [==============================] - 5s 3s/step - loss: 1628.0726 - accuracy: 0.4595 - val_loss: 1662.9116 - val_accuracy: 0.3523\n",
      "Epoch 6/50\n",
      "2/2 [==============================] - ETA: 0s - loss: 801.3410 - accuracy: 0.6757\n",
      "Epoch 6: val_accuracy did not improve from 0.35227\n",
      "2/2 [==============================] - 4s 1s/step - loss: 801.3410 - accuracy: 0.6757 - val_loss: 1091.1506 - val_accuracy: 0.2500\n",
      "Epoch 7/50\n",
      "2/2 [==============================] - ETA: 0s - loss: 302.6983 - accuracy: 0.5946\n",
      "Epoch 7: val_accuracy improved from 0.35227 to 0.52273, saving model to cnniteration2models-1686526734\\2C16-1D8-1686526837-07-0.523.hd5\n"
     ]
    },
    {
     "name": "stderr",
     "output_type": "stream",
     "text": [
      "WARNING:absl:Found untraced functions such as _jit_compiled_convolution_op, _jit_compiled_convolution_op, _update_step_xla while saving (showing 3 of 3). These functions will not be directly callable after loading.\n"
     ]
    },
    {
     "name": "stdout",
     "output_type": "stream",
     "text": [
      "INFO:tensorflow:Assets written to: cnniteration2models-1686526734\\2C16-1D8-1686526837-07-0.523.hd5\\assets\n"
     ]
    },
    {
     "name": "stderr",
     "output_type": "stream",
     "text": [
      "INFO:tensorflow:Assets written to: cnniteration2models-1686526734\\2C16-1D8-1686526837-07-0.523.hd5\\assets\n"
     ]
    },
    {
     "name": "stdout",
     "output_type": "stream",
     "text": [
      "2/2 [==============================] - 5s 3s/step - loss: 302.6983 - accuracy: 0.5946 - val_loss: 493.1959 - val_accuracy: 0.5227\n",
      "Epoch 8/50\n",
      "2/2 [==============================] - ETA: 0s - loss: 162.2408 - accuracy: 0.6757\n",
      "Epoch 8: val_accuracy did not improve from 0.52273\n",
      "2/2 [==============================] - 4s 1s/step - loss: 162.2408 - accuracy: 0.6757 - val_loss: 1058.5442 - val_accuracy: 0.4773\n",
      "Epoch 9/50\n",
      "2/2 [==============================] - ETA: 0s - loss: 732.6522 - accuracy: 0.6486\n",
      "Epoch 9: val_accuracy did not improve from 0.52273\n",
      "2/2 [==============================] - 4s 1s/step - loss: 732.6522 - accuracy: 0.6486 - val_loss: 485.3882 - val_accuracy: 0.4659\n",
      "Epoch 10/50\n",
      "2/2 [==============================] - ETA: 0s - loss: 52.2884 - accuracy: 0.9459\n",
      "Epoch 10: val_accuracy improved from 0.52273 to 0.53409, saving model to cnniteration2models-1686526734\\2C16-1D8-1686526837-10-0.534.hd5\n"
     ]
    },
    {
     "name": "stderr",
     "output_type": "stream",
     "text": [
      "WARNING:absl:Found untraced functions such as _jit_compiled_convolution_op, _jit_compiled_convolution_op, _update_step_xla while saving (showing 3 of 3). These functions will not be directly callable after loading.\n"
     ]
    },
    {
     "name": "stdout",
     "output_type": "stream",
     "text": [
      "INFO:tensorflow:Assets written to: cnniteration2models-1686526734\\2C16-1D8-1686526837-10-0.534.hd5\\assets\n"
     ]
    },
    {
     "name": "stderr",
     "output_type": "stream",
     "text": [
      "INFO:tensorflow:Assets written to: cnniteration2models-1686526734\\2C16-1D8-1686526837-10-0.534.hd5\\assets\n"
     ]
    },
    {
     "name": "stdout",
     "output_type": "stream",
     "text": [
      "2/2 [==============================] - 5s 3s/step - loss: 52.2884 - accuracy: 0.9459 - val_loss: 403.1872 - val_accuracy: 0.5341\n",
      "Epoch 11/50\n",
      "2/2 [==============================] - ETA: 0s - loss: 53.9347 - accuracy: 0.8649\n",
      "Epoch 11: val_accuracy did not improve from 0.53409\n",
      "2/2 [==============================] - 4s 1s/step - loss: 53.9347 - accuracy: 0.8649 - val_loss: 634.2070 - val_accuracy: 0.4545\n",
      "Epoch 12/50\n",
      "2/2 [==============================] - ETA: 0s - loss: 1228.5417 - accuracy: 0.4324\n",
      "Epoch 12: val_accuracy did not improve from 0.53409\n",
      "2/2 [==============================] - 4s 1s/step - loss: 1228.5417 - accuracy: 0.4324 - val_loss: 1182.9106 - val_accuracy: 0.3295\n",
      "Epoch 13/50\n",
      "2/2 [==============================] - ETA: 0s - loss: 444.1739 - accuracy: 0.7027\n",
      "Epoch 13: val_accuracy improved from 0.53409 to 0.56818, saving model to cnniteration2models-1686526734\\2C16-1D8-1686526837-13-0.568.hd5\n"
     ]
    },
    {
     "name": "stderr",
     "output_type": "stream",
     "text": [
      "WARNING:absl:Found untraced functions such as _jit_compiled_convolution_op, _jit_compiled_convolution_op, _update_step_xla while saving (showing 3 of 3). These functions will not be directly callable after loading.\n"
     ]
    },
    {
     "name": "stdout",
     "output_type": "stream",
     "text": [
      "INFO:tensorflow:Assets written to: cnniteration2models-1686526734\\2C16-1D8-1686526837-13-0.568.hd5\\assets\n"
     ]
    },
    {
     "name": "stderr",
     "output_type": "stream",
     "text": [
      "INFO:tensorflow:Assets written to: cnniteration2models-1686526734\\2C16-1D8-1686526837-13-0.568.hd5\\assets\n"
     ]
    },
    {
     "name": "stdout",
     "output_type": "stream",
     "text": [
      "2/2 [==============================] - 5s 3s/step - loss: 444.1739 - accuracy: 0.7027 - val_loss: 390.0800 - val_accuracy: 0.5682\n",
      "Epoch 14/50\n",
      "2/2 [==============================] - ETA: 0s - loss: 30.4174 - accuracy: 0.9189\n",
      "Epoch 14: val_accuracy did not improve from 0.56818\n",
      "2/2 [==============================] - 4s 1s/step - loss: 30.4174 - accuracy: 0.9189 - val_loss: 457.2310 - val_accuracy: 0.5341\n",
      "Epoch 15/50\n",
      "2/2 [==============================] - ETA: 0s - loss: 18.5974 - accuracy: 0.9459\n",
      "Epoch 15: val_accuracy improved from 0.56818 to 0.61364, saving model to cnniteration2models-1686526734\\2C16-1D8-1686526837-15-0.614.hd5\n"
     ]
    },
    {
     "name": "stderr",
     "output_type": "stream",
     "text": [
      "WARNING:absl:Found untraced functions such as _jit_compiled_convolution_op, _jit_compiled_convolution_op, _update_step_xla while saving (showing 3 of 3). These functions will not be directly callable after loading.\n"
     ]
    },
    {
     "name": "stdout",
     "output_type": "stream",
     "text": [
      "INFO:tensorflow:Assets written to: cnniteration2models-1686526734\\2C16-1D8-1686526837-15-0.614.hd5\\assets\n"
     ]
    },
    {
     "name": "stderr",
     "output_type": "stream",
     "text": [
      "INFO:tensorflow:Assets written to: cnniteration2models-1686526734\\2C16-1D8-1686526837-15-0.614.hd5\\assets\n"
     ]
    },
    {
     "name": "stdout",
     "output_type": "stream",
     "text": [
      "2/2 [==============================] - 5s 3s/step - loss: 18.5974 - accuracy: 0.9459 - val_loss: 327.7923 - val_accuracy: 0.6136\n",
      "Epoch 16/50\n",
      "2/2 [==============================] - ETA: 0s - loss: 0.7620 - accuracy: 0.9730\n",
      "Epoch 16: val_accuracy did not improve from 0.61364\n",
      "2/2 [==============================] - 4s 1s/step - loss: 0.7620 - accuracy: 0.9730 - val_loss: 392.1522 - val_accuracy: 0.5455\n",
      "Epoch 17/50\n",
      "2/2 [==============================] - ETA: 0s - loss: 6.0859 - accuracy: 0.9730\n",
      "Epoch 17: val_accuracy did not improve from 0.61364\n",
      "2/2 [==============================] - 4s 1s/step - loss: 6.0859 - accuracy: 0.9730 - val_loss: 326.4071 - val_accuracy: 0.6136\n",
      "Epoch 18/50\n",
      "2/2 [==============================] - ETA: 0s - loss: 0.0000e+00 - accuracy: 1.0000\n",
      "Epoch 18: val_accuracy did not improve from 0.61364\n",
      "2/2 [==============================] - 4s 1s/step - loss: 0.0000e+00 - accuracy: 1.0000 - val_loss: 326.4071 - val_accuracy: 0.6136\n",
      "Epoch 19/50\n",
      "2/2 [==============================] - ETA: 0s - loss: 0.0000e+00 - accuracy: 1.0000\n",
      "Epoch 19: val_accuracy did not improve from 0.61364\n",
      "2/2 [==============================] - 4s 1s/step - loss: 0.0000e+00 - accuracy: 1.0000 - val_loss: 326.4071 - val_accuracy: 0.6136\n",
      "Epoch 20/50\n",
      "2/2 [==============================] - ETA: 0s - loss: 0.0000e+00 - accuracy: 1.0000\n",
      "Epoch 20: val_accuracy did not improve from 0.61364\n",
      "2/2 [==============================] - 4s 1s/step - loss: 0.0000e+00 - accuracy: 1.0000 - val_loss: 326.4071 - val_accuracy: 0.6136\n",
      "Epoch 21/50\n",
      "2/2 [==============================] - ETA: 0s - loss: 0.0000e+00 - accuracy: 1.0000\n",
      "Epoch 21: val_accuracy did not improve from 0.61364\n",
      "2/2 [==============================] - 4s 1s/step - loss: 0.0000e+00 - accuracy: 1.0000 - val_loss: 326.4071 - val_accuracy: 0.6136\n",
      "Epoch 22/50\n",
      "2/2 [==============================] - ETA: 0s - loss: 0.5866 - accuracy: 0.9730\n",
      "Epoch 22: val_accuracy did not improve from 0.61364\n",
      "2/2 [==============================] - 4s 1s/step - loss: 0.5866 - accuracy: 0.9730 - val_loss: 485.6968 - val_accuracy: 0.4091\n",
      "Epoch 23/50\n",
      "2/2 [==============================] - ETA: 0s - loss: 73.6160 - accuracy: 0.8649\n",
      "Epoch 23: val_accuracy did not improve from 0.61364\n",
      "2/2 [==============================] - 4s 1s/step - loss: 73.6160 - accuracy: 0.8649 - val_loss: 1483.6727 - val_accuracy: 0.4091\n",
      "Epoch 24/50\n",
      "2/2 [==============================] - ETA: 0s - loss: 970.7051 - accuracy: 0.6216 \n",
      "Epoch 24: val_accuracy did not improve from 0.61364\n",
      "2/2 [==============================] - 4s 1s/step - loss: 970.7051 - accuracy: 0.6216 - val_loss: 2751.3030 - val_accuracy: 0.2273\n",
      "Epoch 25/50\n",
      "2/2 [==============================] - ETA: 0s - loss: 1538.4535 - accuracy: 0.4324\n",
      "Epoch 25: val_accuracy did not improve from 0.61364\n",
      "2/2 [==============================] - 4s 1s/step - loss: 1538.4535 - accuracy: 0.4324 - val_loss: 678.8459 - val_accuracy: 0.4545\n",
      "Epoch 26/50\n",
      "2/2 [==============================] - ETA: 0s - loss: 350.8790 - accuracy: 0.7838\n",
      "Epoch 26: val_accuracy did not improve from 0.61364\n",
      "2/2 [==============================] - 4s 1s/step - loss: 350.8790 - accuracy: 0.7838 - val_loss: 556.3448 - val_accuracy: 0.5000\n",
      "Epoch 27/50\n",
      "2/2 [==============================] - ETA: 0s - loss: 48.8130 - accuracy: 0.9189\n",
      "Epoch 27: val_accuracy improved from 0.61364 to 0.64773, saving model to cnniteration2models-1686526734\\2C16-1D8-1686526837-27-0.648.hd5\n"
     ]
    },
    {
     "name": "stderr",
     "output_type": "stream",
     "text": [
      "WARNING:absl:Found untraced functions such as _jit_compiled_convolution_op, _jit_compiled_convolution_op, _update_step_xla while saving (showing 3 of 3). These functions will not be directly callable after loading.\n"
     ]
    },
    {
     "name": "stdout",
     "output_type": "stream",
     "text": [
      "INFO:tensorflow:Assets written to: cnniteration2models-1686526734\\2C16-1D8-1686526837-27-0.648.hd5\\assets\n"
     ]
    },
    {
     "name": "stderr",
     "output_type": "stream",
     "text": [
      "INFO:tensorflow:Assets written to: cnniteration2models-1686526734\\2C16-1D8-1686526837-27-0.648.hd5\\assets\n"
     ]
    },
    {
     "name": "stdout",
     "output_type": "stream",
     "text": [
      "2/2 [==============================] - 5s 3s/step - loss: 48.8130 - accuracy: 0.9189 - val_loss: 392.4324 - val_accuracy: 0.6477\n",
      "Epoch 28/50\n",
      "2/2 [==============================] - ETA: 0s - loss: 0.0000e+00 - accuracy: 1.0000\n",
      "Epoch 28: val_accuracy did not improve from 0.64773\n",
      "2/2 [==============================] - 4s 1s/step - loss: 0.0000e+00 - accuracy: 1.0000 - val_loss: 392.4324 - val_accuracy: 0.6477\n",
      "Epoch 29/50\n",
      "2/2 [==============================] - ETA: 0s - loss: 0.0000e+00 - accuracy: 1.0000\n",
      "Epoch 29: val_accuracy did not improve from 0.64773\n",
      "2/2 [==============================] - 4s 1s/step - loss: 0.0000e+00 - accuracy: 1.0000 - val_loss: 392.4324 - val_accuracy: 0.6477\n",
      "Epoch 30/50\n",
      "2/2 [==============================] - ETA: 0s - loss: 0.0000e+00 - accuracy: 1.0000\n",
      "Epoch 30: val_accuracy did not improve from 0.64773\n",
      "2/2 [==============================] - 4s 1s/step - loss: 0.0000e+00 - accuracy: 1.0000 - val_loss: 392.4324 - val_accuracy: 0.6477\n",
      "Epoch 31/50\n",
      "2/2 [==============================] - ETA: 0s - loss: 0.0000e+00 - accuracy: 1.0000\n",
      "Epoch 31: val_accuracy did not improve from 0.64773\n",
      "2/2 [==============================] - 4s 1s/step - loss: 0.0000e+00 - accuracy: 1.0000 - val_loss: 392.4324 - val_accuracy: 0.6477\n",
      "Epoch 32/50\n",
      "2/2 [==============================] - ETA: 0s - loss: 0.0000e+00 - accuracy: 1.0000\n",
      "Epoch 32: val_accuracy did not improve from 0.64773\n",
      "2/2 [==============================] - 4s 1s/step - loss: 0.0000e+00 - accuracy: 1.0000 - val_loss: 392.4324 - val_accuracy: 0.6477\n",
      "Epoch 33/50\n",
      "2/2 [==============================] - ETA: 0s - loss: 0.0000e+00 - accuracy: 1.0000\n",
      "Epoch 33: val_accuracy did not improve from 0.64773\n",
      "2/2 [==============================] - 4s 1s/step - loss: 0.0000e+00 - accuracy: 1.0000 - val_loss: 392.4324 - val_accuracy: 0.6477\n",
      "Epoch 34/50\n",
      "2/2 [==============================] - ETA: 0s - loss: 5.3078 - accuracy: 0.9459\n",
      "Epoch 34: val_accuracy did not improve from 0.64773\n",
      "2/2 [==============================] - 4s 1s/step - loss: 5.3078 - accuracy: 0.9459 - val_loss: 735.5664 - val_accuracy: 0.5455\n",
      "Epoch 35/50\n",
      "2/2 [==============================] - ETA: 0s - loss: 45.9762 - accuracy: 0.9459\n",
      "Epoch 35: val_accuracy did not improve from 0.64773\n",
      "2/2 [==============================] - 4s 1s/step - loss: 45.9762 - accuracy: 0.9459 - val_loss: 546.5699 - val_accuracy: 0.5455\n",
      "Epoch 36/50\n",
      "2/2 [==============================] - ETA: 0s - loss: 105.1871 - accuracy: 0.8649\n",
      "Epoch 36: val_accuracy did not improve from 0.64773\n",
      "2/2 [==============================] - 4s 1s/step - loss: 105.1871 - accuracy: 0.8649 - val_loss: 522.8111 - val_accuracy: 0.5909\n",
      "Epoch 37/50\n",
      "2/2 [==============================] - ETA: 0s - loss: 64.6485 - accuracy: 0.8919\n",
      "Epoch 37: val_accuracy did not improve from 0.64773\n",
      "2/2 [==============================] - 4s 1s/step - loss: 64.6485 - accuracy: 0.8919 - val_loss: 1358.1744 - val_accuracy: 0.4091\n",
      "Epoch 38/50\n",
      "2/2 [==============================] - ETA: 0s - loss: 509.7332 - accuracy: 0.6486\n",
      "Epoch 38: val_accuracy did not improve from 0.64773\n",
      "2/2 [==============================] - 4s 1s/step - loss: 509.7332 - accuracy: 0.6486 - val_loss: 1055.5409 - val_accuracy: 0.4205\n",
      "Epoch 39/50\n",
      "2/2 [==============================] - ETA: 0s - loss: 208.2903 - accuracy: 0.7568\n",
      "Epoch 39: val_accuracy did not improve from 0.64773\n",
      "2/2 [==============================] - 4s 1s/step - loss: 208.2903 - accuracy: 0.7568 - val_loss: 771.4492 - val_accuracy: 0.4432\n",
      "Epoch 1/50\n",
      "2/2 [==============================] - ETA: 0s - loss: 483.2971 - accuracy: 0.1622\n",
      "Epoch 1: val_accuracy improved from -inf to 0.28409, saving model to cnniteration2models-1686526734\\1C8-1D16-1686526997-01-0.284.hd5\n"
     ]
    },
    {
     "name": "stderr",
     "output_type": "stream",
     "text": [
      "WARNING:absl:Found untraced functions such as _jit_compiled_convolution_op, _update_step_xla while saving (showing 2 of 2). These functions will not be directly callable after loading.\n"
     ]
    },
    {
     "name": "stdout",
     "output_type": "stream",
     "text": [
      "INFO:tensorflow:Assets written to: cnniteration2models-1686526734\\1C8-1D16-1686526997-01-0.284.hd5\\assets\n"
     ]
    },
    {
     "name": "stderr",
     "output_type": "stream",
     "text": [
      "INFO:tensorflow:Assets written to: cnniteration2models-1686526734\\1C8-1D16-1686526997-01-0.284.hd5\\assets\n"
     ]
    },
    {
     "name": "stdout",
     "output_type": "stream",
     "text": [
      "2/2 [==============================] - 3s 2s/step - loss: 483.2971 - accuracy: 0.1622 - val_loss: 2930.6826 - val_accuracy: 0.2841\n",
      "Epoch 2/50\n",
      "2/2 [==============================] - ETA: 0s - loss: 1885.6930 - accuracy: 0.4595\n",
      "Epoch 2: val_accuracy did not improve from 0.28409\n",
      "2/2 [==============================] - 1s 410ms/step - loss: 1885.6930 - accuracy: 0.4595 - val_loss: 960.9503 - val_accuracy: 0.2500\n",
      "Epoch 3/50\n",
      "2/2 [==============================] - ETA: 0s - loss: 425.6767 - accuracy: 0.4595\n",
      "Epoch 3: val_accuracy did not improve from 0.28409\n",
      "2/2 [==============================] - 1s 414ms/step - loss: 425.6767 - accuracy: 0.4595 - val_loss: 1597.5492 - val_accuracy: 0.2727\n",
      "Epoch 4/50\n",
      "2/2 [==============================] - ETA: 0s - loss: 1588.5526 - accuracy: 0.3243\n",
      "Epoch 4: val_accuracy improved from 0.28409 to 0.30682, saving model to cnniteration2models-1686526734\\1C8-1D16-1686526997-04-0.307.hd5\n"
     ]
    },
    {
     "name": "stderr",
     "output_type": "stream",
     "text": [
      "WARNING:absl:Found untraced functions such as _jit_compiled_convolution_op, _update_step_xla while saving (showing 2 of 2). These functions will not be directly callable after loading.\n"
     ]
    },
    {
     "name": "stdout",
     "output_type": "stream",
     "text": [
      "INFO:tensorflow:Assets written to: cnniteration2models-1686526734\\1C8-1D16-1686526997-04-0.307.hd5\\assets\n"
     ]
    },
    {
     "name": "stderr",
     "output_type": "stream",
     "text": [
      "INFO:tensorflow:Assets written to: cnniteration2models-1686526734\\1C8-1D16-1686526997-04-0.307.hd5\\assets\n"
     ]
    },
    {
     "name": "stdout",
     "output_type": "stream",
     "text": [
      "2/2 [==============================] - 2s 2s/step - loss: 1588.5526 - accuracy: 0.3243 - val_loss: 1084.9683 - val_accuracy: 0.3068\n",
      "Epoch 5/50\n",
      "2/2 [==============================] - ETA: 0s - loss: 571.9864 - accuracy: 0.5135\n",
      "Epoch 5: val_accuracy did not improve from 0.30682\n",
      "2/2 [==============================] - 1s 415ms/step - loss: 571.9864 - accuracy: 0.5135 - val_loss: 1230.1837 - val_accuracy: 0.2500\n",
      "Epoch 6/50\n",
      "2/2 [==============================] - ETA: 0s - loss: 773.7195 - accuracy: 0.3784\n",
      "Epoch 6: val_accuracy did not improve from 0.30682\n",
      "2/2 [==============================] - 1s 412ms/step - loss: 773.7195 - accuracy: 0.3784 - val_loss: 1006.2383 - val_accuracy: 0.2614\n",
      "Epoch 7/50\n",
      "2/2 [==============================] - ETA: 0s - loss: 522.5619 - accuracy: 0.4054\n",
      "Epoch 7: val_accuracy improved from 0.30682 to 0.40909, saving model to cnniteration2models-1686526734\\1C8-1D16-1686526997-07-0.409.hd5\n"
     ]
    },
    {
     "name": "stderr",
     "output_type": "stream",
     "text": [
      "WARNING:absl:Found untraced functions such as _jit_compiled_convolution_op, _update_step_xla while saving (showing 2 of 2). These functions will not be directly callable after loading.\n"
     ]
    },
    {
     "name": "stdout",
     "output_type": "stream",
     "text": [
      "INFO:tensorflow:Assets written to: cnniteration2models-1686526734\\1C8-1D16-1686526997-07-0.409.hd5\\assets\n"
     ]
    },
    {
     "name": "stderr",
     "output_type": "stream",
     "text": [
      "INFO:tensorflow:Assets written to: cnniteration2models-1686526734\\1C8-1D16-1686526997-07-0.409.hd5\\assets\n"
     ]
    },
    {
     "name": "stdout",
     "output_type": "stream",
     "text": [
      "2/2 [==============================] - 2s 1s/step - loss: 522.5619 - accuracy: 0.4054 - val_loss: 300.2715 - val_accuracy: 0.4091\n",
      "Epoch 8/50\n",
      "2/2 [==============================] - ETA: 0s - loss: 69.3337 - accuracy: 0.7568\n",
      "Epoch 8: val_accuracy did not improve from 0.40909\n",
      "2/2 [==============================] - 1s 413ms/step - loss: 69.3337 - accuracy: 0.7568 - val_loss: 621.7078 - val_accuracy: 0.3409\n",
      "Epoch 9/50\n",
      "2/2 [==============================] - ETA: 0s - loss: 257.0947 - accuracy: 0.5676\n",
      "Epoch 9: val_accuracy improved from 0.40909 to 0.65909, saving model to cnniteration2models-1686526734\\1C8-1D16-1686526997-09-0.659.hd5\n"
     ]
    },
    {
     "name": "stderr",
     "output_type": "stream",
     "text": [
      "WARNING:absl:Found untraced functions such as _jit_compiled_convolution_op, _update_step_xla while saving (showing 2 of 2). These functions will not be directly callable after loading.\n"
     ]
    },
    {
     "name": "stdout",
     "output_type": "stream",
     "text": [
      "INFO:tensorflow:Assets written to: cnniteration2models-1686526734\\1C8-1D16-1686526997-09-0.659.hd5\\assets\n"
     ]
    },
    {
     "name": "stderr",
     "output_type": "stream",
     "text": [
      "INFO:tensorflow:Assets written to: cnniteration2models-1686526734\\1C8-1D16-1686526997-09-0.659.hd5\\assets\n"
     ]
    },
    {
     "name": "stdout",
     "output_type": "stream",
     "text": [
      "2/2 [==============================] - 2s 1s/step - loss: 257.0947 - accuracy: 0.5676 - val_loss: 271.9716 - val_accuracy: 0.6591\n",
      "Epoch 10/50\n",
      "2/2 [==============================] - ETA: 0s - loss: 226.7967 - accuracy: 0.7027\n",
      "Epoch 10: val_accuracy did not improve from 0.65909\n",
      "2/2 [==============================] - 1s 417ms/step - loss: 226.7967 - accuracy: 0.7027 - val_loss: 213.1497 - val_accuracy: 0.6250\n",
      "Epoch 11/50\n",
      "2/2 [==============================] - ETA: 0s - loss: 73.4096 - accuracy: 0.7568\n",
      "Epoch 11: val_accuracy did not improve from 0.65909\n",
      "2/2 [==============================] - 1s 418ms/step - loss: 73.4096 - accuracy: 0.7568 - val_loss: 464.9722 - val_accuracy: 0.3750\n",
      "Epoch 12/50\n",
      "2/2 [==============================] - ETA: 0s - loss: 192.3000 - accuracy: 0.6216\n",
      "Epoch 12: val_accuracy did not improve from 0.65909\n",
      "2/2 [==============================] - 1s 443ms/step - loss: 192.3000 - accuracy: 0.6216 - val_loss: 213.1719 - val_accuracy: 0.5682\n",
      "Epoch 13/50\n",
      "2/2 [==============================] - ETA: 0s - loss: 10.2143 - accuracy: 0.8919\n",
      "Epoch 13: val_accuracy did not improve from 0.65909\n",
      "2/2 [==============================] - 1s 422ms/step - loss: 10.2143 - accuracy: 0.8919 - val_loss: 181.8105 - val_accuracy: 0.6250\n",
      "Epoch 14/50\n",
      "2/2 [==============================] - ETA: 0s - loss: 1.1599e-07 - accuracy: 1.0000\n",
      "Epoch 14: val_accuracy did not improve from 0.65909\n",
      "2/2 [==============================] - 1s 468ms/step - loss: 1.1599e-07 - accuracy: 1.0000 - val_loss: 181.8067 - val_accuracy: 0.6250\n",
      "Epoch 15/50\n",
      "2/2 [==============================] - ETA: 0s - loss: 0.2380 - accuracy: 0.9730\n",
      "Epoch 15: val_accuracy improved from 0.65909 to 0.67045, saving model to cnniteration2models-1686526734\\1C8-1D16-1686526997-15-0.670.hd5\n"
     ]
    },
    {
     "name": "stderr",
     "output_type": "stream",
     "text": [
      "WARNING:absl:Found untraced functions such as _jit_compiled_convolution_op, _update_step_xla while saving (showing 2 of 2). These functions will not be directly callable after loading.\n"
     ]
    },
    {
     "name": "stdout",
     "output_type": "stream",
     "text": [
      "INFO:tensorflow:Assets written to: cnniteration2models-1686526734\\1C8-1D16-1686526997-15-0.670.hd5\\assets\n"
     ]
    },
    {
     "name": "stderr",
     "output_type": "stream",
     "text": [
      "INFO:tensorflow:Assets written to: cnniteration2models-1686526734\\1C8-1D16-1686526997-15-0.670.hd5\\assets\n"
     ]
    },
    {
     "name": "stdout",
     "output_type": "stream",
     "text": [
      "2/2 [==============================] - 2s 2s/step - loss: 0.2380 - accuracy: 0.9730 - val_loss: 163.1304 - val_accuracy: 0.6705\n",
      "Epoch 16/50\n",
      "2/2 [==============================] - ETA: 0s - loss: 0.0000e+00 - accuracy: 1.0000\n",
      "Epoch 16: val_accuracy did not improve from 0.67045\n",
      "2/2 [==============================] - 1s 411ms/step - loss: 0.0000e+00 - accuracy: 1.0000 - val_loss: 163.1304 - val_accuracy: 0.6705\n",
      "Epoch 17/50\n",
      "2/2 [==============================] - ETA: 0s - loss: 4.7632e-05 - accuracy: 1.0000\n",
      "Epoch 17: val_accuracy did not improve from 0.67045\n",
      "2/2 [==============================] - 1s 408ms/step - loss: 4.7632e-05 - accuracy: 1.0000 - val_loss: 163.0884 - val_accuracy: 0.6705\n",
      "Epoch 18/50\n",
      "2/2 [==============================] - ETA: 0s - loss: 0.0000e+00 - accuracy: 1.0000\n",
      "Epoch 18: val_accuracy did not improve from 0.67045\n",
      "2/2 [==============================] - 1s 415ms/step - loss: 0.0000e+00 - accuracy: 1.0000 - val_loss: 163.0884 - val_accuracy: 0.6705\n",
      "Epoch 19/50\n",
      "2/2 [==============================] - ETA: 0s - loss: 0.0000e+00 - accuracy: 1.0000\n",
      "Epoch 19: val_accuracy did not improve from 0.67045\n",
      "2/2 [==============================] - 1s 411ms/step - loss: 0.0000e+00 - accuracy: 1.0000 - val_loss: 163.0884 - val_accuracy: 0.6705\n",
      "Epoch 20/50\n",
      "2/2 [==============================] - ETA: 0s - loss: 0.0000e+00 - accuracy: 1.0000\n",
      "Epoch 20: val_accuracy did not improve from 0.67045\n",
      "2/2 [==============================] - 1s 410ms/step - loss: 0.0000e+00 - accuracy: 1.0000 - val_loss: 163.0884 - val_accuracy: 0.6705\n",
      "Epoch 21/50\n",
      "2/2 [==============================] - ETA: 0s - loss: 0.0000e+00 - accuracy: 1.0000\n",
      "Epoch 21: val_accuracy did not improve from 0.67045\n",
      "2/2 [==============================] - 1s 408ms/step - loss: 0.0000e+00 - accuracy: 1.0000 - val_loss: 163.0884 - val_accuracy: 0.6705\n",
      "Epoch 22/50\n",
      "2/2 [==============================] - ETA: 0s - loss: 0.0000e+00 - accuracy: 1.0000\n",
      "Epoch 22: val_accuracy did not improve from 0.67045\n",
      "2/2 [==============================] - 1s 427ms/step - loss: 0.0000e+00 - accuracy: 1.0000 - val_loss: 163.0884 - val_accuracy: 0.6705\n",
      "Epoch 23/50\n",
      "2/2 [==============================] - ETA: 0s - loss: 0.0000e+00 - accuracy: 1.0000\n",
      "Epoch 23: val_accuracy did not improve from 0.67045\n",
      "2/2 [==============================] - 1s 409ms/step - loss: 0.0000e+00 - accuracy: 1.0000 - val_loss: 163.0884 - val_accuracy: 0.6705\n",
      "Epoch 24/50\n",
      "2/2 [==============================] - ETA: 0s - loss: 0.4507 - accuracy: 0.9730\n",
      "Epoch 24: val_accuracy improved from 0.67045 to 0.68182, saving model to cnniteration2models-1686526734\\1C8-1D16-1686526997-24-0.682.hd5\n"
     ]
    },
    {
     "name": "stderr",
     "output_type": "stream",
     "text": [
      "WARNING:absl:Found untraced functions such as _jit_compiled_convolution_op, _update_step_xla while saving (showing 2 of 2). These functions will not be directly callable after loading.\n"
     ]
    },
    {
     "name": "stdout",
     "output_type": "stream",
     "text": [
      "INFO:tensorflow:Assets written to: cnniteration2models-1686526734\\1C8-1D16-1686526997-24-0.682.hd5\\assets\n"
     ]
    },
    {
     "name": "stderr",
     "output_type": "stream",
     "text": [
      "INFO:tensorflow:Assets written to: cnniteration2models-1686526734\\1C8-1D16-1686526997-24-0.682.hd5\\assets\n"
     ]
    },
    {
     "name": "stdout",
     "output_type": "stream",
     "text": [
      "2/2 [==============================] - 2s 2s/step - loss: 0.4507 - accuracy: 0.9730 - val_loss: 190.9481 - val_accuracy: 0.6818\n",
      "Epoch 25/50\n",
      "2/2 [==============================] - ETA: 0s - loss: 25.3221 - accuracy: 0.9189\n",
      "Epoch 25: val_accuracy did not improve from 0.68182\n",
      "2/2 [==============================] - 1s 413ms/step - loss: 25.3221 - accuracy: 0.9189 - val_loss: 392.2990 - val_accuracy: 0.5227\n",
      "Epoch 26/50\n",
      "2/2 [==============================] - ETA: 0s - loss: 97.2446 - accuracy: 0.8108 \n",
      "Epoch 26: val_accuracy did not improve from 0.68182\n",
      "2/2 [==============================] - 1s 431ms/step - loss: 97.2446 - accuracy: 0.8108 - val_loss: 399.4667 - val_accuracy: 0.4659\n",
      "Epoch 27/50\n",
      "2/2 [==============================] - ETA: 0s - loss: 388.0661 - accuracy: 0.6486\n",
      "Epoch 27: val_accuracy did not improve from 0.68182\n",
      "2/2 [==============================] - 1s 416ms/step - loss: 388.0661 - accuracy: 0.6486 - val_loss: 950.6205 - val_accuracy: 0.3068\n",
      "Epoch 28/50\n",
      "2/2 [==============================] - ETA: 0s - loss: 296.7711 - accuracy: 0.5676\n",
      "Epoch 28: val_accuracy did not improve from 0.68182\n",
      "2/2 [==============================] - 1s 414ms/step - loss: 296.7711 - accuracy: 0.5676 - val_loss: 1475.7767 - val_accuracy: 0.3295\n",
      "Epoch 29/50\n",
      "2/2 [==============================] - ETA: 0s - loss: 1090.7612 - accuracy: 0.4054\n",
      "Epoch 29: val_accuracy did not improve from 0.68182\n",
      "2/2 [==============================] - 1s 418ms/step - loss: 1090.7612 - accuracy: 0.4054 - val_loss: 372.0242 - val_accuracy: 0.5682\n",
      "Epoch 30/50\n",
      "2/2 [==============================] - ETA: 0s - loss: 142.3381 - accuracy: 0.8108\n",
      "Epoch 30: val_accuracy did not improve from 0.68182\n",
      "2/2 [==============================] - 1s 412ms/step - loss: 142.3381 - accuracy: 0.8108 - val_loss: 235.4123 - val_accuracy: 0.5909\n",
      "Epoch 31/50\n",
      "2/2 [==============================] - ETA: 0s - loss: 3.0912 - accuracy: 0.9730\n",
      "Epoch 31: val_accuracy did not improve from 0.68182\n",
      "2/2 [==============================] - 1s 428ms/step - loss: 3.0912 - accuracy: 0.9730 - val_loss: 231.0912 - val_accuracy: 0.5682\n",
      "Epoch 32/50\n",
      "2/2 [==============================] - ETA: 0s - loss: 0.4858 - accuracy: 0.9730\n",
      "Epoch 32: val_accuracy improved from 0.68182 to 0.73864, saving model to cnniteration2models-1686526734\\1C8-1D16-1686526997-32-0.739.hd5\n"
     ]
    },
    {
     "name": "stderr",
     "output_type": "stream",
     "text": [
      "WARNING:absl:Found untraced functions such as _jit_compiled_convolution_op, _update_step_xla while saving (showing 2 of 2). These functions will not be directly callable after loading.\n"
     ]
    },
    {
     "name": "stdout",
     "output_type": "stream",
     "text": [
      "INFO:tensorflow:Assets written to: cnniteration2models-1686526734\\1C8-1D16-1686526997-32-0.739.hd5\\assets\n"
     ]
    },
    {
     "name": "stderr",
     "output_type": "stream",
     "text": [
      "INFO:tensorflow:Assets written to: cnniteration2models-1686526734\\1C8-1D16-1686526997-32-0.739.hd5\\assets\n"
     ]
    },
    {
     "name": "stdout",
     "output_type": "stream",
     "text": [
      "2/2 [==============================] - 2s 2s/step - loss: 0.4858 - accuracy: 0.9730 - val_loss: 177.3108 - val_accuracy: 0.7386\n",
      "Epoch 33/50\n",
      "2/2 [==============================] - ETA: 0s - loss: 0.0000e+00 - accuracy: 1.0000\n",
      "Epoch 33: val_accuracy did not improve from 0.73864\n",
      "2/2 [==============================] - 1s 416ms/step - loss: 0.0000e+00 - accuracy: 1.0000 - val_loss: 177.3108 - val_accuracy: 0.7386\n",
      "Epoch 34/50\n",
      "2/2 [==============================] - ETA: 0s - loss: 0.0000e+00 - accuracy: 1.0000\n",
      "Epoch 34: val_accuracy did not improve from 0.73864\n",
      "2/2 [==============================] - 1s 412ms/step - loss: 0.0000e+00 - accuracy: 1.0000 - val_loss: 177.3108 - val_accuracy: 0.7386\n",
      "Epoch 35/50\n",
      "2/2 [==============================] - ETA: 0s - loss: 0.0000e+00 - accuracy: 1.0000\n",
      "Epoch 35: val_accuracy did not improve from 0.73864\n",
      "2/2 [==============================] - 1s 417ms/step - loss: 0.0000e+00 - accuracy: 1.0000 - val_loss: 177.3108 - val_accuracy: 0.7386\n",
      "Epoch 36/50\n",
      "2/2 [==============================] - ETA: 0s - loss: 0.0000e+00 - accuracy: 1.0000\n",
      "Epoch 36: val_accuracy did not improve from 0.73864\n",
      "2/2 [==============================] - 1s 435ms/step - loss: 0.0000e+00 - accuracy: 1.0000 - val_loss: 177.3108 - val_accuracy: 0.7386\n",
      "Epoch 37/50\n",
      "2/2 [==============================] - ETA: 0s - loss: 0.0000e+00 - accuracy: 1.0000\n",
      "Epoch 37: val_accuracy did not improve from 0.73864\n",
      "2/2 [==============================] - 1s 424ms/step - loss: 0.0000e+00 - accuracy: 1.0000 - val_loss: 177.3108 - val_accuracy: 0.7386\n",
      "Epoch 38/50\n",
      "2/2 [==============================] - ETA: 0s - loss: 0.0000e+00 - accuracy: 1.0000\n",
      "Epoch 38: val_accuracy did not improve from 0.73864\n",
      "2/2 [==============================] - 1s 423ms/step - loss: 0.0000e+00 - accuracy: 1.0000 - val_loss: 177.3108 - val_accuracy: 0.7386\n",
      "Epoch 39/50\n",
      "2/2 [==============================] - ETA: 0s - loss: 0.0000e+00 - accuracy: 1.0000\n",
      "Epoch 39: val_accuracy did not improve from 0.73864\n",
      "2/2 [==============================] - 1s 403ms/step - loss: 0.0000e+00 - accuracy: 1.0000 - val_loss: 177.3108 - val_accuracy: 0.7386\n",
      "Epoch 40/50\n",
      "2/2 [==============================] - ETA: 0s - loss: 0.0000e+00 - accuracy: 1.0000\n",
      "Epoch 40: val_accuracy did not improve from 0.73864\n",
      "2/2 [==============================] - 1s 409ms/step - loss: 0.0000e+00 - accuracy: 1.0000 - val_loss: 177.3108 - val_accuracy: 0.7386\n",
      "Epoch 41/50\n",
      "2/2 [==============================] - ETA: 0s - loss: 0.0000e+00 - accuracy: 1.0000\n",
      "Epoch 41: val_accuracy did not improve from 0.73864\n",
      "2/2 [==============================] - 1s 423ms/step - loss: 0.0000e+00 - accuracy: 1.0000 - val_loss: 177.3108 - val_accuracy: 0.7386\n",
      "Epoch 42/50\n",
      "2/2 [==============================] - ETA: 0s - loss: 0.0000e+00 - accuracy: 1.0000\n",
      "Epoch 42: val_accuracy did not improve from 0.73864\n",
      "2/2 [==============================] - 1s 437ms/step - loss: 0.0000e+00 - accuracy: 1.0000 - val_loss: 177.3108 - val_accuracy: 0.7386\n",
      "Epoch 43/50\n",
      "2/2 [==============================] - ETA: 0s - loss: 0.0000e+00 - accuracy: 1.0000\n",
      "Epoch 43: val_accuracy did not improve from 0.73864\n",
      "2/2 [==============================] - 1s 411ms/step - loss: 0.0000e+00 - accuracy: 1.0000 - val_loss: 177.3108 - val_accuracy: 0.7386\n",
      "Epoch 44/50\n",
      "2/2 [==============================] - ETA: 0s - loss: 0.0000e+00 - accuracy: 1.0000\n",
      "Epoch 44: val_accuracy did not improve from 0.73864\n",
      "2/2 [==============================] - 1s 422ms/step - loss: 0.0000e+00 - accuracy: 1.0000 - val_loss: 177.3108 - val_accuracy: 0.7386\n",
      "Epoch 1/50\n",
      "2/2 [==============================] - ETA: 0s - loss: 1321.9434 - accuracy: 0.2162\n",
      "Epoch 1: val_accuracy improved from -inf to 0.22727, saving model to cnniteration2models-1686526734\\1C16-1D16-1686527047-01-0.227.hd5\n"
     ]
    },
    {
     "name": "stderr",
     "output_type": "stream",
     "text": [
      "WARNING:absl:Found untraced functions such as _jit_compiled_convolution_op, _update_step_xla while saving (showing 2 of 2). These functions will not be directly callable after loading.\n"
     ]
    },
    {
     "name": "stdout",
     "output_type": "stream",
     "text": [
      "INFO:tensorflow:Assets written to: cnniteration2models-1686526734\\1C16-1D16-1686527047-01-0.227.hd5\\assets\n"
     ]
    },
    {
     "name": "stderr",
     "output_type": "stream",
     "text": [
      "INFO:tensorflow:Assets written to: cnniteration2models-1686526734\\1C16-1D16-1686527047-01-0.227.hd5\\assets\n"
     ]
    },
    {
     "name": "stdout",
     "output_type": "stream",
     "text": [
      "2/2 [==============================] - 4s 2s/step - loss: 1321.9434 - accuracy: 0.2162 - val_loss: 4776.2769 - val_accuracy: 0.2273\n",
      "Epoch 2/50\n",
      "2/2 [==============================] - ETA: 0s - loss: 5210.5767 - accuracy: 0.1081\n",
      "Epoch 2: val_accuracy improved from 0.22727 to 0.37500, saving model to cnniteration2models-1686526734\\1C16-1D16-1686527047-02-0.375.hd5\n"
     ]
    },
    {
     "name": "stderr",
     "output_type": "stream",
     "text": [
      "WARNING:absl:Found untraced functions such as _jit_compiled_convolution_op, _update_step_xla while saving (showing 2 of 2). These functions will not be directly callable after loading.\n"
     ]
    },
    {
     "name": "stdout",
     "output_type": "stream",
     "text": [
      "INFO:tensorflow:Assets written to: cnniteration2models-1686526734\\1C16-1D16-1686527047-02-0.375.hd5\\assets\n"
     ]
    },
    {
     "name": "stderr",
     "output_type": "stream",
     "text": [
      "INFO:tensorflow:Assets written to: cnniteration2models-1686526734\\1C16-1D16-1686527047-02-0.375.hd5\\assets\n"
     ]
    },
    {
     "name": "stdout",
     "output_type": "stream",
     "text": [
      "2/2 [==============================] - 3s 2s/step - loss: 5210.5767 - accuracy: 0.1081 - val_loss: 991.4371 - val_accuracy: 0.3750\n",
      "Epoch 3/50\n",
      "2/2 [==============================] - ETA: 0s - loss: 793.2221 - accuracy: 0.4865\n",
      "Epoch 3: val_accuracy did not improve from 0.37500\n",
      "2/2 [==============================] - 2s 685ms/step - loss: 793.2221 - accuracy: 0.4865 - val_loss: 2982.9553 - val_accuracy: 0.3068\n",
      "Epoch 4/50\n",
      "2/2 [==============================] - ETA: 0s - loss: 1657.9567 - accuracy: 0.5135\n",
      "Epoch 4: val_accuracy improved from 0.37500 to 0.38636, saving model to cnniteration2models-1686526734\\1C16-1D16-1686527047-04-0.386.hd5\n"
     ]
    },
    {
     "name": "stderr",
     "output_type": "stream",
     "text": [
      "WARNING:absl:Found untraced functions such as _jit_compiled_convolution_op, _update_step_xla while saving (showing 2 of 2). These functions will not be directly callable after loading.\n"
     ]
    },
    {
     "name": "stdout",
     "output_type": "stream",
     "text": [
      "INFO:tensorflow:Assets written to: cnniteration2models-1686526734\\1C16-1D16-1686527047-04-0.386.hd5\\assets\n"
     ]
    },
    {
     "name": "stderr",
     "output_type": "stream",
     "text": [
      "INFO:tensorflow:Assets written to: cnniteration2models-1686526734\\1C16-1D16-1686527047-04-0.386.hd5\\assets\n"
     ]
    },
    {
     "name": "stdout",
     "output_type": "stream",
     "text": [
      "2/2 [==============================] - 3s 2s/step - loss: 1657.9567 - accuracy: 0.5135 - val_loss: 1362.5392 - val_accuracy: 0.3864\n",
      "Epoch 5/50\n",
      "2/2 [==============================] - ETA: 0s - loss: 638.6737 - accuracy: 0.5946\n",
      "Epoch 5: val_accuracy did not improve from 0.38636\n",
      "2/2 [==============================] - 2s 698ms/step - loss: 638.6737 - accuracy: 0.5946 - val_loss: 1827.6571 - val_accuracy: 0.2386\n",
      "Epoch 6/50\n",
      "2/2 [==============================] - ETA: 0s - loss: 856.1447 - accuracy: 0.5135\n",
      "Epoch 6: val_accuracy improved from 0.38636 to 0.46591, saving model to cnniteration2models-1686526734\\1C16-1D16-1686527047-06-0.466.hd5\n"
     ]
    },
    {
     "name": "stderr",
     "output_type": "stream",
     "text": [
      "WARNING:absl:Found untraced functions such as _jit_compiled_convolution_op, _update_step_xla while saving (showing 2 of 2). These functions will not be directly callable after loading.\n"
     ]
    },
    {
     "name": "stdout",
     "output_type": "stream",
     "text": [
      "INFO:tensorflow:Assets written to: cnniteration2models-1686526734\\1C16-1D16-1686527047-06-0.466.hd5\\assets\n"
     ]
    },
    {
     "name": "stderr",
     "output_type": "stream",
     "text": [
      "INFO:tensorflow:Assets written to: cnniteration2models-1686526734\\1C16-1D16-1686527047-06-0.466.hd5\\assets\n"
     ]
    },
    {
     "name": "stdout",
     "output_type": "stream",
     "text": [
      "2/2 [==============================] - 3s 2s/step - loss: 856.1447 - accuracy: 0.5135 - val_loss: 808.2440 - val_accuracy: 0.4659\n",
      "Epoch 7/50\n",
      "2/2 [==============================] - ETA: 0s - loss: 384.9586 - accuracy: 0.5676\n",
      "Epoch 7: val_accuracy did not improve from 0.46591\n",
      "2/2 [==============================] - 2s 682ms/step - loss: 384.9586 - accuracy: 0.5676 - val_loss: 907.7443 - val_accuracy: 0.3636\n",
      "Epoch 8/50\n",
      "2/2 [==============================] - ETA: 0s - loss: 808.1451 - accuracy: 0.6216\n",
      "Epoch 8: val_accuracy improved from 0.46591 to 0.54545, saving model to cnniteration2models-1686526734\\1C16-1D16-1686527047-08-0.545.hd5\n"
     ]
    },
    {
     "name": "stderr",
     "output_type": "stream",
     "text": [
      "WARNING:absl:Found untraced functions such as _jit_compiled_convolution_op, _update_step_xla while saving (showing 2 of 2). These functions will not be directly callable after loading.\n"
     ]
    },
    {
     "name": "stdout",
     "output_type": "stream",
     "text": [
      "INFO:tensorflow:Assets written to: cnniteration2models-1686526734\\1C16-1D16-1686527047-08-0.545.hd5\\assets\n"
     ]
    },
    {
     "name": "stderr",
     "output_type": "stream",
     "text": [
      "INFO:tensorflow:Assets written to: cnniteration2models-1686526734\\1C16-1D16-1686527047-08-0.545.hd5\\assets\n"
     ]
    },
    {
     "name": "stdout",
     "output_type": "stream",
     "text": [
      "2/2 [==============================] - 3s 2s/step - loss: 808.1451 - accuracy: 0.6216 - val_loss: 624.2259 - val_accuracy: 0.5455\n",
      "Epoch 9/50\n",
      "2/2 [==============================] - ETA: 0s - loss: 111.2863 - accuracy: 0.8108\n",
      "Epoch 9: val_accuracy did not improve from 0.54545\n",
      "2/2 [==============================] - 2s 681ms/step - loss: 111.2863 - accuracy: 0.8108 - val_loss: 770.0941 - val_accuracy: 0.4318\n",
      "Epoch 10/50\n",
      "2/2 [==============================] - ETA: 0s - loss: 131.6190 - accuracy: 0.8378\n",
      "Epoch 10: val_accuracy improved from 0.54545 to 0.64773, saving model to cnniteration2models-1686526734\\1C16-1D16-1686527047-10-0.648.hd5\n"
     ]
    },
    {
     "name": "stderr",
     "output_type": "stream",
     "text": [
      "WARNING:absl:Found untraced functions such as _jit_compiled_convolution_op, _update_step_xla while saving (showing 2 of 2). These functions will not be directly callable after loading.\n"
     ]
    },
    {
     "name": "stdout",
     "output_type": "stream",
     "text": [
      "INFO:tensorflow:Assets written to: cnniteration2models-1686526734\\1C16-1D16-1686527047-10-0.648.hd5\\assets\n"
     ]
    },
    {
     "name": "stderr",
     "output_type": "stream",
     "text": [
      "INFO:tensorflow:Assets written to: cnniteration2models-1686526734\\1C16-1D16-1686527047-10-0.648.hd5\\assets\n"
     ]
    },
    {
     "name": "stdout",
     "output_type": "stream",
     "text": [
      "2/2 [==============================] - 3s 2s/step - loss: 131.6190 - accuracy: 0.8378 - val_loss: 331.4578 - val_accuracy: 0.6477\n",
      "Epoch 11/50\n",
      "2/2 [==============================] - ETA: 0s - loss: 0.0000e+00 - accuracy: 1.0000\n",
      "Epoch 11: val_accuracy did not improve from 0.64773\n",
      "2/2 [==============================] - 2s 701ms/step - loss: 0.0000e+00 - accuracy: 1.0000 - val_loss: 331.4578 - val_accuracy: 0.6477\n",
      "Epoch 12/50\n",
      "2/2 [==============================] - ETA: 0s - loss: 0.0000e+00 - accuracy: 1.0000\n",
      "Epoch 12: val_accuracy did not improve from 0.64773\n",
      "2/2 [==============================] - 2s 677ms/step - loss: 0.0000e+00 - accuracy: 1.0000 - val_loss: 331.4578 - val_accuracy: 0.6477\n",
      "Epoch 13/50\n",
      "2/2 [==============================] - ETA: 0s - loss: 0.0000e+00 - accuracy: 1.0000\n",
      "Epoch 13: val_accuracy did not improve from 0.64773\n",
      "2/2 [==============================] - 2s 688ms/step - loss: 0.0000e+00 - accuracy: 1.0000 - val_loss: 331.4578 - val_accuracy: 0.6477\n",
      "Epoch 14/50\n",
      "2/2 [==============================] - ETA: 0s - loss: 0.0000e+00 - accuracy: 1.0000\n",
      "Epoch 14: val_accuracy did not improve from 0.64773\n",
      "2/2 [==============================] - 2s 687ms/step - loss: 0.0000e+00 - accuracy: 1.0000 - val_loss: 331.4578 - val_accuracy: 0.6477\n",
      "Epoch 15/50\n",
      "2/2 [==============================] - ETA: 0s - loss: 0.0000e+00 - accuracy: 1.0000\n",
      "Epoch 15: val_accuracy did not improve from 0.64773\n",
      "2/2 [==============================] - 2s 695ms/step - loss: 0.0000e+00 - accuracy: 1.0000 - val_loss: 331.4578 - val_accuracy: 0.6477\n",
      "Epoch 16/50\n",
      "2/2 [==============================] - ETA: 0s - loss: 0.0000e+00 - accuracy: 1.0000\n",
      "Epoch 16: val_accuracy did not improve from 0.64773\n",
      "2/2 [==============================] - 2s 692ms/step - loss: 0.0000e+00 - accuracy: 1.0000 - val_loss: 331.4578 - val_accuracy: 0.6477\n",
      "Epoch 17/50\n",
      "2/2 [==============================] - ETA: 0s - loss: 0.0000e+00 - accuracy: 1.0000\n",
      "Epoch 17: val_accuracy did not improve from 0.64773\n",
      "2/2 [==============================] - 2s 690ms/step - loss: 0.0000e+00 - accuracy: 1.0000 - val_loss: 331.4578 - val_accuracy: 0.6477\n",
      "Epoch 18/50\n",
      "2/2 [==============================] - ETA: 0s - loss: 0.0000e+00 - accuracy: 1.0000\n",
      "Epoch 18: val_accuracy did not improve from 0.64773\n",
      "2/2 [==============================] - 2s 681ms/step - loss: 0.0000e+00 - accuracy: 1.0000 - val_loss: 331.4578 - val_accuracy: 0.6477\n",
      "Epoch 19/50\n",
      "2/2 [==============================] - ETA: 0s - loss: 0.0000e+00 - accuracy: 1.0000\n",
      "Epoch 19: val_accuracy did not improve from 0.64773\n",
      "2/2 [==============================] - 2s 681ms/step - loss: 0.0000e+00 - accuracy: 1.0000 - val_loss: 331.4578 - val_accuracy: 0.6477\n",
      "Epoch 20/50\n",
      "2/2 [==============================] - ETA: 0s - loss: 0.0000e+00 - accuracy: 1.0000\n",
      "Epoch 20: val_accuracy did not improve from 0.64773\n",
      "2/2 [==============================] - 2s 698ms/step - loss: 0.0000e+00 - accuracy: 1.0000 - val_loss: 331.4578 - val_accuracy: 0.6477\n",
      "Epoch 21/50\n",
      "2/2 [==============================] - ETA: 0s - loss: 0.0000e+00 - accuracy: 1.0000\n",
      "Epoch 21: val_accuracy did not improve from 0.64773\n",
      "2/2 [==============================] - 2s 711ms/step - loss: 0.0000e+00 - accuracy: 1.0000 - val_loss: 331.4578 - val_accuracy: 0.6477\n",
      "Epoch 22/50\n",
      "2/2 [==============================] - ETA: 0s - loss: 0.0000e+00 - accuracy: 1.0000\n",
      "Epoch 22: val_accuracy did not improve from 0.64773\n",
      "2/2 [==============================] - 2s 685ms/step - loss: 0.0000e+00 - accuracy: 1.0000 - val_loss: 331.4578 - val_accuracy: 0.6477\n",
      "Epoch 1/50\n",
      "2/2 [==============================] - ETA: 0s - loss: 2921.5076 - accuracy: 0.1892\n",
      "Epoch 1: val_accuracy improved from -inf to 0.18182, saving model to cnniteration2models-1686526734\\2C8-1D16-1686527092-01-0.182.hd5\n"
     ]
    },
    {
     "name": "stderr",
     "output_type": "stream",
     "text": [
      "WARNING:absl:Found untraced functions such as _jit_compiled_convolution_op, _jit_compiled_convolution_op, _update_step_xla while saving (showing 3 of 3). These functions will not be directly callable after loading.\n"
     ]
    },
    {
     "name": "stdout",
     "output_type": "stream",
     "text": [
      "INFO:tensorflow:Assets written to: cnniteration2models-1686526734\\2C8-1D16-1686527092-01-0.182.hd5\\assets\n"
     ]
    },
    {
     "name": "stderr",
     "output_type": "stream",
     "text": [
      "INFO:tensorflow:Assets written to: cnniteration2models-1686526734\\2C8-1D16-1686527092-01-0.182.hd5\\assets\n"
     ]
    },
    {
     "name": "stdout",
     "output_type": "stream",
     "text": [
      "2/2 [==============================] - 4s 3s/step - loss: 2921.5076 - accuracy: 0.1892 - val_loss: 5582.8096 - val_accuracy: 0.1818\n",
      "Epoch 2/50\n",
      "2/2 [==============================] - ETA: 0s - loss: 5098.5151 - accuracy: 0.2973\n",
      "Epoch 2: val_accuracy improved from 0.18182 to 0.19318, saving model to cnniteration2models-1686526734\\2C8-1D16-1686527092-02-0.193.hd5\n"
     ]
    },
    {
     "name": "stderr",
     "output_type": "stream",
     "text": [
      "WARNING:absl:Found untraced functions such as _jit_compiled_convolution_op, _jit_compiled_convolution_op, _update_step_xla while saving (showing 3 of 3). These functions will not be directly callable after loading.\n"
     ]
    },
    {
     "name": "stdout",
     "output_type": "stream",
     "text": [
      "INFO:tensorflow:Assets written to: cnniteration2models-1686526734\\2C8-1D16-1686527092-02-0.193.hd5\\assets\n"
     ]
    },
    {
     "name": "stderr",
     "output_type": "stream",
     "text": [
      "INFO:tensorflow:Assets written to: cnniteration2models-1686526734\\2C8-1D16-1686527092-02-0.193.hd5\\assets\n"
     ]
    },
    {
     "name": "stdout",
     "output_type": "stream",
     "text": [
      "2/2 [==============================] - 4s 2s/step - loss: 5098.5151 - accuracy: 0.2973 - val_loss: 4938.0635 - val_accuracy: 0.1932\n",
      "Epoch 3/50\n",
      "2/2 [==============================] - ETA: 0s - loss: 5948.5825 - accuracy: 0.1892\n",
      "Epoch 3: val_accuracy improved from 0.19318 to 0.31818, saving model to cnniteration2models-1686526734\\2C8-1D16-1686527092-03-0.318.hd5\n"
     ]
    },
    {
     "name": "stderr",
     "output_type": "stream",
     "text": [
      "WARNING:absl:Found untraced functions such as _jit_compiled_convolution_op, _jit_compiled_convolution_op, _update_step_xla while saving (showing 3 of 3). These functions will not be directly callable after loading.\n"
     ]
    },
    {
     "name": "stdout",
     "output_type": "stream",
     "text": [
      "INFO:tensorflow:Assets written to: cnniteration2models-1686526734\\2C8-1D16-1686527092-03-0.318.hd5\\assets\n"
     ]
    },
    {
     "name": "stderr",
     "output_type": "stream",
     "text": [
      "INFO:tensorflow:Assets written to: cnniteration2models-1686526734\\2C8-1D16-1686527092-03-0.318.hd5\\assets\n"
     ]
    },
    {
     "name": "stdout",
     "output_type": "stream",
     "text": [
      "2/2 [==============================] - 4s 2s/step - loss: 5948.5825 - accuracy: 0.1892 - val_loss: 1948.7981 - val_accuracy: 0.3182\n",
      "Epoch 4/50\n",
      "2/2 [==============================] - ETA: 0s - loss: 2257.2085 - accuracy: 0.3514\n",
      "Epoch 4: val_accuracy did not improve from 0.31818\n",
      "2/2 [==============================] - 2s 776ms/step - loss: 2257.2085 - accuracy: 0.3514 - val_loss: 2101.8303 - val_accuracy: 0.2614\n",
      "Epoch 5/50\n",
      "2/2 [==============================] - ETA: 0s - loss: 1489.0378 - accuracy: 0.2973\n",
      "Epoch 5: val_accuracy improved from 0.31818 to 0.32955, saving model to cnniteration2models-1686526734\\2C8-1D16-1686527092-05-0.330.hd5\n"
     ]
    },
    {
     "name": "stderr",
     "output_type": "stream",
     "text": [
      "WARNING:absl:Found untraced functions such as _jit_compiled_convolution_op, _jit_compiled_convolution_op, _update_step_xla while saving (showing 3 of 3). These functions will not be directly callable after loading.\n"
     ]
    },
    {
     "name": "stdout",
     "output_type": "stream",
     "text": [
      "INFO:tensorflow:Assets written to: cnniteration2models-1686526734\\2C8-1D16-1686527092-05-0.330.hd5\\assets\n"
     ]
    },
    {
     "name": "stderr",
     "output_type": "stream",
     "text": [
      "INFO:tensorflow:Assets written to: cnniteration2models-1686526734\\2C8-1D16-1686527092-05-0.330.hd5\\assets\n"
     ]
    },
    {
     "name": "stdout",
     "output_type": "stream",
     "text": [
      "2/2 [==============================] - 4s 2s/step - loss: 1489.0378 - accuracy: 0.2973 - val_loss: 1294.0402 - val_accuracy: 0.3295\n",
      "Epoch 6/50\n",
      "2/2 [==============================] - ETA: 0s - loss: 1426.2211 - accuracy: 0.4324\n",
      "Epoch 6: val_accuracy improved from 0.32955 to 0.42045, saving model to cnniteration2models-1686526734\\2C8-1D16-1686527092-06-0.420.hd5\n"
     ]
    },
    {
     "name": "stderr",
     "output_type": "stream",
     "text": [
      "WARNING:absl:Found untraced functions such as _jit_compiled_convolution_op, _jit_compiled_convolution_op, _update_step_xla while saving (showing 3 of 3). These functions will not be directly callable after loading.\n"
     ]
    },
    {
     "name": "stdout",
     "output_type": "stream",
     "text": [
      "INFO:tensorflow:Assets written to: cnniteration2models-1686526734\\2C8-1D16-1686527092-06-0.420.hd5\\assets\n"
     ]
    },
    {
     "name": "stderr",
     "output_type": "stream",
     "text": [
      "INFO:tensorflow:Assets written to: cnniteration2models-1686526734\\2C8-1D16-1686527092-06-0.420.hd5\\assets\n"
     ]
    },
    {
     "name": "stdout",
     "output_type": "stream",
     "text": [
      "2/2 [==============================] - 4s 2s/step - loss: 1426.2211 - accuracy: 0.4324 - val_loss: 820.0828 - val_accuracy: 0.4205\n",
      "Epoch 7/50\n",
      "2/2 [==============================] - ETA: 0s - loss: 115.4925 - accuracy: 0.8919\n",
      "Epoch 7: val_accuracy did not improve from 0.42045\n",
      "2/2 [==============================] - 2s 856ms/step - loss: 115.4925 - accuracy: 0.8919 - val_loss: 1765.1047 - val_accuracy: 0.3295\n",
      "Epoch 8/50\n",
      "2/2 [==============================] - ETA: 0s - loss: 1252.4749 - accuracy: 0.4865\n",
      "Epoch 8: val_accuracy did not improve from 0.42045\n",
      "2/2 [==============================] - 2s 829ms/step - loss: 1252.4749 - accuracy: 0.4865 - val_loss: 1694.3855 - val_accuracy: 0.4205\n",
      "Epoch 9/50\n",
      "2/2 [==============================] - ETA: 0s - loss: 1044.4983 - accuracy: 0.7027\n",
      "Epoch 9: val_accuracy improved from 0.42045 to 0.48864, saving model to cnniteration2models-1686526734\\2C8-1D16-1686527092-09-0.489.hd5\n"
     ]
    },
    {
     "name": "stderr",
     "output_type": "stream",
     "text": [
      "WARNING:absl:Found untraced functions such as _jit_compiled_convolution_op, _jit_compiled_convolution_op, _update_step_xla while saving (showing 3 of 3). These functions will not be directly callable after loading.\n"
     ]
    },
    {
     "name": "stdout",
     "output_type": "stream",
     "text": [
      "INFO:tensorflow:Assets written to: cnniteration2models-1686526734\\2C8-1D16-1686527092-09-0.489.hd5\\assets\n"
     ]
    },
    {
     "name": "stderr",
     "output_type": "stream",
     "text": [
      "INFO:tensorflow:Assets written to: cnniteration2models-1686526734\\2C8-1D16-1686527092-09-0.489.hd5\\assets\n"
     ]
    },
    {
     "name": "stdout",
     "output_type": "stream",
     "text": [
      "2/2 [==============================] - 4s 3s/step - loss: 1044.4983 - accuracy: 0.7027 - val_loss: 988.9451 - val_accuracy: 0.4886\n",
      "Epoch 10/50\n",
      "2/2 [==============================] - ETA: 0s - loss: 173.3425 - accuracy: 0.8108\n",
      "Epoch 10: val_accuracy did not improve from 0.48864\n",
      "2/2 [==============================] - 2s 794ms/step - loss: 173.3425 - accuracy: 0.8108 - val_loss: 634.6489 - val_accuracy: 0.4205\n",
      "Epoch 11/50\n",
      "2/2 [==============================] - ETA: 0s - loss: 66.1880 - accuracy: 0.8649\n",
      "Epoch 11: val_accuracy did not improve from 0.48864\n",
      "2/2 [==============================] - 2s 798ms/step - loss: 66.1880 - accuracy: 0.8649 - val_loss: 910.3843 - val_accuracy: 0.4091\n",
      "Epoch 12/50\n",
      "2/2 [==============================] - ETA: 0s - loss: 820.5958 - accuracy: 0.5676\n",
      "Epoch 12: val_accuracy did not improve from 0.48864\n",
      "2/2 [==============================] - 2s 799ms/step - loss: 820.5958 - accuracy: 0.5676 - val_loss: 1667.4872 - val_accuracy: 0.4432\n",
      "Epoch 1/50\n",
      "2/2 [==============================] - ETA: 0s - loss: 438.4176 - accuracy: 0.2432\n",
      "Epoch 1: val_accuracy improved from -inf to 0.18182, saving model to cnniteration2models-1686526734\\2C16-1D16-1686527128-01-0.182.hd5\n"
     ]
    },
    {
     "name": "stderr",
     "output_type": "stream",
     "text": [
      "WARNING:absl:Found untraced functions such as _jit_compiled_convolution_op, _jit_compiled_convolution_op, _update_step_xla while saving (showing 3 of 3). These functions will not be directly callable after loading.\n"
     ]
    },
    {
     "name": "stdout",
     "output_type": "stream",
     "text": [
      "INFO:tensorflow:Assets written to: cnniteration2models-1686526734\\2C16-1D16-1686527128-01-0.182.hd5\\assets\n"
     ]
    },
    {
     "name": "stderr",
     "output_type": "stream",
     "text": [
      "INFO:tensorflow:Assets written to: cnniteration2models-1686526734\\2C16-1D16-1686527128-01-0.182.hd5\\assets\n"
     ]
    },
    {
     "name": "stdout",
     "output_type": "stream",
     "text": [
      "2/2 [==============================] - 6s 3s/step - loss: 438.4176 - accuracy: 0.2432 - val_loss: 872.4787 - val_accuracy: 0.1818\n",
      "Epoch 2/50\n",
      "2/2 [==============================] - ETA: 0s - loss: 2312.5774 - accuracy: 0.2162\n",
      "Epoch 2: val_accuracy improved from 0.18182 to 0.19318, saving model to cnniteration2models-1686526734\\2C16-1D16-1686527128-02-0.193.hd5\n"
     ]
    },
    {
     "name": "stderr",
     "output_type": "stream",
     "text": [
      "WARNING:absl:Found untraced functions such as _jit_compiled_convolution_op, _jit_compiled_convolution_op, _update_step_xla while saving (showing 3 of 3). These functions will not be directly callable after loading.\n"
     ]
    },
    {
     "name": "stdout",
     "output_type": "stream",
     "text": [
      "INFO:tensorflow:Assets written to: cnniteration2models-1686526734\\2C16-1D16-1686527128-02-0.193.hd5\\assets\n"
     ]
    },
    {
     "name": "stderr",
     "output_type": "stream",
     "text": [
      "INFO:tensorflow:Assets written to: cnniteration2models-1686526734\\2C16-1D16-1686527128-02-0.193.hd5\\assets\n"
     ]
    },
    {
     "name": "stdout",
     "output_type": "stream",
     "text": [
      "2/2 [==============================] - 6s 3s/step - loss: 2312.5774 - accuracy: 0.2162 - val_loss: 231.0281 - val_accuracy: 0.1932\n",
      "Epoch 3/50\n",
      "2/2 [==============================] - ETA: 0s - loss: 561.4837 - accuracy: 0.3243\n",
      "Epoch 3: val_accuracy improved from 0.19318 to 0.23864, saving model to cnniteration2models-1686526734\\2C16-1D16-1686527128-03-0.239.hd5\n"
     ]
    },
    {
     "name": "stderr",
     "output_type": "stream",
     "text": [
      "WARNING:absl:Found untraced functions such as _jit_compiled_convolution_op, _jit_compiled_convolution_op, _update_step_xla while saving (showing 3 of 3). These functions will not be directly callable after loading.\n"
     ]
    },
    {
     "name": "stdout",
     "output_type": "stream",
     "text": [
      "INFO:tensorflow:Assets written to: cnniteration2models-1686526734\\2C16-1D16-1686527128-03-0.239.hd5\\assets\n"
     ]
    },
    {
     "name": "stderr",
     "output_type": "stream",
     "text": [
      "INFO:tensorflow:Assets written to: cnniteration2models-1686526734\\2C16-1D16-1686527128-03-0.239.hd5\\assets\n"
     ]
    },
    {
     "name": "stdout",
     "output_type": "stream",
     "text": [
      "2/2 [==============================] - 6s 3s/step - loss: 561.4837 - accuracy: 0.3243 - val_loss: 327.3992 - val_accuracy: 0.2386\n",
      "Epoch 4/50\n",
      "2/2 [==============================] - ETA: 0s - loss: 904.4659 - accuracy: 0.3784\n",
      "Epoch 4: val_accuracy improved from 0.23864 to 0.28409, saving model to cnniteration2models-1686526734\\2C16-1D16-1686527128-04-0.284.hd5\n"
     ]
    },
    {
     "name": "stderr",
     "output_type": "stream",
     "text": [
      "WARNING:absl:Found untraced functions such as _jit_compiled_convolution_op, _jit_compiled_convolution_op, _update_step_xla while saving (showing 3 of 3). These functions will not be directly callable after loading.\n"
     ]
    },
    {
     "name": "stdout",
     "output_type": "stream",
     "text": [
      "INFO:tensorflow:Assets written to: cnniteration2models-1686526734\\2C16-1D16-1686527128-04-0.284.hd5\\assets\n"
     ]
    },
    {
     "name": "stderr",
     "output_type": "stream",
     "text": [
      "INFO:tensorflow:Assets written to: cnniteration2models-1686526734\\2C16-1D16-1686527128-04-0.284.hd5\\assets\n"
     ]
    },
    {
     "name": "stdout",
     "output_type": "stream",
     "text": [
      "2/2 [==============================] - 6s 3s/step - loss: 904.4659 - accuracy: 0.3784 - val_loss: 131.1729 - val_accuracy: 0.2841\n",
      "Epoch 5/50\n",
      "2/2 [==============================] - ETA: 0s - loss: 261.4644 - accuracy: 0.3514\n",
      "Epoch 5: val_accuracy did not improve from 0.28409\n",
      "2/2 [==============================] - 4s 1s/step - loss: 261.4644 - accuracy: 0.3514 - val_loss: 150.5961 - val_accuracy: 0.2273\n",
      "Epoch 6/50\n",
      "2/2 [==============================] - ETA: 0s - loss: 177.2820 - accuracy: 0.6486\n",
      "Epoch 6: val_accuracy improved from 0.28409 to 0.30682, saving model to cnniteration2models-1686526734\\2C16-1D16-1686527128-06-0.307.hd5\n"
     ]
    },
    {
     "name": "stderr",
     "output_type": "stream",
     "text": [
      "WARNING:absl:Found untraced functions such as _jit_compiled_convolution_op, _jit_compiled_convolution_op, _update_step_xla while saving (showing 3 of 3). These functions will not be directly callable after loading.\n"
     ]
    },
    {
     "name": "stdout",
     "output_type": "stream",
     "text": [
      "INFO:tensorflow:Assets written to: cnniteration2models-1686526734\\2C16-1D16-1686527128-06-0.307.hd5\\assets\n"
     ]
    },
    {
     "name": "stderr",
     "output_type": "stream",
     "text": [
      "INFO:tensorflow:Assets written to: cnniteration2models-1686526734\\2C16-1D16-1686527128-06-0.307.hd5\\assets\n"
     ]
    },
    {
     "name": "stdout",
     "output_type": "stream",
     "text": [
      "2/2 [==============================] - 6s 3s/step - loss: 177.2820 - accuracy: 0.6486 - val_loss: 120.8953 - val_accuracy: 0.3068\n",
      "Epoch 7/50\n",
      "2/2 [==============================] - ETA: 0s - loss: 102.1920 - accuracy: 0.5946\n",
      "Epoch 7: val_accuracy improved from 0.30682 to 0.61364, saving model to cnniteration2models-1686526734\\2C16-1D16-1686527128-07-0.614.hd5\n"
     ]
    },
    {
     "name": "stderr",
     "output_type": "stream",
     "text": [
      "WARNING:absl:Found untraced functions such as _jit_compiled_convolution_op, _jit_compiled_convolution_op, _update_step_xla while saving (showing 3 of 3). These functions will not be directly callable after loading.\n"
     ]
    },
    {
     "name": "stdout",
     "output_type": "stream",
     "text": [
      "INFO:tensorflow:Assets written to: cnniteration2models-1686526734\\2C16-1D16-1686527128-07-0.614.hd5\\assets\n"
     ]
    },
    {
     "name": "stderr",
     "output_type": "stream",
     "text": [
      "INFO:tensorflow:Assets written to: cnniteration2models-1686526734\\2C16-1D16-1686527128-07-0.614.hd5\\assets\n"
     ]
    },
    {
     "name": "stdout",
     "output_type": "stream",
     "text": [
      "2/2 [==============================] - 6s 3s/step - loss: 102.1920 - accuracy: 0.5946 - val_loss: 36.2791 - val_accuracy: 0.6136\n",
      "Epoch 8/50\n",
      "2/2 [==============================] - ETA: 0s - loss: 71.6535 - accuracy: 0.6757\n",
      "Epoch 8: val_accuracy did not improve from 0.61364\n",
      "2/2 [==============================] - 4s 2s/step - loss: 71.6535 - accuracy: 0.6757 - val_loss: 102.7232 - val_accuracy: 0.3977\n",
      "Epoch 9/50\n",
      "2/2 [==============================] - ETA: 0s - loss: 86.5554 - accuracy: 0.8378\n",
      "Epoch 9: val_accuracy did not improve from 0.61364\n",
      "2/2 [==============================] - 4s 1s/step - loss: 86.5554 - accuracy: 0.8378 - val_loss: 71.4319 - val_accuracy: 0.3295\n",
      "Epoch 10/50\n",
      "2/2 [==============================] - ETA: 0s - loss: 31.1892 - accuracy: 0.7838\n",
      "Epoch 10: val_accuracy did not improve from 0.61364\n",
      "2/2 [==============================] - 4s 1s/step - loss: 31.1892 - accuracy: 0.7838 - val_loss: 147.3983 - val_accuracy: 0.1818\n",
      "Epoch 11/50\n",
      "2/2 [==============================] - ETA: 0s - loss: 55.4614 - accuracy: 0.6216\n",
      "Epoch 11: val_accuracy did not improve from 0.61364\n",
      "2/2 [==============================] - 4s 1s/step - loss: 55.4614 - accuracy: 0.6216 - val_loss: 187.5208 - val_accuracy: 0.2386\n",
      "Epoch 12/50\n",
      "2/2 [==============================] - ETA: 0s - loss: 430.3198 - accuracy: 0.3514\n",
      "Epoch 12: val_accuracy did not improve from 0.61364\n",
      "2/2 [==============================] - 4s 1s/step - loss: 430.3198 - accuracy: 0.3514 - val_loss: 56.5163 - val_accuracy: 0.3523\n",
      "Epoch 13/50\n",
      "2/2 [==============================] - ETA: 0s - loss: 81.9941 - accuracy: 0.8108\n",
      "Epoch 13: val_accuracy did not improve from 0.61364\n",
      "2/2 [==============================] - 4s 1s/step - loss: 81.9941 - accuracy: 0.8108 - val_loss: 76.7792 - val_accuracy: 0.3750\n",
      "Epoch 14/50\n",
      "2/2 [==============================] - ETA: 0s - loss: 8.8863 - accuracy: 0.9459\n",
      "Epoch 14: val_accuracy did not improve from 0.61364\n",
      "2/2 [==============================] - 4s 2s/step - loss: 8.8863 - accuracy: 0.9459 - val_loss: 103.4346 - val_accuracy: 0.2955\n",
      "Epoch 15/50\n",
      "2/2 [==============================] - ETA: 0s - loss: 140.7799 - accuracy: 0.5946\n",
      "Epoch 15: val_accuracy did not improve from 0.61364\n",
      "2/2 [==============================] - 4s 1s/step - loss: 140.7799 - accuracy: 0.5946 - val_loss: 57.3452 - val_accuracy: 0.4205\n",
      "Epoch 16/50\n",
      "2/2 [==============================] - ETA: 0s - loss: 73.8709 - accuracy: 0.7297\n",
      "Epoch 16: val_accuracy did not improve from 0.61364\n",
      "2/2 [==============================] - 4s 1s/step - loss: 73.8709 - accuracy: 0.7297 - val_loss: 55.8509 - val_accuracy: 0.4205\n",
      "Epoch 17/50\n",
      "2/2 [==============================] - ETA: 0s - loss: 32.1792 - accuracy: 0.7838\n",
      "Epoch 17: val_accuracy did not improve from 0.61364\n",
      "2/2 [==============================] - 4s 1s/step - loss: 32.1792 - accuracy: 0.7838 - val_loss: 102.0795 - val_accuracy: 0.2955\n",
      "Epoch 18/50\n",
      "2/2 [==============================] - ETA: 0s - loss: 42.4782 - accuracy: 0.7027\n",
      "Epoch 18: val_accuracy did not improve from 0.61364\n",
      "2/2 [==============================] - 4s 1s/step - loss: 42.4782 - accuracy: 0.7027 - val_loss: 75.5596 - val_accuracy: 0.3523\n",
      "Epoch 19/50\n",
      "2/2 [==============================] - ETA: 0s - loss: 49.1525 - accuracy: 0.7297\n",
      "Epoch 19: val_accuracy did not improve from 0.61364\n",
      "2/2 [==============================] - 4s 1s/step - loss: 49.1525 - accuracy: 0.7297 - val_loss: 33.6435 - val_accuracy: 0.4545\n",
      "Epoch 1/50\n",
      "2/2 [==============================] - ETA: 0s - loss: 66.4225 - accuracy: 0.1622\n",
      "Epoch 1: val_accuracy improved from -inf to 0.18182, saving model to cnniteration2models-1686526734\\1C8-2D8-1686527216-01-0.182.hd5\n"
     ]
    },
    {
     "name": "stderr",
     "output_type": "stream",
     "text": [
      "WARNING:absl:Found untraced functions such as _jit_compiled_convolution_op, _update_step_xla while saving (showing 2 of 2). These functions will not be directly callable after loading.\n"
     ]
    },
    {
     "name": "stdout",
     "output_type": "stream",
     "text": [
      "INFO:tensorflow:Assets written to: cnniteration2models-1686526734\\1C8-2D8-1686527216-01-0.182.hd5\\assets\n"
     ]
    },
    {
     "name": "stderr",
     "output_type": "stream",
     "text": [
      "INFO:tensorflow:Assets written to: cnniteration2models-1686526734\\1C8-2D8-1686527216-01-0.182.hd5\\assets\n"
     ]
    },
    {
     "name": "stdout",
     "output_type": "stream",
     "text": [
      "2/2 [==============================] - 4s 2s/step - loss: 66.4225 - accuracy: 0.1622 - val_loss: 1.8309 - val_accuracy: 0.1818\n",
      "Epoch 2/50\n",
      "2/2 [==============================] - ETA: 0s - loss: 5.0843 - accuracy: 0.2432\n",
      "Epoch 2: val_accuracy did not improve from 0.18182\n",
      "2/2 [==============================] - 1s 455ms/step - loss: 5.0843 - accuracy: 0.2432 - val_loss: 1.7653 - val_accuracy: 0.1818\n",
      "Epoch 3/50\n",
      "2/2 [==============================] - ETA: 0s - loss: 1.7650 - accuracy: 0.2432\n",
      "Epoch 3: val_accuracy did not improve from 0.18182\n",
      "2/2 [==============================] - 1s 476ms/step - loss: 1.7650 - accuracy: 0.2432 - val_loss: 1.7624 - val_accuracy: 0.1591\n",
      "Epoch 4/50\n",
      "2/2 [==============================] - ETA: 0s - loss: 1.7619 - accuracy: 0.2973\n",
      "Epoch 4: val_accuracy did not improve from 0.18182\n",
      "2/2 [==============================] - 1s 499ms/step - loss: 1.7619 - accuracy: 0.2973 - val_loss: 1.7595 - val_accuracy: 0.1818\n",
      "Epoch 5/50\n",
      "2/2 [==============================] - ETA: 0s - loss: 1.7590 - accuracy: 0.2162\n",
      "Epoch 5: val_accuracy did not improve from 0.18182\n",
      "2/2 [==============================] - 1s 483ms/step - loss: 1.7590 - accuracy: 0.2162 - val_loss: 1.7567 - val_accuracy: 0.1818\n",
      "Epoch 6/50\n",
      "2/2 [==============================] - ETA: 0s - loss: 1.7561 - accuracy: 0.1892\n",
      "Epoch 6: val_accuracy did not improve from 0.18182\n",
      "2/2 [==============================] - 1s 493ms/step - loss: 1.7561 - accuracy: 0.1892 - val_loss: 1.7539 - val_accuracy: 0.1818\n",
      "Epoch 7/50\n",
      "2/2 [==============================] - ETA: 0s - loss: 1.7534 - accuracy: 0.2432\n",
      "Epoch 7: val_accuracy did not improve from 0.18182\n",
      "2/2 [==============================] - 1s 481ms/step - loss: 1.7534 - accuracy: 0.2432 - val_loss: 1.7512 - val_accuracy: 0.1818\n",
      "Epoch 8/50\n",
      "2/2 [==============================] - ETA: 0s - loss: 1.7506 - accuracy: 0.2432\n",
      "Epoch 8: val_accuracy did not improve from 0.18182\n",
      "2/2 [==============================] - 1s 485ms/step - loss: 1.7506 - accuracy: 0.2432 - val_loss: 1.7486 - val_accuracy: 0.1591\n",
      "Epoch 9/50\n",
      "2/2 [==============================] - ETA: 0s - loss: 1.7480 - accuracy: 0.2973\n",
      "Epoch 9: val_accuracy did not improve from 0.18182\n",
      "2/2 [==============================] - 1s 474ms/step - loss: 1.7480 - accuracy: 0.2973 - val_loss: 1.7461 - val_accuracy: 0.1591\n",
      "Epoch 10/50\n",
      "2/2 [==============================] - ETA: 0s - loss: 1.7454 - accuracy: 0.2973\n",
      "Epoch 10: val_accuracy did not improve from 0.18182\n",
      "2/2 [==============================] - 1s 507ms/step - loss: 1.7454 - accuracy: 0.2973 - val_loss: 1.7436 - val_accuracy: 0.1591\n",
      "Epoch 11/50\n",
      "2/2 [==============================] - ETA: 0s - loss: 1.7429 - accuracy: 0.2973\n",
      "Epoch 11: val_accuracy did not improve from 0.18182\n",
      "2/2 [==============================] - 1s 500ms/step - loss: 1.7429 - accuracy: 0.2973 - val_loss: 1.7412 - val_accuracy: 0.1591\n",
      "Epoch 12/50\n",
      "2/2 [==============================] - ETA: 0s - loss: 1.7404 - accuracy: 0.2973\n",
      "Epoch 12: val_accuracy did not improve from 0.18182\n",
      "2/2 [==============================] - 1s 476ms/step - loss: 1.7404 - accuracy: 0.2973 - val_loss: 1.7388 - val_accuracy: 0.1591\n",
      "Epoch 1/50\n",
      "2/2 [==============================] - ETA: 0s - loss: 70.3439 - accuracy: 0.2973\n",
      "Epoch 1: val_accuracy improved from -inf to 0.19318, saving model to cnniteration2models-1686526734\\1C16-2D8-1686527231-01-0.193.hd5\n"
     ]
    },
    {
     "name": "stderr",
     "output_type": "stream",
     "text": [
      "WARNING:absl:Found untraced functions such as _jit_compiled_convolution_op, _update_step_xla while saving (showing 2 of 2). These functions will not be directly callable after loading.\n"
     ]
    },
    {
     "name": "stdout",
     "output_type": "stream",
     "text": [
      "INFO:tensorflow:Assets written to: cnniteration2models-1686526734\\1C16-2D8-1686527231-01-0.193.hd5\\assets\n"
     ]
    },
    {
     "name": "stderr",
     "output_type": "stream",
     "text": [
      "INFO:tensorflow:Assets written to: cnniteration2models-1686526734\\1C16-2D8-1686527231-01-0.193.hd5\\assets\n"
     ]
    },
    {
     "name": "stdout",
     "output_type": "stream",
     "text": [
      "2/2 [==============================] - 5s 3s/step - loss: 70.3439 - accuracy: 0.2973 - val_loss: 226.8380 - val_accuracy: 0.1932\n",
      "Epoch 2/50\n",
      "2/2 [==============================] - ETA: 0s - loss: 154.3038 - accuracy: 0.2432\n",
      "Epoch 2: val_accuracy did not improve from 0.19318\n",
      "2/2 [==============================] - 2s 769ms/step - loss: 154.3038 - accuracy: 0.2432 - val_loss: 1.7653 - val_accuracy: 0.1591\n",
      "Epoch 3/50\n",
      "2/2 [==============================] - ETA: 0s - loss: 1.7650 - accuracy: 0.2973\n",
      "Epoch 3: val_accuracy did not improve from 0.19318\n",
      "2/2 [==============================] - 2s 837ms/step - loss: 1.7650 - accuracy: 0.2973 - val_loss: 1.7621 - val_accuracy: 0.1591\n",
      "Epoch 4/50\n",
      "2/2 [==============================] - ETA: 0s - loss: 1.7617 - accuracy: 0.2973\n",
      "Epoch 4: val_accuracy did not improve from 0.19318\n",
      "2/2 [==============================] - 2s 880ms/step - loss: 1.7617 - accuracy: 0.2973 - val_loss: 1.7589 - val_accuracy: 0.1591\n",
      "Epoch 5/50\n",
      "2/2 [==============================] - ETA: 0s - loss: 1.7584 - accuracy: 0.2973\n",
      "Epoch 5: val_accuracy did not improve from 0.19318\n",
      "2/2 [==============================] - 2s 853ms/step - loss: 1.7584 - accuracy: 0.2973 - val_loss: 1.7558 - val_accuracy: 0.1591\n",
      "Epoch 6/50\n",
      "2/2 [==============================] - ETA: 0s - loss: 1.7553 - accuracy: 0.2973\n",
      "Epoch 6: val_accuracy did not improve from 0.19318\n",
      "2/2 [==============================] - 2s 839ms/step - loss: 1.7553 - accuracy: 0.2973 - val_loss: 1.7528 - val_accuracy: 0.1591\n",
      "Epoch 7/50\n",
      "2/2 [==============================] - ETA: 0s - loss: 1.7522 - accuracy: 0.2973\n",
      "Epoch 7: val_accuracy did not improve from 0.19318\n",
      "2/2 [==============================] - 2s 886ms/step - loss: 1.7522 - accuracy: 0.2973 - val_loss: 1.7499 - val_accuracy: 0.1591\n",
      "Epoch 8/50\n",
      "2/2 [==============================] - ETA: 0s - loss: 1.7492 - accuracy: 0.2973\n",
      "Epoch 8: val_accuracy did not improve from 0.19318\n",
      "2/2 [==============================] - 2s 787ms/step - loss: 1.7492 - accuracy: 0.2973 - val_loss: 1.7470 - val_accuracy: 0.1591\n",
      "Epoch 9/50\n",
      "2/2 [==============================] - ETA: 0s - loss: 1.7463 - accuracy: 0.2973\n",
      "Epoch 9: val_accuracy did not improve from 0.19318\n",
      "2/2 [==============================] - 2s 756ms/step - loss: 1.7463 - accuracy: 0.2973 - val_loss: 1.7442 - val_accuracy: 0.1591\n",
      "Epoch 10/50\n",
      "2/2 [==============================] - ETA: 0s - loss: 1.7435 - accuracy: 0.2973\n",
      "Epoch 10: val_accuracy did not improve from 0.19318\n",
      "2/2 [==============================] - 2s 765ms/step - loss: 1.7435 - accuracy: 0.2973 - val_loss: 1.7415 - val_accuracy: 0.1591\n",
      "Epoch 11/50\n",
      "2/2 [==============================] - ETA: 0s - loss: 1.7408 - accuracy: 0.2973\n",
      "Epoch 11: val_accuracy did not improve from 0.19318\n",
      "2/2 [==============================] - 2s 778ms/step - loss: 1.7408 - accuracy: 0.2973 - val_loss: 1.7388 - val_accuracy: 0.1591\n",
      "Epoch 12/50\n",
      "2/2 [==============================] - ETA: 0s - loss: 1.7381 - accuracy: 0.2973\n",
      "Epoch 12: val_accuracy did not improve from 0.19318\n",
      "2/2 [==============================] - 2s 762ms/step - loss: 1.7381 - accuracy: 0.2973 - val_loss: 1.7363 - val_accuracy: 0.1591\n",
      "Epoch 1/50\n",
      "2/2 [==============================] - ETA: 0s - loss: 132.7284 - accuracy: 0.1622\n",
      "Epoch 1: val_accuracy improved from -inf to 0.22727, saving model to cnniteration2models-1686526734\\2C8-2D8-1686527258-01-0.227.hd5\n"
     ]
    },
    {
     "name": "stderr",
     "output_type": "stream",
     "text": [
      "WARNING:absl:Found untraced functions such as _jit_compiled_convolution_op, _jit_compiled_convolution_op, _update_step_xla while saving (showing 3 of 3). These functions will not be directly callable after loading.\n"
     ]
    },
    {
     "name": "stdout",
     "output_type": "stream",
     "text": [
      "INFO:tensorflow:Assets written to: cnniteration2models-1686526734\\2C8-2D8-1686527258-01-0.227.hd5\\assets\n"
     ]
    },
    {
     "name": "stderr",
     "output_type": "stream",
     "text": [
      "INFO:tensorflow:Assets written to: cnniteration2models-1686526734\\2C8-2D8-1686527258-01-0.227.hd5\\assets\n"
     ]
    },
    {
     "name": "stdout",
     "output_type": "stream",
     "text": [
      "2/2 [==============================] - 5s 3s/step - loss: 132.7284 - accuracy: 0.1622 - val_loss: 1.7683 - val_accuracy: 0.2273\n",
      "Epoch 2/50\n",
      "2/2 [==============================] - ETA: 0s - loss: 1.7681 - accuracy: 0.1351\n",
      "Epoch 2: val_accuracy did not improve from 0.22727\n",
      "2/2 [==============================] - 2s 792ms/step - loss: 1.7681 - accuracy: 0.1351 - val_loss: 1.7653 - val_accuracy: 0.1591\n",
      "Epoch 3/50\n",
      "2/2 [==============================] - ETA: 0s - loss: 1.7650 - accuracy: 0.2162\n",
      "Epoch 3: val_accuracy did not improve from 0.22727\n",
      "2/2 [==============================] - 2s 837ms/step - loss: 1.7650 - accuracy: 0.2162 - val_loss: 1.7624 - val_accuracy: 0.1591\n",
      "Epoch 4/50\n",
      "2/2 [==============================] - ETA: 0s - loss: 1.7620 - accuracy: 0.2973\n",
      "Epoch 4: val_accuracy did not improve from 0.22727\n",
      "2/2 [==============================] - 2s 783ms/step - loss: 1.7620 - accuracy: 0.2973 - val_loss: 1.7595 - val_accuracy: 0.1591\n",
      "Epoch 5/50\n",
      "2/2 [==============================] - ETA: 0s - loss: 1.7591 - accuracy: 0.2973\n",
      "Epoch 5: val_accuracy did not improve from 0.22727\n",
      "2/2 [==============================] - 2s 804ms/step - loss: 1.7591 - accuracy: 0.2973 - val_loss: 1.7567 - val_accuracy: 0.1591\n",
      "Epoch 6/50\n",
      "2/2 [==============================] - ETA: 0s - loss: 1.7562 - accuracy: 0.2973\n",
      "Epoch 6: val_accuracy did not improve from 0.22727\n",
      "2/2 [==============================] - 2s 827ms/step - loss: 1.7562 - accuracy: 0.2973 - val_loss: 1.7540 - val_accuracy: 0.1591\n",
      "Epoch 7/50\n",
      "2/2 [==============================] - ETA: 0s - loss: 1.7535 - accuracy: 0.2973\n",
      "Epoch 7: val_accuracy did not improve from 0.22727\n",
      "2/2 [==============================] - 2s 837ms/step - loss: 1.7535 - accuracy: 0.2973 - val_loss: 1.7513 - val_accuracy: 0.1591\n",
      "Epoch 8/50\n",
      "2/2 [==============================] - ETA: 0s - loss: 1.7508 - accuracy: 0.2973\n",
      "Epoch 8: val_accuracy did not improve from 0.22727\n",
      "2/2 [==============================] - 2s 825ms/step - loss: 1.7508 - accuracy: 0.2973 - val_loss: 1.7488 - val_accuracy: 0.1591\n",
      "Epoch 9/50\n",
      "2/2 [==============================] - ETA: 0s - loss: 1.7482 - accuracy: 0.2973\n",
      "Epoch 9: val_accuracy did not improve from 0.22727\n",
      "2/2 [==============================] - 2s 840ms/step - loss: 1.7482 - accuracy: 0.2973 - val_loss: 1.7463 - val_accuracy: 0.1591\n",
      "Epoch 10/50\n",
      "2/2 [==============================] - ETA: 0s - loss: 1.7456 - accuracy: 0.2973\n",
      "Epoch 10: val_accuracy did not improve from 0.22727\n",
      "2/2 [==============================] - 2s 844ms/step - loss: 1.7456 - accuracy: 0.2973 - val_loss: 1.7438 - val_accuracy: 0.1591\n",
      "Epoch 11/50\n",
      "2/2 [==============================] - ETA: 0s - loss: 1.7431 - accuracy: 0.2973\n",
      "Epoch 11: val_accuracy did not improve from 0.22727\n",
      "2/2 [==============================] - 2s 873ms/step - loss: 1.7431 - accuracy: 0.2973 - val_loss: 1.7414 - val_accuracy: 0.1591\n",
      "Epoch 12/50\n",
      "2/2 [==============================] - ETA: 0s - loss: 1.7406 - accuracy: 0.2973\n",
      "Epoch 12: val_accuracy did not improve from 0.22727\n",
      "2/2 [==============================] - 2s 820ms/step - loss: 1.7406 - accuracy: 0.2973 - val_loss: 1.7391 - val_accuracy: 0.1591\n",
      "Epoch 1/50\n",
      "2/2 [==============================] - ETA: 0s - loss: 244.4923 - accuracy: 0.3514\n",
      "Epoch 1: val_accuracy improved from -inf to 0.20455, saving model to cnniteration2models-1686526734\\2C16-2D8-1686527287-01-0.205.hd5\n"
     ]
    },
    {
     "name": "stderr",
     "output_type": "stream",
     "text": [
      "WARNING:absl:Found untraced functions such as _jit_compiled_convolution_op, _jit_compiled_convolution_op, _update_step_xla while saving (showing 3 of 3). These functions will not be directly callable after loading.\n"
     ]
    },
    {
     "name": "stdout",
     "output_type": "stream",
     "text": [
      "INFO:tensorflow:Assets written to: cnniteration2models-1686526734\\2C16-2D8-1686527287-01-0.205.hd5\\assets\n"
     ]
    },
    {
     "name": "stderr",
     "output_type": "stream",
     "text": [
      "INFO:tensorflow:Assets written to: cnniteration2models-1686526734\\2C16-2D8-1686527287-01-0.205.hd5\\assets\n"
     ]
    },
    {
     "name": "stdout",
     "output_type": "stream",
     "text": [
      "2/2 [==============================] - 7s 4s/step - loss: 244.4923 - accuracy: 0.3514 - val_loss: 1.9386 - val_accuracy: 0.2045\n",
      "Epoch 2/50\n",
      "2/2 [==============================] - ETA: 0s - loss: 29.7215 - accuracy: 0.1892\n",
      "Epoch 2: val_accuracy did not improve from 0.20455\n",
      "2/2 [==============================] - 4s 1s/step - loss: 29.7215 - accuracy: 0.1892 - val_loss: 1.7675 - val_accuracy: 0.1932\n",
      "Epoch 3/50\n",
      "2/2 [==============================] - ETA: 0s - loss: 1.7672 - accuracy: 0.2162\n",
      "Epoch 3: val_accuracy did not improve from 0.20455\n",
      "2/2 [==============================] - 4s 1s/step - loss: 1.7672 - accuracy: 0.2162 - val_loss: 1.7646 - val_accuracy: 0.1932\n",
      "Epoch 4/50\n",
      "2/2 [==============================] - ETA: 0s - loss: 1.7642 - accuracy: 0.2162\n",
      "Epoch 4: val_accuracy did not improve from 0.20455\n",
      "2/2 [==============================] - 4s 1s/step - loss: 1.7642 - accuracy: 0.2162 - val_loss: 1.7618 - val_accuracy: 0.1591\n",
      "Epoch 5/50\n",
      "2/2 [==============================] - ETA: 0s - loss: 1.7613 - accuracy: 0.2973\n",
      "Epoch 5: val_accuracy did not improve from 0.20455\n",
      "2/2 [==============================] - 4s 1s/step - loss: 1.7613 - accuracy: 0.2973 - val_loss: 1.7590 - val_accuracy: 0.1591\n",
      "Epoch 6/50\n",
      "2/2 [==============================] - ETA: 0s - loss: 1.7585 - accuracy: 0.2973\n",
      "Epoch 6: val_accuracy did not improve from 0.20455\n",
      "2/2 [==============================] - 4s 1s/step - loss: 1.7585 - accuracy: 0.2973 - val_loss: 1.7563 - val_accuracy: 0.1591\n",
      "Epoch 7/50\n",
      "2/2 [==============================] - ETA: 0s - loss: 1.7557 - accuracy: 0.2973\n",
      "Epoch 7: val_accuracy did not improve from 0.20455\n",
      "2/2 [==============================] - 4s 1s/step - loss: 1.7557 - accuracy: 0.2973 - val_loss: 1.7537 - val_accuracy: 0.1591\n",
      "Epoch 8/50\n",
      "2/2 [==============================] - ETA: 0s - loss: 1.7530 - accuracy: 0.2973\n",
      "Epoch 8: val_accuracy did not improve from 0.20455\n",
      "2/2 [==============================] - 4s 1s/step - loss: 1.7530 - accuracy: 0.2973 - val_loss: 1.7511 - val_accuracy: 0.1591\n",
      "Epoch 9/50\n",
      "2/2 [==============================] - ETA: 0s - loss: 1.7504 - accuracy: 0.2973\n",
      "Epoch 9: val_accuracy did not improve from 0.20455\n",
      "2/2 [==============================] - 4s 1s/step - loss: 1.7504 - accuracy: 0.2973 - val_loss: 1.7486 - val_accuracy: 0.1591\n",
      "Epoch 10/50\n",
      "2/2 [==============================] - ETA: 0s - loss: 1.7479 - accuracy: 0.2973\n",
      "Epoch 10: val_accuracy did not improve from 0.20455\n",
      "2/2 [==============================] - 4s 1s/step - loss: 1.7479 - accuracy: 0.2973 - val_loss: 1.7462 - val_accuracy: 0.1591\n",
      "Epoch 11/50\n",
      "2/2 [==============================] - ETA: 0s - loss: 1.7454 - accuracy: 0.2973\n",
      "Epoch 11: val_accuracy did not improve from 0.20455\n",
      "2/2 [==============================] - 4s 1s/step - loss: 1.7454 - accuracy: 0.2973 - val_loss: 1.7438 - val_accuracy: 0.1591\n",
      "Epoch 12/50\n",
      "2/2 [==============================] - ETA: 0s - loss: 1.7429 - accuracy: 0.2973\n",
      "Epoch 12: val_accuracy did not improve from 0.20455\n",
      "2/2 [==============================] - 4s 1s/step - loss: 1.7429 - accuracy: 0.2973 - val_loss: 1.7415 - val_accuracy: 0.1591\n",
      "Epoch 1/50\n",
      "2/2 [==============================] - ETA: 0s - loss: 385.8387 - accuracy: 0.2432\n",
      "Epoch 1: val_accuracy improved from -inf to 0.18182, saving model to cnniteration2models-1686526734\\1C8-2D16-1686527337-01-0.182.hd5\n"
     ]
    },
    {
     "name": "stderr",
     "output_type": "stream",
     "text": [
      "WARNING:absl:Found untraced functions such as _jit_compiled_convolution_op, _update_step_xla while saving (showing 2 of 2). These functions will not be directly callable after loading.\n"
     ]
    },
    {
     "name": "stdout",
     "output_type": "stream",
     "text": [
      "INFO:tensorflow:Assets written to: cnniteration2models-1686526734\\1C8-2D16-1686527337-01-0.182.hd5\\assets\n"
     ]
    },
    {
     "name": "stderr",
     "output_type": "stream",
     "text": [
      "INFO:tensorflow:Assets written to: cnniteration2models-1686526734\\1C8-2D16-1686527337-01-0.182.hd5\\assets\n"
     ]
    },
    {
     "name": "stdout",
     "output_type": "stream",
     "text": [
      "2/2 [==============================] - 4s 3s/step - loss: 385.8387 - accuracy: 0.2432 - val_loss: 753.1221 - val_accuracy: 0.1818\n",
      "Epoch 2/50\n",
      "2/2 [==============================] - ETA: 0s - loss: 995.0453 - accuracy: 0.2432 \n",
      "Epoch 2: val_accuracy did not improve from 0.18182\n",
      "2/2 [==============================] - 1s 520ms/step - loss: 995.0453 - accuracy: 0.2432 - val_loss: 1.8962 - val_accuracy: 0.1705\n",
      "Epoch 3/50\n",
      "2/2 [==============================] - ETA: 0s - loss: 1.9180 - accuracy: 0.2973\n",
      "Epoch 3: val_accuracy did not improve from 0.18182\n",
      "2/2 [==============================] - 1s 520ms/step - loss: 1.9180 - accuracy: 0.2973 - val_loss: 1.8925 - val_accuracy: 0.1705\n",
      "Epoch 4/50\n",
      "2/2 [==============================] - ETA: 0s - loss: 1.9115 - accuracy: 0.2973\n",
      "Epoch 4: val_accuracy did not improve from 0.18182\n",
      "2/2 [==============================] - 1s 507ms/step - loss: 1.9115 - accuracy: 0.2973 - val_loss: 1.8874 - val_accuracy: 0.1705\n",
      "Epoch 5/50\n",
      "2/2 [==============================] - ETA: 0s - loss: 1.9051 - accuracy: 0.2973\n",
      "Epoch 5: val_accuracy did not improve from 0.18182\n",
      "2/2 [==============================] - 1s 548ms/step - loss: 1.9051 - accuracy: 0.2973 - val_loss: 1.8812 - val_accuracy: 0.1705\n",
      "Epoch 6/50\n",
      "2/2 [==============================] - ETA: 0s - loss: 1.8988 - accuracy: 0.2973\n",
      "Epoch 6: val_accuracy did not improve from 0.18182\n",
      "2/2 [==============================] - 1s 537ms/step - loss: 1.8988 - accuracy: 0.2973 - val_loss: 1.8752 - val_accuracy: 0.1705\n",
      "Epoch 7/50\n",
      "2/2 [==============================] - ETA: 0s - loss: 1.8927 - accuracy: 0.2973\n",
      "Epoch 7: val_accuracy did not improve from 0.18182\n",
      "2/2 [==============================] - 1s 511ms/step - loss: 1.8927 - accuracy: 0.2973 - val_loss: 1.8693 - val_accuracy: 0.1705\n",
      "Epoch 8/50\n",
      "2/2 [==============================] - ETA: 0s - loss: 1.8868 - accuracy: 0.2973\n",
      "Epoch 8: val_accuracy did not improve from 0.18182\n",
      "2/2 [==============================] - 1s 522ms/step - loss: 1.8868 - accuracy: 0.2973 - val_loss: 1.8636 - val_accuracy: 0.1705\n",
      "Epoch 9/50\n",
      "2/2 [==============================] - ETA: 0s - loss: 1.8810 - accuracy: 0.2973\n",
      "Epoch 9: val_accuracy did not improve from 0.18182\n",
      "2/2 [==============================] - 1s 543ms/step - loss: 1.8810 - accuracy: 0.2973 - val_loss: 1.8581 - val_accuracy: 0.1705\n",
      "Epoch 10/50\n",
      "2/2 [==============================] - ETA: 0s - loss: 1.8754 - accuracy: 0.2973\n",
      "Epoch 10: val_accuracy did not improve from 0.18182\n",
      "2/2 [==============================] - 1s 507ms/step - loss: 1.8754 - accuracy: 0.2973 - val_loss: 1.8527 - val_accuracy: 0.1705\n",
      "Epoch 11/50\n",
      "2/2 [==============================] - ETA: 0s - loss: 1.8699 - accuracy: 0.2973\n",
      "Epoch 11: val_accuracy did not improve from 0.18182\n",
      "2/2 [==============================] - 1s 582ms/step - loss: 1.8699 - accuracy: 0.2973 - val_loss: 1.8474 - val_accuracy: 0.1705\n",
      "Epoch 12/50\n",
      "2/2 [==============================] - ETA: 0s - loss: 1.8645 - accuracy: 0.2973\n",
      "Epoch 12: val_accuracy did not improve from 0.18182\n",
      "2/2 [==============================] - 1s 518ms/step - loss: 1.8645 - accuracy: 0.2973 - val_loss: 1.8424 - val_accuracy: 0.1705\n",
      "Epoch 1/50\n",
      "2/2 [==============================] - ETA: 0s - loss: 277.4984 - accuracy: 0.2703\n",
      "Epoch 1: val_accuracy improved from -inf to 0.22727, saving model to cnniteration2models-1686526734\\1C16-2D16-1686527354-01-0.227.hd5\n"
     ]
    },
    {
     "name": "stderr",
     "output_type": "stream",
     "text": [
      "WARNING:absl:Found untraced functions such as _jit_compiled_convolution_op, _update_step_xla while saving (showing 2 of 2). These functions will not be directly callable after loading.\n"
     ]
    },
    {
     "name": "stdout",
     "output_type": "stream",
     "text": [
      "INFO:tensorflow:Assets written to: cnniteration2models-1686526734\\1C16-2D16-1686527354-01-0.227.hd5\\assets\n"
     ]
    },
    {
     "name": "stderr",
     "output_type": "stream",
     "text": [
      "INFO:tensorflow:Assets written to: cnniteration2models-1686526734\\1C16-2D16-1686527354-01-0.227.hd5\\assets\n"
     ]
    },
    {
     "name": "stdout",
     "output_type": "stream",
     "text": [
      "2/2 [==============================] - 5s 3s/step - loss: 277.4984 - accuracy: 0.2703 - val_loss: 593.6623 - val_accuracy: 0.2273\n",
      "Epoch 2/50\n",
      "2/2 [==============================] - ETA: 0s - loss: 408.4128 - accuracy: 0.1892\n",
      "Epoch 2: val_accuracy did not improve from 0.22727\n",
      "2/2 [==============================] - 2s 910ms/step - loss: 408.4128 - accuracy: 0.1892 - val_loss: 1.9195 - val_accuracy: 0.1818\n",
      "Epoch 3/50\n",
      "2/2 [==============================] - ETA: 0s - loss: 1.9190 - accuracy: 0.2432\n",
      "Epoch 3: val_accuracy did not improve from 0.22727\n",
      "2/2 [==============================] - 2s 864ms/step - loss: 1.9190 - accuracy: 0.2432 - val_loss: 1.9128 - val_accuracy: 0.1818\n",
      "Epoch 4/50\n",
      "2/2 [==============================] - ETA: 0s - loss: 1.9122 - accuracy: 0.2432\n",
      "Epoch 4: val_accuracy did not improve from 0.22727\n",
      "2/2 [==============================] - 2s 924ms/step - loss: 1.9122 - accuracy: 0.2432 - val_loss: 1.9062 - val_accuracy: 0.1818\n",
      "Epoch 5/50\n",
      "2/2 [==============================] - ETA: 0s - loss: 1.9056 - accuracy: 0.2432\n",
      "Epoch 5: val_accuracy did not improve from 0.22727\n",
      "2/2 [==============================] - 2s 894ms/step - loss: 1.9056 - accuracy: 0.2432 - val_loss: 1.8998 - val_accuracy: 0.1818\n",
      "Epoch 6/50\n",
      "2/2 [==============================] - ETA: 0s - loss: 1.8991 - accuracy: 0.2432\n",
      "Epoch 6: val_accuracy did not improve from 0.22727\n",
      "2/2 [==============================] - 2s 876ms/step - loss: 1.8991 - accuracy: 0.2432 - val_loss: 1.8936 - val_accuracy: 0.1818\n",
      "Epoch 7/50\n",
      "2/2 [==============================] - ETA: 0s - loss: 1.8929 - accuracy: 0.2432\n",
      "Epoch 7: val_accuracy did not improve from 0.22727\n",
      "2/2 [==============================] - 2s 909ms/step - loss: 1.8929 - accuracy: 0.2432 - val_loss: 1.8875 - val_accuracy: 0.1818\n",
      "Epoch 8/50\n",
      "2/2 [==============================] - ETA: 0s - loss: 1.8867 - accuracy: 0.2432\n",
      "Epoch 8: val_accuracy did not improve from 0.22727\n",
      "2/2 [==============================] - 2s 861ms/step - loss: 1.8867 - accuracy: 0.2432 - val_loss: 1.8815 - val_accuracy: 0.1818\n",
      "Epoch 9/50\n",
      "2/2 [==============================] - ETA: 0s - loss: 1.8807 - accuracy: 0.2432\n",
      "Epoch 9: val_accuracy did not improve from 0.22727\n",
      "2/2 [==============================] - 2s 845ms/step - loss: 1.8807 - accuracy: 0.2432 - val_loss: 1.8757 - val_accuracy: 0.1818\n",
      "Epoch 10/50\n",
      "2/2 [==============================] - ETA: 0s - loss: 1.8749 - accuracy: 0.2432\n",
      "Epoch 10: val_accuracy did not improve from 0.22727\n",
      "2/2 [==============================] - 2s 953ms/step - loss: 1.8749 - accuracy: 0.2432 - val_loss: 1.8701 - val_accuracy: 0.1818\n",
      "Epoch 11/50\n",
      "2/2 [==============================] - ETA: 0s - loss: 1.8692 - accuracy: 0.2432\n",
      "Epoch 11: val_accuracy did not improve from 0.22727\n",
      "2/2 [==============================] - 2s 873ms/step - loss: 1.8692 - accuracy: 0.2432 - val_loss: 1.8646 - val_accuracy: 0.1818\n",
      "Epoch 12/50\n",
      "2/2 [==============================] - ETA: 0s - loss: 1.8637 - accuracy: 0.2432\n",
      "Epoch 12: val_accuracy did not improve from 0.22727\n",
      "2/2 [==============================] - 2s 983ms/step - loss: 1.8637 - accuracy: 0.2432 - val_loss: 1.8592 - val_accuracy: 0.1818\n",
      "Epoch 1/50\n",
      "2/2 [==============================] - ETA: 0s - loss: 145.5232 - accuracy: 0.1351\n",
      "Epoch 1: val_accuracy improved from -inf to 0.18182, saving model to cnniteration2models-1686526734\\2C8-2D16-1686527382-01-0.182.hd5\n"
     ]
    },
    {
     "name": "stderr",
     "output_type": "stream",
     "text": [
      "WARNING:absl:Found untraced functions such as _jit_compiled_convolution_op, _jit_compiled_convolution_op, _update_step_xla while saving (showing 3 of 3). These functions will not be directly callable after loading.\n"
     ]
    },
    {
     "name": "stdout",
     "output_type": "stream",
     "text": [
      "INFO:tensorflow:Assets written to: cnniteration2models-1686526734\\2C8-2D16-1686527382-01-0.182.hd5\\assets\n"
     ]
    },
    {
     "name": "stderr",
     "output_type": "stream",
     "text": [
      "INFO:tensorflow:Assets written to: cnniteration2models-1686526734\\2C8-2D16-1686527382-01-0.182.hd5\\assets\n"
     ]
    },
    {
     "name": "stdout",
     "output_type": "stream",
     "text": [
      "2/2 [==============================] - 6s 3s/step - loss: 145.5232 - accuracy: 0.1351 - val_loss: 315.5345 - val_accuracy: 0.1818\n",
      "Epoch 2/50\n",
      "2/2 [==============================] - ETA: 0s - loss: 350.6295 - accuracy: 0.2432\n",
      "Epoch 2: val_accuracy did not improve from 0.18182\n",
      "2/2 [==============================] - 2s 913ms/step - loss: 350.6295 - accuracy: 0.2432 - val_loss: 1.9233 - val_accuracy: 0.1591\n",
      "Epoch 3/50\n",
      "2/2 [==============================] - ETA: 0s - loss: 1.9226 - accuracy: 0.2973\n",
      "Epoch 3: val_accuracy did not improve from 0.18182\n",
      "2/2 [==============================] - 3s 935ms/step - loss: 1.9226 - accuracy: 0.2973 - val_loss: 1.9178 - val_accuracy: 0.1591\n",
      "Epoch 4/50\n",
      "2/2 [==============================] - ETA: 0s - loss: 1.9171 - accuracy: 0.2973\n",
      "Epoch 4: val_accuracy did not improve from 0.18182\n",
      "2/2 [==============================] - 2s 929ms/step - loss: 1.9171 - accuracy: 0.2973 - val_loss: 1.9125 - val_accuracy: 0.1591\n",
      "Epoch 5/50\n",
      "2/2 [==============================] - ETA: 0s - loss: 1.9117 - accuracy: 0.2973\n",
      "Epoch 5: val_accuracy did not improve from 0.18182\n",
      "2/2 [==============================] - 2s 905ms/step - loss: 1.9117 - accuracy: 0.2973 - val_loss: 1.9073 - val_accuracy: 0.1591\n",
      "Epoch 6/50\n",
      "2/2 [==============================] - ETA: 0s - loss: 1.9065 - accuracy: 0.2973\n",
      "Epoch 6: val_accuracy did not improve from 0.18182\n",
      "2/2 [==============================] - 2s 884ms/step - loss: 1.9065 - accuracy: 0.2973 - val_loss: 1.9022 - val_accuracy: 0.1591\n",
      "Epoch 7/50\n",
      "2/2 [==============================] - ETA: 0s - loss: 1.9014 - accuracy: 0.2973\n",
      "Epoch 7: val_accuracy did not improve from 0.18182\n",
      "2/2 [==============================] - 2s 874ms/step - loss: 1.9014 - accuracy: 0.2973 - val_loss: 1.8972 - val_accuracy: 0.1591\n",
      "Epoch 8/50\n",
      "2/2 [==============================] - ETA: 0s - loss: 1.8964 - accuracy: 0.2973\n",
      "Epoch 8: val_accuracy did not improve from 0.18182\n",
      "2/2 [==============================] - 2s 920ms/step - loss: 1.8964 - accuracy: 0.2973 - val_loss: 1.8924 - val_accuracy: 0.1591\n",
      "Epoch 9/50\n",
      "2/2 [==============================] - ETA: 0s - loss: 1.8915 - accuracy: 0.2973\n",
      "Epoch 9: val_accuracy did not improve from 0.18182\n",
      "2/2 [==============================] - 2s 921ms/step - loss: 1.8915 - accuracy: 0.2973 - val_loss: 1.8877 - val_accuracy: 0.1591\n",
      "Epoch 10/50\n",
      "2/2 [==============================] - ETA: 0s - loss: 1.8868 - accuracy: 0.2973\n",
      "Epoch 10: val_accuracy did not improve from 0.18182\n",
      "2/2 [==============================] - 2s 975ms/step - loss: 1.8868 - accuracy: 0.2973 - val_loss: 1.8831 - val_accuracy: 0.1591\n",
      "Epoch 11/50\n",
      "2/2 [==============================] - ETA: 0s - loss: 1.8821 - accuracy: 0.2973\n",
      "Epoch 11: val_accuracy did not improve from 0.18182\n",
      "2/2 [==============================] - 2s 869ms/step - loss: 1.8821 - accuracy: 0.2973 - val_loss: 1.8787 - val_accuracy: 0.1591\n",
      "Epoch 12/50\n",
      "2/2 [==============================] - ETA: 0s - loss: 1.8776 - accuracy: 0.2973\n",
      "Epoch 12: val_accuracy did not improve from 0.18182\n",
      "2/2 [==============================] - 2s 858ms/step - loss: 1.8776 - accuracy: 0.2973 - val_loss: 1.8743 - val_accuracy: 0.1591\n",
      "Epoch 1/50\n",
      "2/2 [==============================] - ETA: 0s - loss: 786.0389 - accuracy: 0.1351\n",
      "Epoch 1: val_accuracy improved from -inf to 0.13636, saving model to cnniteration2models-1686526734\\2C16-2D16-1686527414-01-0.136.hd5\n"
     ]
    },
    {
     "name": "stderr",
     "output_type": "stream",
     "text": [
      "WARNING:absl:Found untraced functions such as _jit_compiled_convolution_op, _jit_compiled_convolution_op, _update_step_xla while saving (showing 3 of 3). These functions will not be directly callable after loading.\n"
     ]
    },
    {
     "name": "stdout",
     "output_type": "stream",
     "text": [
      "INFO:tensorflow:Assets written to: cnniteration2models-1686526734\\2C16-2D16-1686527414-01-0.136.hd5\\assets\n"
     ]
    },
    {
     "name": "stderr",
     "output_type": "stream",
     "text": [
      "INFO:tensorflow:Assets written to: cnniteration2models-1686526734\\2C16-2D16-1686527414-01-0.136.hd5\\assets\n"
     ]
    },
    {
     "name": "stdout",
     "output_type": "stream",
     "text": [
      "2/2 [==============================] - 8s 4s/step - loss: 786.0389 - accuracy: 0.1351 - val_loss: 74.3138 - val_accuracy: 0.1364\n",
      "Epoch 2/50\n",
      "2/2 [==============================] - ETA: 0s - loss: 108.6582 - accuracy: 0.2432\n",
      "Epoch 2: val_accuracy improved from 0.13636 to 0.18182, saving model to cnniteration2models-1686526734\\2C16-2D16-1686527414-02-0.182.hd5\n"
     ]
    },
    {
     "name": "stderr",
     "output_type": "stream",
     "text": [
      "WARNING:absl:Found untraced functions such as _jit_compiled_convolution_op, _jit_compiled_convolution_op, _update_step_xla while saving (showing 3 of 3). These functions will not be directly callable after loading.\n"
     ]
    },
    {
     "name": "stdout",
     "output_type": "stream",
     "text": [
      "INFO:tensorflow:Assets written to: cnniteration2models-1686526734\\2C16-2D16-1686527414-02-0.182.hd5\\assets\n"
     ]
    },
    {
     "name": "stderr",
     "output_type": "stream",
     "text": [
      "INFO:tensorflow:Assets written to: cnniteration2models-1686526734\\2C16-2D16-1686527414-02-0.182.hd5\\assets\n"
     ]
    },
    {
     "name": "stdout",
     "output_type": "stream",
     "text": [
      "2/2 [==============================] - 6s 4s/step - loss: 108.6582 - accuracy: 0.2432 - val_loss: 1.9298 - val_accuracy: 0.1818\n",
      "Epoch 3/50\n",
      "2/2 [==============================] - ETA: 0s - loss: 1.9293 - accuracy: 0.2432\n",
      "Epoch 3: val_accuracy did not improve from 0.18182\n",
      "2/2 [==============================] - 4s 1s/step - loss: 1.9293 - accuracy: 0.2432 - val_loss: 1.9245 - val_accuracy: 0.1818\n",
      "Epoch 4/50\n",
      "2/2 [==============================] - ETA: 0s - loss: 1.9240 - accuracy: 0.2432\n",
      "Epoch 4: val_accuracy did not improve from 0.18182\n",
      "2/2 [==============================] - 4s 1s/step - loss: 1.9240 - accuracy: 0.2432 - val_loss: 1.9193 - val_accuracy: 0.1818\n",
      "Epoch 5/50\n",
      "2/2 [==============================] - ETA: 0s - loss: 1.9187 - accuracy: 0.2432\n",
      "Epoch 5: val_accuracy did not improve from 0.18182\n",
      "2/2 [==============================] - 4s 2s/step - loss: 1.9187 - accuracy: 0.2432 - val_loss: 1.9142 - val_accuracy: 0.1818\n",
      "Epoch 6/50\n",
      "2/2 [==============================] - ETA: 0s - loss: 1.9136 - accuracy: 0.2432\n",
      "Epoch 6: val_accuracy did not improve from 0.18182\n",
      "2/2 [==============================] - 4s 2s/step - loss: 1.9136 - accuracy: 0.2432 - val_loss: 1.9093 - val_accuracy: 0.1818\n",
      "Epoch 7/50\n",
      "2/2 [==============================] - ETA: 0s - loss: 1.9086 - accuracy: 0.2432\n",
      "Epoch 7: val_accuracy did not improve from 0.18182\n",
      "2/2 [==============================] - 4s 1s/step - loss: 1.9086 - accuracy: 0.2432 - val_loss: 1.9045 - val_accuracy: 0.1818\n",
      "Epoch 8/50\n",
      "2/2 [==============================] - ETA: 0s - loss: 1.9038 - accuracy: 0.2432\n",
      "Epoch 8: val_accuracy improved from 0.18182 to 0.19318, saving model to cnniteration2models-1686526734\\2C16-2D16-1686527414-08-0.193.hd5\n"
     ]
    },
    {
     "name": "stderr",
     "output_type": "stream",
     "text": [
      "WARNING:absl:Found untraced functions such as _jit_compiled_convolution_op, _jit_compiled_convolution_op, _update_step_xla while saving (showing 3 of 3). These functions will not be directly callable after loading.\n"
     ]
    },
    {
     "name": "stdout",
     "output_type": "stream",
     "text": [
      "INFO:tensorflow:Assets written to: cnniteration2models-1686526734\\2C16-2D16-1686527414-08-0.193.hd5\\assets\n"
     ]
    },
    {
     "name": "stderr",
     "output_type": "stream",
     "text": [
      "INFO:tensorflow:Assets written to: cnniteration2models-1686526734\\2C16-2D16-1686527414-08-0.193.hd5\\assets\n"
     ]
    },
    {
     "name": "stdout",
     "output_type": "stream",
     "text": [
      "2/2 [==============================] - 7s 4s/step - loss: 1.9038 - accuracy: 0.2432 - val_loss: 1.8998 - val_accuracy: 0.1932\n",
      "Epoch 9/50\n",
      "2/2 [==============================] - ETA: 0s - loss: 1.8991 - accuracy: 0.2162\n",
      "Epoch 9: val_accuracy did not improve from 0.19318\n",
      "2/2 [==============================] - 4s 2s/step - loss: 1.8991 - accuracy: 0.2162 - val_loss: 1.8953 - val_accuracy: 0.1818\n",
      "Epoch 10/50\n",
      "2/2 [==============================] - ETA: 0s - loss: 1.8945 - accuracy: 0.2432\n",
      "Epoch 10: val_accuracy did not improve from 0.19318\n",
      "2/2 [==============================] - 4s 2s/step - loss: 1.8945 - accuracy: 0.2432 - val_loss: 1.8908 - val_accuracy: 0.1818\n",
      "Epoch 11/50\n",
      "2/2 [==============================] - ETA: 0s - loss: 1.8899 - accuracy: 0.2432\n",
      "Epoch 11: val_accuracy did not improve from 0.19318\n",
      "2/2 [==============================] - 4s 2s/step - loss: 1.8899 - accuracy: 0.2432 - val_loss: 1.8865 - val_accuracy: 0.1818\n",
      "Epoch 12/50\n",
      "2/2 [==============================] - ETA: 0s - loss: 1.8856 - accuracy: 0.2432\n",
      "Epoch 12: val_accuracy did not improve from 0.19318\n",
      "2/2 [==============================] - 4s 1s/step - loss: 1.8856 - accuracy: 0.2432 - val_loss: 1.8822 - val_accuracy: 0.1591\n"
     ]
    }
   ],
   "source": [
    "cnn(X_train, y_train, X_test, y_test)"
   ]
  }
 ],
 "metadata": {
  "kernelspec": {
   "display_name": "Python 3",
   "language": "python",
   "name": "python3"
  },
  "language_info": {
   "codemirror_mode": {
    "name": "ipython",
    "version": 3
   },
   "file_extension": ".py",
   "mimetype": "text/x-python",
   "name": "python",
   "nbconvert_exporter": "python",
   "pygments_lexer": "ipython3",
   "version": "3.11.0"
  },
  "orig_nbformat": 4
 },
 "nbformat": 4,
 "nbformat_minor": 2
}
