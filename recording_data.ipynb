{
 "cells": [
  {
   "attachments": {},
   "cell_type": "markdown",
   "metadata": {},
   "source": [
    "# Imports"
   ]
  },
  {
   "cell_type": "code",
   "execution_count": 1,
   "metadata": {},
   "outputs": [],
   "source": [
    "import cv2\n",
    "import numpy as np\n",
    "import pandas as pd\n",
    "import time\n",
    "import pickle\n",
    "import PIL\n",
    "import os\n",
    "import winsound\n",
    "import glob\n",
    "\n",
    "from matplotlib import pyplot as plt\n",
    "\n",
    "from pykinect2 import PyKinectV2\n",
    "from pykinect2.PyKinectV2 import *\n",
    "from pykinect2 import PyKinectRuntime\n",
    "\n",
    "from collections import deque"
   ]
  },
  {
   "attachments": {},
   "cell_type": "markdown",
   "metadata": {},
   "source": [
    "# Recording data from Kinect v2"
   ]
  },
  {
   "cell_type": "code",
   "execution_count": null,
   "metadata": {},
   "outputs": [],
   "source": [
    "def play_beep(duration):\n",
    "    winsound.Beep(2500, duration)\n"
   ]
  },
  {
   "cell_type": "code",
   "execution_count": null,
   "metadata": {},
   "outputs": [],
   "source": [
    "kinect = PyKinectRuntime.PyKinectRuntime(PyKinectV2.FrameSourceTypes_Color | PyKinectV2.FrameSourceTypes_Depth)\n",
    "kinect.close()"
   ]
  },
  {
   "cell_type": "code",
   "execution_count": null,
   "metadata": {},
   "outputs": [],
   "source": [
    "def reshape_frames(color_frames, depth_frames):\n",
    "    reshaped_color_frames = deque(maxlen=60)\n",
    "    reshaped_depth_frames = deque(maxlen=60)\n",
    "\n",
    "    for color_frame in color_frames:\n",
    "        reshaped_color_frame = color_frame.reshape((kinect.color_frame_desc.Height, kinect.color_frame_desc.Width, -1)).astype(np.uint8)\n",
    "        reshaped_color_frame = cv2.resize(reshaped_color_frame, (681,383))\n",
    "        reshaped_color_frame = reshaped_color_frame[:,158:541,:]\n",
    "        reshaped_color_frames.append(reshaped_color_frame)\n",
    "\n",
    "    for depth_frame in depth_frames:\n",
    "        reshaped_depth_frame = depth_frame.reshape((kinect.depth_frame_desc.Height, kinect.depth_frame_desc.Width)).astype(np.uint16)\n",
    "        reshaped_depth_frame = reshaped_depth_frame[16:399,64:447]\n",
    "        reshaped_depth_frames.append(reshaped_depth_frame)\n",
    "\n",
    "    return reshaped_color_frames, reshaped_depth_frames\n",
    "\n",
    "def save_to_npz(name, action, color_frames, depth_frames):\n",
    "    color_file_path = f'./numpy_data_arrays/{action}/{name}_color.npz'\n",
    "    depth_file_path = f'./numpy_data_arrays/{action}/{name}_depth.npz'\n",
    "    np.savez_compressed(color_file_path, np.array(color_frames))\n",
    "    np.savez_compressed(depth_file_path, np.array(depth_frames))\n",
    "\n",
    "def record_to_video_files(name, action, color_frames, depth_frames):\n",
    "    fourcc = cv2.VideoWriter_fourcc(*'MJPG')\n",
    "    color_file_path = f'./videos/{action}/{name}_color.mov'\n",
    "    depth_file_path = f'./videos/{action}/{name}_depth.mov'\n",
    "\n",
    "    color_video_writer = cv2.VideoWriter(color_file_path, fourcc, len(color_frames) // 2, (383, 383))\n",
    "    depth_video_writer = cv2.VideoWriter(depth_file_path, fourcc, len(depth_frames) // 2, (383, 383), isColor=False)\n",
    "\n",
    "    for color_frame in color_frames:\n",
    "        frame_to_add = cv2.cvtColor(color_frame, cv2.COLOR_RGBA2RGB)\n",
    "        color_video_writer.write(frame_to_add)\n",
    "    color_video_writer.release()\n",
    "\n",
    "    for depth_frame in depth_frames:\n",
    "        frame_to_add = depth_frame.astype(np.uint8)\n",
    "\n",
    "        depth_video_writer.write(frame_to_add)\n",
    "\n",
    "    depth_video_writer.release()\n",
    "\n",
    "    return None\n",
    "\n",
    "def record_new_rgbd_data(name, action):\n",
    "    kinect = PyKinectRuntime.PyKinectRuntime(PyKinectV2.FrameSourceTypes_Color | PyKinectV2.FrameSourceTypes_Depth)\n",
    "    color_frames = deque(maxlen=60)  \n",
    "    depth_frames = deque(maxlen=60)\n",
    "    timeStart = time.time()\n",
    "    # WARM START / Countdown - 8 seconds of color and depth\n",
    "    while time.time() < timeStart + 5:\n",
    "        if kinect.has_new_color_frame():\n",
    "            color_frame = kinect.get_last_color_frame()\n",
    "            depth_frame = kinect.get_last_depth_frame()\n",
    "    play_beep(200)\n",
    "    # Record 2 seconds of color and depth\n",
    "    while time.time() < timeStart + 7:\n",
    "        if kinect.has_new_color_frame():\n",
    "            color_frame = kinect.get_last_color_frame()\n",
    "            depth_frame = kinect.get_last_depth_frame()\n",
    "            color_frames.append(color_frame)\n",
    "            depth_frames.append(depth_frame)\n",
    "    play_beep(600)\n",
    "    \n",
    "    kinect.close()\n",
    "    print(\"RECORDING DONE\")\n",
    "    reshaped_color_frames, reshaped_depth_frames = reshape_frames(color_frames, depth_frames)\n",
    "    print(\"FRAMES RESHAPED\")\n",
    "    save_to_npz(name, action, reshaped_color_frames, reshaped_depth_frames)\n",
    "    print(\"SAVED TO NPZ\")\n",
    "    record_to_video_files(name, action, reshaped_color_frames, reshaped_depth_frames)\n",
    "    print(\"VIDEO RECORDED\")\n",
    "\n",
    "    return None"
   ]
  },
  {
   "cell_type": "code",
   "execution_count": null,
   "metadata": {},
   "outputs": [],
   "source": [
    "# for i in range(1, 26):\n",
    "#     print(\"JAB NUMBER\", i)\n",
    "#     record_new_rgbd_data(f'jab_{i}', 'jab')"
   ]
  },
  {
   "cell_type": "code",
   "execution_count": null,
   "metadata": {},
   "outputs": [],
   "source": [
    "# for i in range(1, 26):\n",
    "#     print(\"CROSS NUMBER\", i)\n",
    "#     record_new_rgbd_data(f'cross_{i}', 'cross')"
   ]
  },
  {
   "cell_type": "code",
   "execution_count": null,
   "metadata": {},
   "outputs": [],
   "source": [
    "# for i in range(1, 26):\n",
    "#     print(\"LEFT HOOK NUMBER\", i)\n",
    "#     record_new_rgbd_data(f'left_hook_{i}', 'left_hook')"
   ]
  },
  {
   "cell_type": "code",
   "execution_count": null,
   "metadata": {},
   "outputs": [],
   "source": [
    "# for i in range(1, 26):\n",
    "#     print(\"RIGHT HOOK NUMBER\", i)\n",
    "#     record_new_rgbd_data(f'right_hook_{i}', 'right_hook')"
   ]
  },
  {
   "cell_type": "code",
   "execution_count": null,
   "metadata": {},
   "outputs": [],
   "source": [
    "# for i in range(1, 26):\n",
    "#     print(\"RANDOM NUMBER\", i)\n",
    "#     record_new_rgbd_data(f'random_{i}', 'random')"
   ]
  },
  {
   "attachments": {},
   "cell_type": "markdown",
   "metadata": {},
   "source": [
    "# MHI"
   ]
  },
  {
   "cell_type": "code",
   "execution_count": 3,
   "metadata": {},
   "outputs": [],
   "source": [
    "THRESHOLD_VALUE = 5\n",
    "MHI_DURATION = 2\n",
    "\n",
    "def generate_mhi(frames):\n",
    "    number_of_frames = frames.shape[0]\n",
    "    height = frames.shape[1]\n",
    "    width = frames.shape[2]\n",
    "    SAMHI_10 = np.zeros((height, width), dtype=np.float32)\n",
    "\n",
    "    for i in range(1, number_of_frames):\n",
    "        frame = frames[i]\n",
    "        frame[frame > 2200] = 0\n",
    "\n",
    "        image_binary = frame.astype(np.uint8)\n",
    "\n",
    "        num = 5\n",
    "        image_binary_prev = np.zeros((height, width), dtype=np.uint8)\n",
    "        difference = np.zeros((height, width), dtype=np.uint8)\n",
    "\n",
    "        if i == 1:\n",
    "            image_binary_prev = image_binary\n",
    "        elif (i % num) == 0:\n",
    "            difference = cv2.absdiff(image_binary_prev, image_binary)\n",
    "            image_binary_prev = image_binary\n",
    "\n",
    "        if i == num + 1:\n",
    "            _, image_binary_diff_5 = cv2.threshold(difference, THRESHOLD_VALUE, 255, cv2.THRESH_BINARY)\n",
    "            SAMHI_10 = cv2.motempl.updateMotionHistory(image_binary_diff_5, SAMHI_10, i / number_of_frames, MHI_DURATION)\n",
    "\n",
    "        if (i > num + 1 and i % num == 0):\n",
    "            _, image_binary_diff_5 = cv2.threshold(difference, THRESHOLD_VALUE, 255, cv2.THRESH_BINARY)\n",
    "            SAMHI_10 = cv2.motempl.updateMotionHistory(image_binary_diff_5, SAMHI_10, i / number_of_frames, MHI_DURATION)\n",
    "\n",
    "\n",
    "    SAMHI_10 = cv2.convertScaleAbs(SAMHI_10, alpha=255, beta=0)\n",
    "    return SAMHI_10\n",
    "\n"
   ]
  },
  {
   "cell_type": "code",
   "execution_count": 4,
   "metadata": {},
   "outputs": [],
   "source": [
    "jab_depth_files = [file for file in glob.glob('./numpy_data_arrays/jab/*depth.npz')]\n",
    "cross_depth_files = [file for file in glob.glob('./numpy_data_arrays/cross/*depth.npz')]\n",
    "left_hook_depth_files = [file for file in glob.glob('./numpy_data_arrays/left_hook/*depth.npz')]\n",
    "right_hook_depth_files = [file for file in glob.glob('./numpy_data_arrays/right_hook/*depth.npz')]\n",
    "random_depth_files = [file for file in glob.glob('./numpy_data_arrays/random/*depth.npz')]\n",
    "\n",
    "for file in jab_depth_files:\n",
    "    file_name = file.split(\"\\\\\")[-1].split('.')[0]\n",
    "    depth_data = np.load(file)\n",
    "    depth_frames = depth_data['arr_0']\n",
    "    samhi = generate_mhi(depth_frames)\n",
    "    cv2.imwrite(f'./mhi/jab/{file_name}.png', samhi)\n",
    "\n",
    "for file in cross_depth_files:\n",
    "    file_name = file.split(\"\\\\\")[-1].split('.')[0]\n",
    "    depth_data = np.load(file)\n",
    "    depth_frames = depth_data['arr_0']\n",
    "    samhi = generate_mhi(depth_frames)\n",
    "    cv2.imwrite(f'./mhi/cross/{file_name}.png', samhi)\n",
    "\n",
    "for file in left_hook_depth_files:\n",
    "    file_name = file.split(\"\\\\\")[-1].split('.')[0]\n",
    "    depth_data = np.load(file)\n",
    "    depth_frames = depth_data['arr_0']\n",
    "    samhi = generate_mhi(depth_frames)\n",
    "    cv2.imwrite(f'./mhi/left_hook/{file_name}.png', samhi)\n",
    "\n",
    "for file in right_hook_depth_files:\n",
    "    file_name = file.split(\"\\\\\")[-1].split('.')[0]\n",
    "    depth_data = np.load(file)\n",
    "    depth_frames = depth_data['arr_0']\n",
    "    samhi = generate_mhi(depth_frames)\n",
    "    cv2.imwrite(f'./mhi/right_hook/{file_name}.png', samhi)\n",
    "\n",
    "for file in random_depth_files:\n",
    "    file_name = file.split(\"\\\\\")[-1].split('.')[0]\n",
    "    depth_data = np.load(file)\n",
    "    depth_frames = depth_data['arr_0']\n",
    "    samhi = generate_mhi(depth_frames)\n",
    "    cv2.imwrite(f'./mhi/random/{file_name}.png', samhi)"
   ]
  },
  {
   "attachments": {},
   "cell_type": "markdown",
   "metadata": {},
   "source": [
    "# SIFT"
   ]
  },
  {
   "cell_type": "code",
   "execution_count": null,
   "metadata": {},
   "outputs": [],
   "source": [
    "def extract_sift_features(mhis):\n",
    "    keypoints_list = []\n",
    "    descriptors_list = []\n",
    "    sift = cv2.xfeatures2d.SIFT_create()\n",
    "    for mhi in mhis:\n",
    "        keypoints, descriptors = sift.detectAndCompute(mhi, None)\n",
    "        if descriptors is not None:  # Check if descriptors are None\n",
    "            keypoints_list.append(keypoints)\n",
    "            descriptors_list.append(descriptors)\n",
    "\n",
    "    return keypoints_list, descriptors_list"
   ]
  },
  {
   "cell_type": "code",
   "execution_count": null,
   "metadata": {},
   "outputs": [],
   "source": [
    "jab_mhi_files = [file for file in glob.glob('./mhi/jab/*.png')]\n",
    "jab_mhis = [cv2.imread(jab_mhi) for jab_mhi in jab_mhi_files]\n",
    "jab_mhi_features = extract_sift_features(jab_mhis)\n",
    "\n",
    "cross_mhi_files = [file for file in glob.glob('./mhi/cross/*.png')]\n",
    "cross_mhis = [cv2.imread(cross_mhi) for cross_mhi in cross_mhi_files]\n",
    "cross_mhi_features = extract_sift_features(cross_mhis)\n",
    "\n",
    "left_hook_mhi_files = [file for file in glob.glob('./mhi/left_hook/*.png')]\n",
    "left_hook_mhis = [cv2.imread(left_hook_mhi) for left_hook_mhi in left_hook_mhi_files]\n",
    "left_hook_mhi_features = extract_sift_features(left_hook_mhis)\n",
    "\n",
    "right_hook_mhi_files = [file for file in glob.glob('./mhi/right_hook/*.png')]\n",
    "right_hook_mhis = [cv2.imread(right_hook_mhi) for right_hook_mhi in right_hook_mhi_files]\n",
    "right_hook_mhi_features = extract_sift_features(right_hook_mhis)\n",
    "\n",
    "random_mhi_files = [file for file in glob.glob('./mhi/random/*.png')]\n",
    "random_mhis = [cv2.imread(random_mhi) for random_mhi in random_mhi_files]\n",
    "random_mhi_features = extract_sift_features(random_mhis)\n"
   ]
  },
  {
   "cell_type": "code",
   "execution_count": null,
   "metadata": {},
   "outputs": [],
   "source": [
    "def visualize_sift_features(images, features):\n",
    "    for i in range(len(images)):\n",
    "        img = images[i].copy()\n",
    "        keypoints, descriptors = features[i]\n",
    "        for kp in keypoints:\n",
    "            x, y = kp.pt\n",
    "            cv2.circle(img, (int(x), int(y)), 2, (0, 255, 0), -1)\n",
    "        cv2.imshow(f\"Image {i+1}\", img)\n",
    "        cv2.waitKey(0)\n",
    "    cv2.destroyAllWindows()\n",
    "\n",
    "visualize_sift_features(jab_mhis, jab_mhi_features)"
   ]
  }
 ],
 "metadata": {
  "kernelspec": {
   "display_name": "Python 3",
   "language": "python",
   "name": "python3"
  },
  "language_info": {
   "codemirror_mode": {
    "name": "ipython",
    "version": 3
   },
   "file_extension": ".py",
   "mimetype": "text/x-python",
   "name": "python",
   "nbconvert_exporter": "python",
   "pygments_lexer": "ipython3",
   "version": "3.11.0"
  },
  "orig_nbformat": 4,
  "vscode": {
   "interpreter": {
    "hash": "369f2c481f4da34e4445cda3fffd2e751bd1c4d706f27375911949ba6bb62e1c"
   }
  }
 },
 "nbformat": 4,
 "nbformat_minor": 2
}
