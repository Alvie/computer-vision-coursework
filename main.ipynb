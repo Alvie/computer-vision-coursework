{
 "cells": [
  {
   "attachments": {},
   "cell_type": "markdown",
   "metadata": {},
   "source": [
    "# Imports"
   ]
  },
  {
   "cell_type": "code",
   "execution_count": 2,
   "metadata": {},
   "outputs": [],
   "source": [
    "import cv2\n",
    "import numpy as np\n",
    "import pandas as pd\n",
    "import time\n",
    "import pickle\n",
    "import PIL\n",
    "import os\n",
    "import winsound\n",
    "\n",
    "from matplotlib import pyplot as plt\n",
    "\n",
    "from pykinect2 import PyKinectV2\n",
    "from pykinect2.PyKinectV2 import *\n",
    "from pykinect2 import PyKinectRuntime\n",
    "\n",
    "from collections import deque"
   ]
  },
  {
   "attachments": {},
   "cell_type": "markdown",
   "metadata": {},
   "source": [
    "# Recording data from Kinect v2"
   ]
  },
  {
   "cell_type": "code",
   "execution_count": 29,
   "metadata": {},
   "outputs": [],
   "source": [
    "def play_beep(duration):\n",
    "    winsound.Beep(2500, duration)\n"
   ]
  },
  {
   "cell_type": "code",
   "execution_count": 30,
   "metadata": {},
   "outputs": [],
   "source": [
    "kinect = PyKinectRuntime.PyKinectRuntime(PyKinectV2.FrameSourceTypes_Color | PyKinectV2.FrameSourceTypes_Depth)\n",
    "kinect.close()"
   ]
  },
  {
   "cell_type": "code",
   "execution_count": 31,
   "metadata": {},
   "outputs": [],
   "source": [
    "def reshape_frames(color_frames, depth_frames):\n",
    "    reshaped_color_frames = deque(maxlen=60)\n",
    "    reshaped_depth_frames = deque(maxlen=60)\n",
    "\n",
    "    for color_frame in color_frames:\n",
    "        reshaped_color_frame = color_frame.reshape((kinect.color_frame_desc.Height, kinect.color_frame_desc.Width, -1)).astype(np.uint8)\n",
    "        reshaped_color_frame = cv2.resize(reshaped_color_frame, (681,383))\n",
    "        reshaped_color_frame = reshaped_color_frame[:,158:541,:]\n",
    "        print(\"SHAPE\", reshaped_color_frame.shape)\n",
    "        reshaped_color_frames.append(reshaped_color_frame)\n",
    "\n",
    "    for depth_frame in depth_frames:\n",
    "        reshaped_depth_frame = depth_frame.reshape((kinect.depth_frame_desc.Height, kinect.depth_frame_desc.Width)).astype(np.uint16)\n",
    "        reshaped_depth_frame = reshaped_depth_frame[16:399,64:447]\n",
    "        reshaped_depth_frames.append(reshaped_depth_frame)\n",
    "\n",
    "    return reshaped_color_frames, reshaped_depth_frames\n",
    "\n",
    "def save_to_npz(name, action, color_frames, depth_frames):\n",
    "    color_file_path = f'./numpy_data_arrays/{action}/{name}_color.npz'\n",
    "    depth_file_path = f'./numpy_data_arrays/{action}/{name}_depth.npz'\n",
    "    np.savez_compressed(color_file_path, np.array(color_frames))\n",
    "    np.savez_compressed(depth_file_path, np.array(depth_frames))\n",
    "\n",
    "def record_to_video_files(name, action, color_frames, depth_frames):\n",
    "    fourcc = cv2.VideoWriter_fourcc(*'MJPG')\n",
    "    color_file_path = f'./videos/{action}/{name}_color.mov'\n",
    "    depth_file_path = f'./videos/{action}/{name}_depth.mov'\n",
    "\n",
    "    color_video_writer = cv2.VideoWriter(color_file_path, fourcc, len(color_frames) // 2, (383, 383))\n",
    "    depth_video_writer = cv2.VideoWriter(depth_file_path, fourcc, len(depth_frames) // 2, (383, 383), isColor=False)\n",
    "\n",
    "    for color_frame in color_frames:\n",
    "        frame_to_add = cv2.cvtColor(color_frame, cv2.COLOR_RGBA2RGB)\n",
    "        color_video_writer.write(frame_to_add)\n",
    "    color_video_writer.release()\n",
    "\n",
    "    for depth_frame in depth_frames:\n",
    "        frame_to_add = depth_frame.astype(np.uint8)\n",
    "\n",
    "        depth_video_writer.write(frame_to_add)\n",
    "\n",
    "    depth_video_writer.release()\n",
    "\n",
    "    return None\n",
    "\n",
    "def record_new_rgbd_data(name, action):\n",
    "    color_frames = deque(maxlen=60)  \n",
    "    depth_frames = deque(maxlen=60)\n",
    "    timeStart = time.time()\n",
    "    # WARM START / Countdown - 3 seconds of color and depth\n",
    "    while time.time() < timeStart + 3:\n",
    "        if kinect.has_new_color_frame():\n",
    "            color_frame = kinect.get_last_color_frame()\n",
    "            depth_frame = kinect.get_last_depth_frame()\n",
    "    play_beep(200)\n",
    "    # Record 2 seconds of color and depth\n",
    "    while time.time() < timeStart + 5:\n",
    "        if kinect.has_new_color_frame():\n",
    "            color_frame = kinect.get_last_color_frame()\n",
    "            depth_frame = kinect.get_last_depth_frame()\n",
    "            color_frames.append(color_frame)\n",
    "            depth_frames.append(depth_frame)\n",
    "    play_beep(600)\n",
    "    \n",
    "    kinect.close()\n",
    "    print(len(depth_frames))\n",
    "    print(\"RECORDING DONE\")\n",
    "    reshaped_color_frames, reshaped_depth_frames = reshape_frames(color_frames, depth_frames)\n",
    "    print(\"FRAMES RESHAPED\")\n",
    "    save_to_npz(name, action, reshaped_color_frames, reshaped_depth_frames)\n",
    "    print(\"SAVED TO NPZ\")\n",
    "    record_to_video_files(name, action, reshaped_color_frames, reshaped_depth_frames)\n",
    "    print(\"VIDEO RECORDED\")\n",
    "\n",
    "    return None"
   ]
  },
  {
   "cell_type": "code",
   "execution_count": 32,
   "metadata": {},
   "outputs": [
    {
     "ename": "TypeError",
     "evalue": "play_beep() missing 1 required positional argument: 'duration'",
     "output_type": "error",
     "traceback": [
      "\u001b[1;31m---------------------------------------------------------------------------\u001b[0m",
      "\u001b[1;31mTypeError\u001b[0m                                 Traceback (most recent call last)",
      "Cell \u001b[1;32mIn[32], line 3\u001b[0m\n\u001b[0;32m      1\u001b[0m kinect \u001b[39m=\u001b[39m PyKinectRuntime\u001b[39m.\u001b[39mPyKinectRuntime(PyKinectV2\u001b[39m.\u001b[39mFrameSourceTypes_Color \u001b[39m|\u001b[39m PyKinectV2\u001b[39m.\u001b[39mFrameSourceTypes_Depth)\n\u001b[0;32m      2\u001b[0m \u001b[39mfor\u001b[39;00m i \u001b[39min\u001b[39;00m \u001b[39mrange\u001b[39m(\u001b[39m1\u001b[39m, \u001b[39m21\u001b[39m):\n\u001b[1;32m----> 3\u001b[0m     record_new_rgbd_data(\u001b[39mf\u001b[39;49m\u001b[39m'\u001b[39;49m\u001b[39mjab_\u001b[39;49m\u001b[39m{\u001b[39;49;00mi\u001b[39m}\u001b[39;49;00m\u001b[39m'\u001b[39;49m, \u001b[39m'\u001b[39;49m\u001b[39mjab\u001b[39;49m\u001b[39m'\u001b[39;49m)\n\u001b[0;32m      4\u001b[0m \u001b[39mfor\u001b[39;00m i \u001b[39min\u001b[39;00m \u001b[39mrange\u001b[39m(\u001b[39m1\u001b[39m, \u001b[39m21\u001b[39m):\n\u001b[0;32m      5\u001b[0m     record_new_rgbd_data(\u001b[39mf\u001b[39m\u001b[39m'\u001b[39m\u001b[39mcross_\u001b[39m\u001b[39m{\u001b[39;00mi\u001b[39m}\u001b[39;00m\u001b[39m'\u001b[39m, \u001b[39m'\u001b[39m\u001b[39mcross\u001b[39m\u001b[39m'\u001b[39m)\n",
      "Cell \u001b[1;32mIn[31], line 56\u001b[0m, in \u001b[0;36mrecord_new_rgbd_data\u001b[1;34m(name, action)\u001b[0m\n\u001b[0;32m     54\u001b[0m         color_frame \u001b[39m=\u001b[39m kinect\u001b[39m.\u001b[39mget_last_color_frame()\n\u001b[0;32m     55\u001b[0m         depth_frame \u001b[39m=\u001b[39m kinect\u001b[39m.\u001b[39mget_last_depth_frame()\n\u001b[1;32m---> 56\u001b[0m play_beep()\n\u001b[0;32m     57\u001b[0m \u001b[39m# Record 2 seconds of color and depth\u001b[39;00m\n\u001b[0;32m     58\u001b[0m \u001b[39mwhile\u001b[39;00m time\u001b[39m.\u001b[39mtime() \u001b[39m<\u001b[39m timeStart \u001b[39m+\u001b[39m \u001b[39m5\u001b[39m:\n",
      "\u001b[1;31mTypeError\u001b[0m: play_beep() missing 1 required positional argument: 'duration'"
     ]
    }
   ],
   "source": [
    "kinect = PyKinectRuntime.PyKinectRuntime(PyKinectV2.FrameSourceTypes_Color | PyKinectV2.FrameSourceTypes_Depth)\n",
    "for i in range(1, 26):\n",
    "    record_new_rgbd_data(f'jab_{i}', 'jab')\n",
    "for i in range(1, 26):\n",
    "    record_new_rgbd_data(f'cross_{i}', 'cross')\n",
    "for i in range(1, 26):\n",
    "    record_new_rgbd_data(f'left_hook_{i}', 'left_hook')\n",
    "for i in range(1, 26):\n",
    "    record_new_rgbd_data(f'right_hook_{i}', 'right_hook')\n",
    "kinect.close()"
   ]
  }
 ],
 "metadata": {
  "kernelspec": {
   "display_name": "Python 3",
   "language": "python",
   "name": "python3"
  },
  "language_info": {
   "codemirror_mode": {
    "name": "ipython",
    "version": 3
   },
   "file_extension": ".py",
   "mimetype": "text/x-python",
   "name": "python",
   "nbconvert_exporter": "python",
   "pygments_lexer": "ipython3",
   "version": "3.11.0"
  },
  "orig_nbformat": 4,
  "vscode": {
   "interpreter": {
    "hash": "369f2c481f4da34e4445cda3fffd2e751bd1c4d706f27375911949ba6bb62e1c"
   }
  }
 },
 "nbformat": 4,
 "nbformat_minor": 2
}
