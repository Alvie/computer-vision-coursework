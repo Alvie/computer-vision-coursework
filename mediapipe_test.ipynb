{
 "cells": [
  {
   "cell_type": "code",
   "execution_count": 34,
   "metadata": {},
   "outputs": [],
   "source": [
    "import cv2\n",
    "import mediapipe as mp\n",
    "import numpy as np\n",
    "\n",
    "mp_drawing = mp.solutions.drawing_utils\n",
    "mp_pose = mp.solutions.p"
   ]
  },
  {
   "cell_type": "code",
   "execution_count": 5,
   "metadata": {},
   "outputs": [],
   "source": [
    "loaded_color_npz = np.load('./numpy_data_arrays/jab/jab_10_color.npz')\n",
    "color_data = loaded_color_npz['arr_0']\n"
   ]
  },
  {
   "cell_type": "code",
   "execution_count": 17,
   "metadata": {},
   "outputs": [],
   "source": [
    "with mp_pose.Pose(min_detection_confidence=0.5, min_tracking_confidence=0.5) as pose:\n",
    "    for frame in color_data:\n",
    "        image = cv2.cvtColor(frame, cv2.COLOR_BGRA2RGB)\n",
    "        image.flags.writeable = False\n",
    "        cv2.imshow(\"IMAGE DETECTIONS\", image)\n",
    "\n",
    "        pose_results = pose.process(image)\n",
    "\n",
    "        image.flags.writeable = True\n",
    "        image = cv2.cvtColor(image, cv2.COLOR_RGB2BGR)\n",
    "\n",
    "        mp_drawing.draw_landmarks(image, pose_results.pose_landmarks, mp_pose.POSE_CONNECTIONS,\n",
    "                                  mp_drawing.DrawingSpec(color=(245, 117, 66), thickness=2, circle_radius=2),\n",
    "                                  mp_drawing.DrawingSpec(color=(245, 66, 230), thickness=2, circle_radius=2)\n",
    "                                  )\n",
    "        cv2.imshow(\"MEDIAPIPE DETECTIONS\", image)\n",
    "        \n",
    "        cv2.waitKey(0)\n",
    "        cv2.destroyAllWindows()\n"
   ]
  },
  {
   "cell_type": "code",
   "execution_count": 18,
   "metadata": {},
   "outputs": [],
   "source": [
    "with mp_pose.Pose(min_detection_confidence=0.5, min_tracking_confidence=0.5) as pose:\n",
    "    for frame in color_data:\n",
    "        image = cv2.cvtColor(frame, cv2.COLOR_BGRA2RGB)\n",
    "        image.flags.writeable = False\n",
    "\n",
    "        pose_results = pose.process(image)\n",
    "\n",
    "        image.flags.writeable = True\n",
    "        image = cv2.cvtColor(image, cv2.COLOR_RGB2BGR)\n",
    "\n",
    "        try:\n",
    "            landmarks = pose_results.pose_landmarks.landmark\n",
    "        except:\n",
    "            pass\n",
    "\n",
    "        mp_drawing.draw_landmarks(image, pose_results.pose_landmarks, mp_pose.POSE_CONNECTIONS,\n",
    "                                  mp_drawing.DrawingSpec(color=(245, 117, 66), thickness=2, circle_radius=2),\n",
    "                                  mp_drawing.DrawingSpec(color=(245, 66, 230), thickness=2, circle_radius=2)\n",
    "                                  )\n",
    "        cv2.imshow(\"MEDIAPIPE DETECTIONS\", image)\n",
    "        \n",
    "        cv2.waitKey(0)\n",
    "        cv2.destroyAllWindows()\n"
   ]
  },
  {
   "cell_type": "code",
   "execution_count": 33,
   "metadata": {},
   "outputs": [
    {
     "name": "stdout",
     "output_type": "stream",
     "text": [
      "0\n",
      "1\n",
      "2\n",
      "3\n",
      "4\n",
      "5\n",
      "6\n",
      "7\n",
      "8\n",
      "9\n",
      "10\n",
      "11\n",
      "12\n",
      "13\n",
      "14\n",
      "15\n",
      "16\n",
      "17\n",
      "18\n",
      "19\n",
      "20\n",
      "21\n",
      "22\n",
      "23\n",
      "24\n",
      "25\n",
      "26\n",
      "27\n",
      "28\n",
      "29\n",
      "30\n",
      "31\n",
      "32\n"
     ]
    },
    {
     "data": {
      "text/plain": [
       "[(<PoseLandmark.NOSE: 0>, 0),\n",
       " (<PoseLandmark.LEFT_EYE_INNER: 1>, 1),\n",
       " (<PoseLandmark.LEFT_EYE: 2>, 2),\n",
       " (<PoseLandmark.LEFT_EYE_OUTER: 3>, 3),\n",
       " (<PoseLandmark.RIGHT_EYE_INNER: 4>, 4),\n",
       " (<PoseLandmark.RIGHT_EYE: 5>, 5),\n",
       " (<PoseLandmark.RIGHT_EYE_OUTER: 6>, 6),\n",
       " (<PoseLandmark.LEFT_EAR: 7>, 7),\n",
       " (<PoseLandmark.RIGHT_EAR: 8>, 8),\n",
       " (<PoseLandmark.MOUTH_LEFT: 9>, 9),\n",
       " (<PoseLandmark.MOUTH_RIGHT: 10>, 10),\n",
       " (<PoseLandmark.LEFT_SHOULDER: 11>, 11),\n",
       " (<PoseLandmark.RIGHT_SHOULDER: 12>, 12),\n",
       " (<PoseLandmark.LEFT_ELBOW: 13>, 13),\n",
       " (<PoseLandmark.RIGHT_ELBOW: 14>, 14),\n",
       " (<PoseLandmark.LEFT_WRIST: 15>, 15),\n",
       " (<PoseLandmark.RIGHT_WRIST: 16>, 16),\n",
       " (<PoseLandmark.LEFT_PINKY: 17>, 17),\n",
       " (<PoseLandmark.RIGHT_PINKY: 18>, 18),\n",
       " (<PoseLandmark.LEFT_INDEX: 19>, 19),\n",
       " (<PoseLandmark.RIGHT_INDEX: 20>, 20),\n",
       " (<PoseLandmark.LEFT_THUMB: 21>, 21),\n",
       " (<PoseLandmark.RIGHT_THUMB: 22>, 22),\n",
       " (<PoseLandmark.LEFT_HIP: 23>, 23),\n",
       " (<PoseLandmark.RIGHT_HIP: 24>, 24),\n",
       " (<PoseLandmark.LEFT_KNEE: 25>, 25),\n",
       " (<PoseLandmark.RIGHT_KNEE: 26>, 26),\n",
       " (<PoseLandmark.LEFT_ANKLE: 27>, 27),\n",
       " (<PoseLandmark.RIGHT_ANKLE: 28>, 28),\n",
       " (<PoseLandmark.LEFT_HEEL: 29>, 29),\n",
       " (<PoseLandmark.RIGHT_HEEL: 30>, 30),\n",
       " (<PoseLandmark.LEFT_FOOT_INDEX: 31>, 31),\n",
       " (<PoseLandmark.RIGHT_FOOT_INDEX: 32>, 32)]"
      ]
     },
     "execution_count": 33,
     "metadata": {},
     "output_type": "execute_result"
    }
   ],
   "source": [
    "for landmark in mp_pose.PoseLandmark:\n",
    "    print((landmark))\n",
    "\n",
    "[(e, e.value) for e in mp_pose.PoseLandmark]"
   ]
  }
 ],
 "metadata": {
  "kernelspec": {
   "display_name": "Python 3",
   "language": "python",
   "name": "python3"
  },
  "language_info": {
   "codemirror_mode": {
    "name": "ipython",
    "version": 3
   },
   "file_extension": ".py",
   "mimetype": "text/x-python",
   "name": "python",
   "nbconvert_exporter": "python",
   "pygments_lexer": "ipython3",
   "version": "3.11.0"
  },
  "orig_nbformat": 4
 },
 "nbformat": 4,
 "nbformat_minor": 2
}
