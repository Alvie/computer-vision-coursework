{
 "cells": [
  {
   "cell_type": "code",
   "execution_count": 106,
   "metadata": {},
   "outputs": [],
   "source": [
    "import cv2\n",
    "import mediapipe as mp\n",
    "import numpy as np\n",
    "\n",
    "mp_drawing = mp.solutions.drawing_utils\n",
    "mp_pose = mp.solutions.pose"
   ]
  },
  {
   "cell_type": "code",
   "execution_count": 107,
   "metadata": {},
   "outputs": [],
   "source": [
    "import glob\n",
    "\n",
    "jab_color_files = [file for file in glob.glob('./numpy_data_arrays/jab/*color.npz')]\n",
    "cross_color_files = [file for file in glob.glob('./numpy_data_arrays/cross/*color.npz')]\n",
    "left_hook_color_files = [file for file in glob.glob('./numpy_data_arrays/left_hook/*color.npz')]\n",
    "right_hook_color_files = [file for file in glob.glob('./numpy_data_arrays/right_hook/*color.npz')]\n",
    "random_color_files = [file for file in glob.glob('./numpy_data_arrays/random/*color.npz')]"
   ]
  },
  {
   "cell_type": "code",
   "execution_count": 108,
   "metadata": {},
   "outputs": [],
   "source": [
    "# Extract 6 frames evenly spread out\n",
    "def extract_frames(frames):\n",
    "    extracted_frames = []\n",
    "    for i in range(1, 7):\n",
    "        frame_to_extract = (i * (frames.shape[0]) // 6 ) - 1\n",
    "        extracted_frames.append(frames[frame_to_extract])\n",
    "    return np.array(extracted_frames)"
   ]
  },
  {
   "cell_type": "code",
   "execution_count": 109,
   "metadata": {},
   "outputs": [],
   "source": [
    "def get_landmarks(frames):\n",
    "    landmarks_coords = []\n",
    "\n",
    "    with mp_pose.Pose(min_detection_confidence=0.5, min_tracking_confidence=0.5) as pose:\n",
    "        for frame in frames:\n",
    "            image = cv2.cvtColor(frame, cv2.COLOR_BGRA2RGB)\n",
    "            image.flags.writeable = False\n",
    "\n",
    "            pose_results = pose.process(image)\n",
    "\n",
    "            image.flags.writeable = True\n",
    "            image = cv2.cvtColor(image, cv2.COLOR_RGB2BGR)\n",
    "\n",
    "            try:\n",
    "                landmarks = pose_results.pose_landmarks.landmark\n",
    "                # print (landmarks)\n",
    "                landmarks_coords.append([[landmark.x, landmark.y] for landmark in landmarks])\n",
    "\n",
    "            except:\n",
    "                pass\n",
    "        return np.array(landmarks_coords).ravel()"
   ]
  },
  {
   "cell_type": "code",
   "execution_count": 133,
   "metadata": {},
   "outputs": [],
   "source": [
    "X = []\n",
    "y = []\n",
    "\n",
    "for file in jab_color_files:\n",
    "    load_data = np.load(file)\n",
    "    color_data = load_data['arr_0']\n",
    "    frames = extract_frames(color_data)\n",
    "    landmarks = get_landmarks(frames)\n",
    "    X.append(landmarks)\n",
    "    y.append('jab')\n",
    "\n",
    "for file in cross_color_files:\n",
    "    load_data = np.load(file)\n",
    "    color_data = load_data['arr_0']\n",
    "    frames = extract_frames(color_data)\n",
    "    landmarks = get_landmarks(frames)\n",
    "    X.append(landmarks)\n",
    "    y.append('cross')\n",
    "\n",
    "for file in left_hook_color_files:\n",
    "    load_data = np.load(file)\n",
    "    color_data = load_data['arr_0']\n",
    "    frames = extract_frames(color_data)\n",
    "    landmarks = get_landmarks(frames)\n",
    "    X.append(landmarks)\n",
    "    y.append('left_hook')\n",
    "\n",
    "for file in right_hook_color_files:\n",
    "    load_data = np.load(file)\n",
    "    color_data = load_data['arr_0']\n",
    "    frames = extract_frames(color_data)\n",
    "    landmarks = get_landmarks(frames)\n",
    "    X.append(landmarks)\n",
    "    y.append('right_hook')\n",
    "\n",
    "# for file in random_color_files:\n",
    "#     load_data = np.load(file)\n",
    "#     color_data = load_data['arr_0']\n",
    "#     frames = extract_frames(color_data)\n",
    "#     landmarks = get_landmarks(frames)\n",
    "#     X.append(landmarks)\n",
    "#     y.append('random')"
   ]
  },
  {
   "cell_type": "code",
   "execution_count": 152,
   "metadata": {},
   "outputs": [],
   "source": [
    "from sklearn.model_selection import train_test_split\n",
    "X = np.array(X)\n",
    "y = np.array(y)\n",
    "X_train, X_test, y_train, y_test = train_test_split(X, y, test_size=0.8, random_state=21)"
   ]
  },
  {
   "cell_type": "code",
   "execution_count": 135,
   "metadata": {},
   "outputs": [
    {
     "data": {
      "text/plain": [
       "(20, 396)"
      ]
     },
     "execution_count": 135,
     "metadata": {},
     "output_type": "execute_result"
    }
   ],
   "source": [
    "X_train.shape"
   ]
  },
  {
   "cell_type": "code",
   "execution_count": 136,
   "metadata": {},
   "outputs": [
    {
     "data": {
      "text/plain": [
       "(80, 396)"
      ]
     },
     "execution_count": 136,
     "metadata": {},
     "output_type": "execute_result"
    }
   ],
   "source": [
    "X_test.shape"
   ]
  },
  {
   "cell_type": "code",
   "execution_count": 147,
   "metadata": {},
   "outputs": [],
   "source": [
    "from sklearn.model_selection import KFold\n",
    "from sklearn.model_selection import cross_val_score, cross_val_predict\n",
    "\n",
    "def run_kfolds(model, x, y, splits):\n",
    "    kf = KFold(n_splits=splits, shuffle=True)\n",
    "    scores = cross_val_score(model, x, y, cv=kf, scoring=\"accuracy\")\n",
    "    predict = cross_val_predict(model, X, y, cv=kf)\n",
    "    return scores, predict"
   ]
  },
  {
   "cell_type": "code",
   "execution_count": 138,
   "metadata": {},
   "outputs": [
    {
     "name": "stdout",
     "output_type": "stream",
     "text": [
      "Accuracy: 0.95\n",
      "SVM Classification Report:\n",
      "              precision    recall  f1-score   support\n",
      "\n",
      "       cross       1.00      0.95      0.97        20\n",
      "         jab       0.95      0.90      0.93        21\n",
      "   left_hook       0.90      0.95      0.92        19\n",
      "  right_hook       0.95      1.00      0.98        20\n",
      "\n",
      "    accuracy                           0.95        80\n",
      "   macro avg       0.95      0.95      0.95        80\n",
      "weighted avg       0.95      0.95      0.95        80\n",
      "\n"
     ]
    },
    {
     "data": {
      "image/png": "[encoded data removed]",
      "text/plain": [
       "<Figure size 800x600 with 2 Axes>"
      ]
     },
     "metadata": {},
     "output_type": "display_data"
    }
   ],
   "source": [
    "from sklearn.svm import SVC\n",
    "from sklearn.metrics import accuracy_score, classification_report, confusion_matrix\n",
    "import seaborn as sns\n",
    "from matplotlib import pyplot as plt\n",
    "\n",
    "SVM = SVC(kernel='linear')\n",
    "\n",
    "SVM.fit(X_train, y_train)\n",
    "y_pred = SVM.predict(X_test)\n",
    "\n",
    "# Calculate evaluation metrics\n",
    "accuracy = accuracy_score(y_test, y_pred)\n",
    "svm_report = classification_report(y_test, y_pred)\n",
    "\n",
    "# Display the evaluation metrics\n",
    "print(\"Accuracy:\", accuracy)\n",
    "print(\"SVM Classification Report:\")\n",
    "print(svm_report)\n",
    "\n",
    "cm = confusion_matrix(y_test, y_pred)\n",
    "# Get the class labels from LabelEncoder\n",
    "# class_labels = label_encoder.classes_\n",
    "\n",
    "# Display the confusion matrix as a heatmap\n",
    "plt.figure(figsize=(8, 6))\n",
    "sns.heatmap(cm, annot=True, fmt='d', cmap='Blues')\n",
    "plt.xlabel('Predicted')\n",
    "plt.ylabel('True')\n",
    "plt.show()"
   ]
  },
  {
   "cell_type": "code",
   "execution_count": 148,
   "metadata": {},
   "outputs": [
    {
     "name": "stdout",
     "output_type": "stream",
     "text": [
      "Accuracy: 0.99\n",
      "Naive-Bayes Cross-Validation Classification Report:\n",
      "              precision    recall  f1-score   support\n",
      "\n",
      "       cross       1.00      1.00      1.00        25\n",
      "         jab       0.96      1.00      0.98        25\n",
      "   left_hook       1.00      0.96      0.98        25\n",
      "  right_hook       1.00      1.00      1.00        25\n",
      "\n",
      "    accuracy                           0.99       100\n",
      "   macro avg       0.99      0.99      0.99       100\n",
      "weighted avg       0.99      0.99      0.99       100\n",
      "\n"
     ]
    },
    {
     "data": {
      "image/png": "[encoded data removed]",
      "text/plain": [
       "<Figure size 800x600 with 2 Axes>"
      ]
     },
     "metadata": {},
     "output_type": "display_data"
    }
   ],
   "source": [
    "scores, predicts = run_kfolds(SVM, X, y, 5)\n",
    "\n",
    "# Calculate evaluation metrics\n",
    "accuracy = accuracy_score(y, predicts)\n",
    "svm_report = classification_report(y, predicts)\n",
    "\n",
    "# Display the evaluation metrics\n",
    "print(\"Accuracy:\", accuracy)\n",
    "print(\"Naive-Bayes Cross-Validation Classification Report:\")\n",
    "print(svm_report)\n",
    "\n",
    "cm = confusion_matrix(y, predicts)\n",
    "\n",
    "# Display the confusion matrix as a heatmap\n",
    "plt.figure(figsize=(8, 6))\n",
    "sns.heatmap(cm, annot=True, fmt='d', cmap='Blues')\n",
    "plt.xlabel('Predicted')\n",
    "plt.ylabel('True')\n",
    "plt.show()"
   ]
  },
  {
   "cell_type": "code",
   "execution_count": 140,
   "metadata": {},
   "outputs": [],
   "source": [
    "# landmarks[0].x"
   ]
  },
  {
   "cell_type": "code",
   "execution_count": 141,
   "metadata": {},
   "outputs": [],
   "source": [
    "# with mp_pose.Pose(min_detection_confidence=0.5, min_tracking_confidence=0.5) as pose:\n",
    "#     for frame in color_data:\n",
    "#         image = cv2.cvtColor(frame, cv2.COLOR_BGRA2RGB)\n",
    "#         image.flags.writeable = False\n",
    "#         cv2.imshow(\"IMAGE DETECTIONS\", image)\n",
    "\n",
    "#         pose_results = pose.process(image)\n",
    "\n",
    "#         image.flags.writeable = True\n",
    "#         image = cv2.cvtColor(image, cv2.COLOR_RGB2BGR)\n",
    "\n",
    "#         mp_drawing.draw_landmarks(image, pose_results.pose_landmarks, mp_pose.POSE_CONNECTIONS,\n",
    "#                                   mp_drawing.DrawingSpec(color=(245, 117, 66), thickness=2, circle_radius=2),\n",
    "#                                   mp_drawing.DrawingSpec(color=(245, 66, 230), thickness=2, circle_radius=2)\n",
    "#                                   )\n",
    "#         cv2.imshow(\"MEDIAPIPE DETECTIONS\", image)\n",
    "        \n",
    "#         cv2.waitKey(0)\n",
    "#         cv2.destroyAllWindows()\n"
   ]
  },
  {
   "cell_type": "code",
   "execution_count": 142,
   "metadata": {},
   "outputs": [],
   "source": [
    "# with mp_pose.Pose(min_detection_confidence=0.5, min_tracking_confidence=0.5) as pose:\n",
    "#     for frame in color_data:\n",
    "#         image = cv2.cvtColor(frame, cv2.COLOR_BGRA2RGB)\n",
    "#         image.flags.writeable = False\n",
    "\n",
    "#         pose_results = pose.process(image)\n",
    "\n",
    "#         image.flags.writeable = True\n",
    "#         image = cv2.cvtColor(image, cv2.COLOR_RGB2BGR)\n",
    "\n",
    "#         try:\n",
    "#             landmarks = pose_results.pose_landmarks.landmark\n",
    "#             print (landmarks)\n",
    "#         except:\n",
    "#             pass\n",
    "\n",
    "#         mp_drawing.draw_landmarks(image, pose_results.pose_landmarks, mp_pose.POSE_CONNECTIONS,\n",
    "#                                   mp_drawing.DrawingSpec(color=(245, 117, 66), thickness=2, circle_radius=2),\n",
    "#                                   mp_drawing.DrawingSpec(color=(245, 66, 230), thickness=2, circle_radius=2)\n",
    "#                                   )\n",
    "#         cv2.imshow(\"MEDIAPIPE DETECTIONS\", image)\n",
    "        \n",
    "#         cv2.waitKey(0)\n",
    "#         cv2.destroyAllWindows()\n"
   ]
  },
  {
   "cell_type": "code",
   "execution_count": 143,
   "metadata": {},
   "outputs": [
    {
     "data": {
      "text/plain": [
       "[(<PoseLandmark.NOSE: 0>, 0),\n",
       " (<PoseLandmark.LEFT_EYE_INNER: 1>, 1),\n",
       " (<PoseLandmark.LEFT_EYE: 2>, 2),\n",
       " (<PoseLandmark.LEFT_EYE_OUTER: 3>, 3),\n",
       " (<PoseLandmark.RIGHT_EYE_INNER: 4>, 4),\n",
       " (<PoseLandmark.RIGHT_EYE: 5>, 5),\n",
       " (<PoseLandmark.RIGHT_EYE_OUTER: 6>, 6),\n",
       " (<PoseLandmark.LEFT_EAR: 7>, 7),\n",
       " (<PoseLandmark.RIGHT_EAR: 8>, 8),\n",
       " (<PoseLandmark.MOUTH_LEFT: 9>, 9),\n",
       " (<PoseLandmark.MOUTH_RIGHT: 10>, 10),\n",
       " (<PoseLandmark.LEFT_SHOULDER: 11>, 11),\n",
       " (<PoseLandmark.RIGHT_SHOULDER: 12>, 12),\n",
       " (<PoseLandmark.LEFT_ELBOW: 13>, 13),\n",
       " (<PoseLandmark.RIGHT_ELBOW: 14>, 14),\n",
       " (<PoseLandmark.LEFT_WRIST: 15>, 15),\n",
       " (<PoseLandmark.RIGHT_WRIST: 16>, 16),\n",
       " (<PoseLandmark.LEFT_PINKY: 17>, 17),\n",
       " (<PoseLandmark.RIGHT_PINKY: 18>, 18),\n",
       " (<PoseLandmark.LEFT_INDEX: 19>, 19),\n",
       " (<PoseLandmark.RIGHT_INDEX: 20>, 20),\n",
       " (<PoseLandmark.LEFT_THUMB: 21>, 21),\n",
       " (<PoseLandmark.RIGHT_THUMB: 22>, 22),\n",
       " (<PoseLandmark.LEFT_HIP: 23>, 23),\n",
       " (<PoseLandmark.RIGHT_HIP: 24>, 24),\n",
       " (<PoseLandmark.LEFT_KNEE: 25>, 25),\n",
       " (<PoseLandmark.RIGHT_KNEE: 26>, 26),\n",
       " (<PoseLandmark.LEFT_ANKLE: 27>, 27),\n",
       " (<PoseLandmark.RIGHT_ANKLE: 28>, 28),\n",
       " (<PoseLandmark.LEFT_HEEL: 29>, 29),\n",
       " (<PoseLandmark.RIGHT_HEEL: 30>, 30),\n",
       " (<PoseLandmark.LEFT_FOOT_INDEX: 31>, 31),\n",
       " (<PoseLandmark.RIGHT_FOOT_INDEX: 32>, 32)]"
      ]
     },
     "execution_count": 143,
     "metadata": {},
     "output_type": "execute_result"
    }
   ],
   "source": [
    "# for landmark in mp_pose.PoseLandmark:\n",
    "#     print((landmark))\n",
    "\n",
    "[(e, e.value) for e in mp_pose.PoseLandmark]"
   ]
  },
  {
   "attachments": {},
   "cell_type": "markdown",
   "metadata": {},
   "source": [
    "vstack\n",
    "shape:\n",
    "num_frames x num_landmarks x 2\n",
    "\n",
    "ravel\n",
    "train = num_train_samples x num_frames x num_landmarks x 2\n",
    "test = num_test_samples x num_frames x num_landmarks x 2"
   ]
  },
  {
   "attachments": {},
   "cell_type": "markdown",
   "metadata": {},
   "source": [
    "Data augmentation, mirror\n",
    "\n",
    "K_folds show results for one fold\n",
    "\n",
    "Iterations vs Accuracy\n"
   ]
  },
  {
   "attachments": {},
   "cell_type": "markdown",
   "metadata": {},
   "source": []
  },
  {
   "cell_type": "code",
   "execution_count": 162,
   "metadata": {},
   "outputs": [
    {
     "name": "stdout",
     "output_type": "stream",
     "text": [
      "Accuracy: 0.975\n",
      "mlp Classification Report:\n",
      "              precision    recall  f1-score   support\n",
      "\n",
      "       cross       0.95      0.95      0.95        21\n",
      "         jab       1.00      1.00      1.00        22\n",
      "   left_hook       1.00      1.00      1.00        17\n",
      "  right_hook       0.95      0.95      0.95        20\n",
      "\n",
      "    accuracy                           0.97        80\n",
      "   macro avg       0.98      0.98      0.98        80\n",
      "weighted avg       0.97      0.97      0.97        80\n",
      "\n"
     ]
    },
    {
     "name": "stderr",
     "output_type": "stream",
     "text": [
      "C:\\Users\\alvie\\AppData\\Roaming\\Python\\Python311\\site-packages\\sklearn\\neural_network\\_multilayer_perceptron.py:684: ConvergenceWarning: Stochastic Optimizer: Maximum iterations (150) reached and the optimization hasn't converged yet.\n",
      "  warnings.warn(\n"
     ]
    },
    {
     "data": {
      "image/png": "[encoded data removed]",
      "text/plain": [
       "<Figure size 800x600 with 2 Axes>"
      ]
     },
     "metadata": {},
     "output_type": "display_data"
    }
   ],
   "source": [
    "#import the classifier\n",
    "from sklearn.neural_network import MLPClassifier\n",
    "\n",
    "# initialize the classifier\n",
    "#MLP = MLPClassifier(solver='lbfgs', alpha=1e-5, hidden_layer_sizes=(5, 2), random_state=1)\n",
    "MLP = MLPClassifier(max_iter=150)\n",
    "\n",
    "MLP.fit(X_train, y_train)\n",
    "y_pred = MLP.predict(X_test)\n",
    "\n",
    "# Calculate evaluation metrics\n",
    "accuracy = accuracy_score(y_test, y_pred)\n",
    "mlp_report = classification_report(y_test, y_pred)\n",
    "\n",
    "# Display the evaluation metrics\n",
    "print(\"Accuracy:\", accuracy)\n",
    "print(\"mlp Classification Report:\")\n",
    "print(mlp_report)\n",
    "\n",
    "cm = confusion_matrix(y_test, y_pred)\n",
    "# Get the class labels from LabelEncoder\n",
    "# class_labels = label_encoder.classes_\n",
    "\n",
    "# Display the confusion matrix as a heatmap\n",
    "plt.figure(figsize=(8, 6))\n",
    "sns.heatmap(cm, annot=True, fmt='d', cmap='Blues')\n",
    "plt.xlabel('Predicted')\n",
    "plt.ylabel('True')\n",
    "plt.show()"
   ]
  },
  {
   "cell_type": "code",
   "execution_count": 163,
   "metadata": {},
   "outputs": [
    {
     "name": "stdout",
     "output_type": "stream",
     "text": [
      "Accuracy: 0.7\n",
      "mlp Classification Report:\n",
      "              precision    recall  f1-score   support\n",
      "\n",
      "       cross       0.84      0.76      0.80        21\n",
      "         jab       0.88      0.32      0.47        22\n",
      "   left_hook       0.53      0.94      0.68        17\n",
      "  right_hook       0.74      0.85      0.79        20\n",
      "\n",
      "    accuracy                           0.70        80\n",
      "   macro avg       0.75      0.72      0.68        80\n",
      "weighted avg       0.76      0.70      0.68        80\n",
      "\n"
     ]
    },
    {
     "data": {
      "image/png": "[encoded data removed]",
      "text/plain": [
       "<Figure size 800x600 with 2 Axes>"
      ]
     },
     "metadata": {},
     "output_type": "display_data"
    }
   ],
   "source": [
    "from sklearn.ensemble import RandomForestClassifier\n",
    "clf = RandomForestClassifier(n_estimators=100)\n",
    "\n",
    "clf.fit(X_train, y_train)\n",
    "y_pred = clf.predict(X_test)\n",
    "\n",
    "# Calculate evaluation metrics\n",
    "accuracy = accuracy_score(y_test, y_pred)\n",
    "mlp_report = classification_report(y_test, y_pred)\n",
    "\n",
    "# Display the evaluation metrics\n",
    "print(\"Accuracy:\", accuracy)\n",
    "print(\"mlp Classification Report:\")\n",
    "print(mlp_report)\n",
    "\n",
    "cm = confusion_matrix(y_test, y_pred)\n",
    "# Get the class labels from LabelEncoder\n",
    "# class_labels = label_encoder.classes_\n",
    "\n",
    "# Display the confusion matrix as a heatmap\n",
    "plt.figure(figsize=(8, 6))\n",
    "sns.heatmap(cm, annot=True, fmt='d', cmap='Blues')\n",
    "plt.xlabel('Predicted')\n",
    "plt.ylabel('True')\n",
    "plt.show()"
   ]
  }
 ],
 "metadata": {
  "kernelspec": {
   "display_name": "Python 3",
   "language": "python",
   "name": "python3"
  },
  "language_info": {
   "codemirror_mode": {
    "name": "ipython",
    "version": 3
   },
   "file_extension": ".py",
   "mimetype": "text/x-python",
   "name": "python",
   "nbconvert_exporter": "python",
   "pygments_lexer": "ipython3",
   "version": "3.11.0"
  },
  "orig_nbformat": 4
 },
 "nbformat": 4,
 "nbformat_minor": 2
}
